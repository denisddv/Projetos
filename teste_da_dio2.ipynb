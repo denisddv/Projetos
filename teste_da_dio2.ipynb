{
  "nbformat": 4,
  "nbformat_minor": 0,
  "metadata": {
    "colab": {
      "provenance": [],
      "authorship_tag": "ABX9TyMPbTbcWFGDsX9PVbdFd8qp",
      "include_colab_link": true
    },
    "kernelspec": {
      "name": "python3",
      "display_name": "Python 3"
    },
    "language_info": {
      "name": "python"
    }
  },
  "cells": [
    {
      "cell_type": "markdown",
      "metadata": {
        "id": "view-in-github",
        "colab_type": "text"
      },
      "source": [
        "<a href=\"https://colab.research.google.com/github/denisddv/Projetos/blob/main/teste_da_dio2.ipynb\" target=\"_parent\"><img src=\"https://colab.research.google.com/assets/colab-badge.svg\" alt=\"Open In Colab\"/></a>"
      ]
    },
    {
      "cell_type": "code",
      "source": [
        "import textwrap\n",
        "\n",
        "\n",
        "def menu():\n",
        "  menu = \"\"\"\\n\n",
        "  ================== Menu ===============\n",
        "  [d]\\tDepositar\n",
        "  [s]\\t Sacar\n",
        "  [e]\\tExtrato\n",
        "  [nc]\\tNova conta\n",
        "  [lc]\\tListar contas\n",
        "  [nu]\\tNova usuário\n",
        "  [q]\\tSair\n",
        "   => \"\"\"\n",
        "  return input(textwrap.dedent(menu))\n",
        "\n",
        "\n",
        "\n",
        ""
      ],
      "metadata": {
        "id": "CAYTBuS_h0jB"
      },
      "execution_count": 23,
      "outputs": []
    },
    {
      "cell_type": "code",
      "source": [
        "def depositar(saldo, valor, extrato, /):\n",
        "  if valor > 0:\n",
        "    saldo += valor\n",
        "    extrato += f\"Depósito:\\tR$ {valor:.2f}\\n\"\n",
        "    print(\"\\n=== Depósito realizado com sucesso! ===\")\n",
        "  else:\n",
        "       print(\"\\n@@@ operação falhou! @@@\")\n",
        "  return saldo, extrato"
      ],
      "metadata": {
        "id": "PUcRAYm3lDDm"
      },
      "execution_count": 24,
      "outputs": []
    },
    {
      "cell_type": "code",
      "source": [
        "def sacar(*, saldo, valor, extrato, limite, numero_saques, limite_saques):\n",
        "  excedeu_saldo = valor > saldo\n",
        "  excedeu_limite = valor > limite\n",
        "  excedeu_saques = numero_saques >= limite_saques\n",
        "  if excedeu_saldo:\n",
        "    print(\"\\n@@@ Operação falhou! Você não tem saldo suficiente. @@@\")\n",
        "  elif excedeu_limite:\n",
        "    print(\"\\n@@@ Operação falhou! o valor do saque excedeu  limite. @@@\")\n",
        "  elif excedeu_saques:\n",
        "    print(\"\\n@@@ Operação falhou! Numero de saques excedido. @@@\")\n",
        "  elif valor > 0:\n",
        "    saldo -= valor\n",
        "    extrato += f\"saque:\\t\\tR$ {valor:.2f}\\n\"\n",
        "    numero_saques += 1\n",
        "    print(\"\\n=== Saque realizado com sucesso! ===\")\n",
        "  else:\n",
        "    print(\"\\n@@@ Operação falhou! Valor errado. @@@\")\n",
        "  return saldo, extrato\n",
        "\n"
      ],
      "metadata": {
        "id": "_IFmkosul8pT"
      },
      "execution_count": 25,
      "outputs": []
    },
    {
      "cell_type": "code",
      "source": [
        "def exibir_extrato(saldo,/,*, extrato):\n",
        "  print(\"\\n====================== Extrato===================\")\n",
        "  print(\"Não foram realizadas movimentações.\" if not extrato else extrato)\n",
        "  print(f\"\\nSaldo:\\t\\tR$ {saldo:.2f}\")\n",
        "  print(\"====================================\")"
      ],
      "metadata": {
        "id": "1nHLxnn7npq8"
      },
      "execution_count": 27,
      "outputs": []
    },
    {
      "cell_type": "code",
      "source": [
        "def criar_usuario(usuarios):\n",
        "  cpf = input(\"Informe o cpf(somente números):  \")\n",
        "  usuario = filtrar_usuario(cpf, usuarios)\n",
        "  if usuario:\n",
        "    print(\"\\n@@@ Já existe usuário com esse cpf! @@@\")\n",
        "    return\n",
        "  nome = input(\"Informe o nome completo:\")\n",
        "  data_nascimento = input(\"Informe o data_nascimento:\")\n",
        "  endereco = input(\"Informe o  endereço completo:\")\n",
        "\n",
        "  usuarios.append({\"nome\" : nome, \"data_nascimento\" : data_nascimento, \"cpf\": cpf, \"endereco\": endereco })\n",
        "\n",
        "  print(\"=== Usuário criado com sucesso! ===\")"
      ],
      "metadata": {
        "id": "fbmhU8NOpWQu"
      },
      "execution_count": 28,
      "outputs": []
    },
    {
      "cell_type": "code",
      "source": [
        "def filtrar_usuario(cpf, usuarios):\n",
        "  usuarios_filtrados = [usuario for usuario in usuarios if usuario[\"cpf\"] == cpf]\n",
        "  return usuarios_filtrados[0] if usuarios_filtrados else None"
      ],
      "metadata": {
        "id": "T8bePqOkq74B"
      },
      "execution_count": 29,
      "outputs": []
    },
    {
      "cell_type": "code",
      "source": [
        "def criar_conta(agencia, numero_conta, usuarios):\n",
        "  cpf =  input(\"Informe o CPF do usuario: \")\n",
        "  usuario = filtrar_usuario(cpf, usuarios)\n",
        "\n",
        "  if usuario:\n",
        "    print(\"\\n=== Conta criada com sucesso! ===\")\n",
        "    return { \"agencia\": agencia, \"numero_conta\" : numero_conta, \"usuario\" : usuario}\n",
        "  print(\"\\n@@@ Usuariio não encontrado, encerrando processo! @@@\")"
      ],
      "metadata": {
        "id": "0sTLfyBdrmrf"
      },
      "execution_count": 30,
      "outputs": []
    },
    {
      "cell_type": "code",
      "source": [
        "def listar_contas(contas):\n",
        "  for conta in contas:\n",
        "    linha = f\"\"\"\\\n",
        "      Agencia:\\t{conta['agencia'] }\n",
        "      C/C:\\t{conta['numero_conta']}\n",
        "      Titular:\\t{conta['usuario']['nome']}\n",
        "    \"\"\"\n",
        "    print(\"=\"* 100)\n",
        "    print(textwrap.dedent(linha))"
      ],
      "metadata": {
        "id": "sdQ2CYYlsiZS"
      },
      "execution_count": 31,
      "outputs": []
    },
    {
      "cell_type": "code",
      "execution_count": 32,
      "metadata": {
        "id": "kptgiwXuz8Pn",
        "colab": {
          "base_uri": "https://localhost:8080/",
          "height": 447
        },
        "outputId": "2364d104-0cd9-4529-d019-981dd724a9e9"
      },
      "outputs": [
        {
          "name": "stdout",
          "output_type": "stream",
          "text": [
            "\n",
            "\n",
            "================== Menu ===============\n",
            "[d]\tDepositar\n",
            "[s]\t Sacar\n",
            "[e]\tExtrato\n",
            "[nc]\tNova conta\n",
            "[lc]\tListar contas\n",
            "[nu]\tNova usuário\n",
            "[q]\tSair\n",
            " => nu\n"
          ]
        },
        {
          "output_type": "error",
          "ename": "NameError",
          "evalue": "ignored",
          "traceback": [
            "\u001b[0;31m---------------------------------------------------------------------------\u001b[0m",
            "\u001b[0;31mNameError\u001b[0m                                 Traceback (most recent call last)",
            "\u001b[0;32m<ipython-input-32-d340a7413d62>\u001b[0m in \u001b[0;36m<cell line: 10>\u001b[0;34m()\u001b[0m\n\u001b[1;32m     32\u001b[0m \u001b[0;34m\u001b[0m\u001b[0m\n\u001b[1;32m     33\u001b[0m     \u001b[0;32melif\u001b[0m \u001b[0mopcao\u001b[0m \u001b[0;34m==\u001b[0m \u001b[0;34m\"nu\"\u001b[0m\u001b[0;34m:\u001b[0m\u001b[0;34m\u001b[0m\u001b[0;34m\u001b[0m\u001b[0m\n\u001b[0;32m---> 34\u001b[0;31m         \u001b[0mcriar_usuario\u001b[0m\u001b[0;34m(\u001b[0m\u001b[0musuarios\u001b[0m\u001b[0;34m)\u001b[0m\u001b[0;34m\u001b[0m\u001b[0;34m\u001b[0m\u001b[0m\n\u001b[0m\u001b[1;32m     35\u001b[0m \u001b[0;34m\u001b[0m\u001b[0m\n\u001b[1;32m     36\u001b[0m     \u001b[0;32melif\u001b[0m \u001b[0mopcao\u001b[0m \u001b[0;34m==\u001b[0m \u001b[0;34m\"nc\"\u001b[0m\u001b[0;34m:\u001b[0m\u001b[0;34m\u001b[0m\u001b[0;34m\u001b[0m\u001b[0m\n",
            "\u001b[0;31mNameError\u001b[0m: name 'usuarios' is not defined"
          ]
        }
      ],
      "source": [
        "\n",
        "def main():\n",
        "  LIMITE_SAQUES = 3\n",
        "  AGENCIA = '0001'\n",
        "  saldo = 0\n",
        "  limite = 500\n",
        "  extrato = \"\"\n",
        "  numero_saques = 0\n",
        "  usuarios = []\n",
        "  contas = []\n",
        "while True:\n",
        "    opcao = menu()\n",
        "\n",
        "    if opcao == \"d\":\n",
        "        valor = float(input(\"Informe o Valor do deposito\"))\n",
        "\n",
        "        saldo, extrato = depositar(saldo, valor, extrato)\n",
        "\n",
        "\n",
        "    elif opcao == \"s\":\n",
        "        valor = float(input(\"Informe o Valor do saque\"))\n",
        "        saldo, extrato = sacar(\n",
        "          saldo=saldo,\n",
        "          valor=valor,\n",
        "          extrato=extrato,\n",
        "          limite=limite,\n",
        "          numero_saques= numero_saques,\n",
        "          limite_saques = LIMITE_SAQUES,\n",
        "        )\n",
        "\n",
        "    elif opcao == \"e\":\n",
        "        exibir_extrato(saldo, extrato=extrato)\n",
        "\n",
        "    elif opcao == \"nu\":\n",
        "        criar_usuario(usuarios)\n",
        "\n",
        "    elif opcao == \"nc\":\n",
        "        numero_conta = len(contas) + 1\n",
        "        conta = criar_conta(AGENCIA, numero_conta, usuarios)\n",
        "\n",
        "        if conta:\n",
        "          contas.append(conta)\n",
        "\n",
        "    elif opcao == \"lc\":\n",
        "          listar_contas(contas)\n",
        "\n",
        "    elif opcao == \"q\":\n",
        "        break\n",
        "\n",
        "    else:\n",
        "        print(\"Operação invalida, por favor selecione novamente a oprecao desejada\")\n",
        "main()"
      ]
    }
  ]
}