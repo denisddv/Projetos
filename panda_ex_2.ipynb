{
  "nbformat": 4,
  "nbformat_minor": 0,
  "metadata": {
    "colab": {
      "provenance": [],
      "authorship_tag": "ABX9TyOEWyalAVFoqLAr6KIj+Lcc",
      "include_colab_link": true
    },
    "kernelspec": {
      "name": "python3",
      "display_name": "Python 3"
    },
    "language_info": {
      "name": "python"
    }
  },
  "cells": [
    {
      "cell_type": "markdown",
      "metadata": {
        "id": "view-in-github",
        "colab_type": "text"
      },
      "source": [
        "<a href=\"https://colab.research.google.com/github/denisddv/DEV-nas-estrelas-/blob/main/panda_ex_2.ipynb\" target=\"_parent\"><img src=\"https://colab.research.google.com/assets/colab-badge.svg\" alt=\"Open In Colab\"/></a>"
      ]
    },
    {
      "cell_type": "markdown",
      "source": [
        "\n",
        "    mostrar os 3 deputados que mais e menos gastam\n",
        "\n",
        "    realizar insights onde mostrem os valores totais dos ultimos 4 anos dos valores gastos por cada deputado\n",
        "\n",
        "    mostrar os itens dos ultimos quatro anos onde se mais teve despesa \n",
        "    Os insights não se limitam aos pedidos acima , onde gostaríamos de pelo menos mais 2 \n",
        "\n",
        "    Os resultados podem ou não trazer plotagem(trate como não obrigatório ) mas é recomendado que traga \n",
        "\n",
        "    verificar e contar os valores ausentes (NaN , NA , etc)\n",
        "\n",
        "    Verificar e corrigir possíveis inconsistências nos dados que podem ser (Nomes diferentes para o mesmo item ex: TÁXI e taxi ) ou valores ausentes ou duplicidade de dados\n",
        "\n",
        "    Montar uma pequena apresentação no próprio notebook trazendo uma organização e fluxo de ETL\n",
        "    "
      ],
      "metadata": {
        "id": "9Zd2QzOHVEc6"
      }
    },
    {
      "cell_type": "code",
      "execution_count": null,
      "metadata": {
        "id": "dosKkKi8KpFz"
      },
      "outputs": [],
      "source": [
        "pip install gcsfs"
      ]
    },
    {
      "cell_type": "code",
      "source": [
        "pip install pandera"
      ],
      "metadata": {
        "id": "5EPM9-StL1Gf"
      },
      "execution_count": null,
      "outputs": []
    },
    {
      "cell_type": "code",
      "source": [
        "import pandas as pd\n",
        "import os\n",
        "import numpy as np\n",
        "from google.cloud import storage\n",
        "import pandera as pa"
      ],
      "metadata": {
        "id": "Ufr1MEe2MD5a"
      },
      "execution_count": null,
      "outputs": []
    },
    {
      "cell_type": "code",
      "source": [
        "pd.set_option('display.max_columns',100)"
      ],
      "metadata": {
        "id": "IFb9QwFZMJvA"
      },
      "execution_count": null,
      "outputs": []
    },
    {
      "cell_type": "code",
      "source": [
        "serviceAccount = '/content/prime-script-377819-8f05e5581164.json'\n",
        "os.environ['GOOGLE_APPLICATION_CREDENTIALS'] = serviceAccount"
      ],
      "metadata": {
        "id": "hnnh1ULjMZvF"
      },
      "execution_count": null,
      "outputs": []
    },
    {
      "cell_type": "code",
      "source": [
        "client = storage.Client() \n",
        "bucket = client.get_bucket('denisdorneles1')\n",
        "bucket.blob('depsp')\n",
        "path = 'gs://denisdorneles1/depsp.csv'"
      ],
      "metadata": {
        "id": "BRfmmBTZMiEA"
      },
      "execution_count": null,
      "outputs": []
    },
    {
      "cell_type": "code",
      "source": [
        "df = pd.read_csv(path)"
      ],
      "metadata": {
        "colab": {
          "base_uri": "https://localhost:8080/"
        },
        "id": "Kr4p4r9hMvK5",
        "outputId": "d76c5c6c-2b1f-4ee8-af5a-0b4e02315536"
      },
      "execution_count": null,
      "outputs": [
        {
          "output_type": "stream",
          "name": "stderr",
          "text": [
            "/usr/local/lib/python3.8/dist-packages/IPython/core/interactiveshell.py:3326: DtypeWarning: Columns (4) have mixed types.Specify dtype option on import or set low_memory=False.\n",
            "  exec(code_obj, self.user_global_ns, self.user_ns)\n"
          ]
        }
      ]
    },
    {
      "cell_type": "code",
      "source": [
        "df"
      ],
      "metadata": {
        "colab": {
          "base_uri": "https://localhost:8080/",
          "height": 424
        },
        "id": "D2BPKvcRO4hT",
        "outputId": "2a5ba7d7-5ca7-4397-e449-d692b9f040f2"
      },
      "execution_count": null,
      "outputs": [
        {
          "output_type": "execute_result",
          "data": {
            "text/plain": [
              "         Ano  Matricula  Mes    Valor              CNPJ            Deputado  \\\n",
              "0       2015     300257    3   200.00    71806251000106  ABELARDO CAMARINHA   \n",
              "1       2015     300257    3   295.40    68064740000125  ABELARDO CAMARINHA   \n",
              "2       2015     300257    3  2850.00       22145388877  ABELARDO CAMARINHA   \n",
              "3       2015     300257    4   100.00    10915883000113  ABELARDO CAMARINHA   \n",
              "4       2015     300257    4   195.01    71806251000106  ABELARDO CAMARINHA   \n",
              "...      ...        ...  ...      ...               ...                 ...   \n",
              "542390  2007     300441    3   120.00   6306675000140.0       ÍTALO CARDOSO   \n",
              "542391  2007     300441    3  2096.80  52204617000122.0       ÍTALO CARDOSO   \n",
              "542392  2007     300441    3    13.48  62925474000282.0       ÍTALO CARDOSO   \n",
              "542393  2007     300441    3    38.08  66747577000170.0       ÍTALO CARDOSO   \n",
              "542394  2007     300441    3  2994.00   7047000000196.0       ÍTALO CARDOSO   \n",
              "\n",
              "                                                     Tipo  \\\n",
              "0                        A - COMBUSTÍVEIS E LUBRIFICANTES   \n",
              "1       E - MATERIAIS DE ESCRITÓRIO E OUTROS MATERIAIS...   \n",
              "2                                             N - MORADIA   \n",
              "3                        A - COMBUSTÍVEIS E LUBRIFICANTES   \n",
              "4                        A - COMBUSTÍVEIS E LUBRIFICANTES   \n",
              "...                                                   ...   \n",
              "542390  I - HOSPEDAGEM, ALIMENTAÇÃO E DESPESAS DE LOCO...   \n",
              "542391  I - HOSPEDAGEM, ALIMENTAÇÃO E DESPESAS DE LOCO...   \n",
              "542392  I - HOSPEDAGEM, ALIMENTAÇÃO E DESPESAS DE LOCO...   \n",
              "542393  I - HOSPEDAGEM, ALIMENTAÇÃO E DESPESAS DE LOCO...   \n",
              "542394                        J - SERVIÇOS DE COMUNICAÇÃO   \n",
              "\n",
              "                                       Fornecedor  \n",
              "0                AUTO POSTO DE SERVIÇOS MARV LTDA  \n",
              "1                       PAPER FACE COMERCIAL LTDA  \n",
              "2                       LARA SERVINO VARGAS ABREU  \n",
              "3                   CENTRO AUTOMOTIVO TOP 23 LTDA  \n",
              "4                AUTO POSTO DE SERVIÇOS MARV LTDA  \n",
              "...                                           ...  \n",
              "542390                        OPTEI EXPRESS LTDA.  \n",
              "542391                   CHURRASCARIA JANDA LTDA.  \n",
              "542392  ASSOCIAÇÃO FUNC.ASSEMB.LEG. EST.SÃO PAULO  \n",
              "542393              IBIZA EUROPEIA ALIMENTOS LTDA  \n",
              "542394         ECT-EMP.BRAS.CORREIOS E TELEGRAFOS  \n",
              "\n",
              "[542395 rows x 8 columns]"
            ],
            "text/html": [
              "\n",
              "  <div id=\"df-d9cd680a-3f29-4fdc-8c25-a949498aff40\">\n",
              "    <div class=\"colab-df-container\">\n",
              "      <div>\n",
              "<style scoped>\n",
              "    .dataframe tbody tr th:only-of-type {\n",
              "        vertical-align: middle;\n",
              "    }\n",
              "\n",
              "    .dataframe tbody tr th {\n",
              "        vertical-align: top;\n",
              "    }\n",
              "\n",
              "    .dataframe thead th {\n",
              "        text-align: right;\n",
              "    }\n",
              "</style>\n",
              "<table border=\"1\" class=\"dataframe\">\n",
              "  <thead>\n",
              "    <tr style=\"text-align: right;\">\n",
              "      <th></th>\n",
              "      <th>Ano</th>\n",
              "      <th>Matricula</th>\n",
              "      <th>Mes</th>\n",
              "      <th>Valor</th>\n",
              "      <th>CNPJ</th>\n",
              "      <th>Deputado</th>\n",
              "      <th>Tipo</th>\n",
              "      <th>Fornecedor</th>\n",
              "    </tr>\n",
              "  </thead>\n",
              "  <tbody>\n",
              "    <tr>\n",
              "      <th>0</th>\n",
              "      <td>2015</td>\n",
              "      <td>300257</td>\n",
              "      <td>3</td>\n",
              "      <td>200.00</td>\n",
              "      <td>71806251000106</td>\n",
              "      <td>ABELARDO CAMARINHA</td>\n",
              "      <td>A - COMBUSTÍVEIS E LUBRIFICANTES</td>\n",
              "      <td>AUTO POSTO DE SERVIÇOS MARV LTDA</td>\n",
              "    </tr>\n",
              "    <tr>\n",
              "      <th>1</th>\n",
              "      <td>2015</td>\n",
              "      <td>300257</td>\n",
              "      <td>3</td>\n",
              "      <td>295.40</td>\n",
              "      <td>68064740000125</td>\n",
              "      <td>ABELARDO CAMARINHA</td>\n",
              "      <td>E - MATERIAIS DE ESCRITÓRIO E OUTROS MATERIAIS...</td>\n",
              "      <td>PAPER FACE COMERCIAL LTDA</td>\n",
              "    </tr>\n",
              "    <tr>\n",
              "      <th>2</th>\n",
              "      <td>2015</td>\n",
              "      <td>300257</td>\n",
              "      <td>3</td>\n",
              "      <td>2850.00</td>\n",
              "      <td>22145388877</td>\n",
              "      <td>ABELARDO CAMARINHA</td>\n",
              "      <td>N - MORADIA</td>\n",
              "      <td>LARA SERVINO VARGAS ABREU</td>\n",
              "    </tr>\n",
              "    <tr>\n",
              "      <th>3</th>\n",
              "      <td>2015</td>\n",
              "      <td>300257</td>\n",
              "      <td>4</td>\n",
              "      <td>100.00</td>\n",
              "      <td>10915883000113</td>\n",
              "      <td>ABELARDO CAMARINHA</td>\n",
              "      <td>A - COMBUSTÍVEIS E LUBRIFICANTES</td>\n",
              "      <td>CENTRO AUTOMOTIVO TOP 23 LTDA</td>\n",
              "    </tr>\n",
              "    <tr>\n",
              "      <th>4</th>\n",
              "      <td>2015</td>\n",
              "      <td>300257</td>\n",
              "      <td>4</td>\n",
              "      <td>195.01</td>\n",
              "      <td>71806251000106</td>\n",
              "      <td>ABELARDO CAMARINHA</td>\n",
              "      <td>A - COMBUSTÍVEIS E LUBRIFICANTES</td>\n",
              "      <td>AUTO POSTO DE SERVIÇOS MARV LTDA</td>\n",
              "    </tr>\n",
              "    <tr>\n",
              "      <th>...</th>\n",
              "      <td>...</td>\n",
              "      <td>...</td>\n",
              "      <td>...</td>\n",
              "      <td>...</td>\n",
              "      <td>...</td>\n",
              "      <td>...</td>\n",
              "      <td>...</td>\n",
              "      <td>...</td>\n",
              "    </tr>\n",
              "    <tr>\n",
              "      <th>542390</th>\n",
              "      <td>2007</td>\n",
              "      <td>300441</td>\n",
              "      <td>3</td>\n",
              "      <td>120.00</td>\n",
              "      <td>6306675000140.0</td>\n",
              "      <td>ÍTALO CARDOSO</td>\n",
              "      <td>I - HOSPEDAGEM, ALIMENTAÇÃO E DESPESAS DE LOCO...</td>\n",
              "      <td>OPTEI EXPRESS LTDA.</td>\n",
              "    </tr>\n",
              "    <tr>\n",
              "      <th>542391</th>\n",
              "      <td>2007</td>\n",
              "      <td>300441</td>\n",
              "      <td>3</td>\n",
              "      <td>2096.80</td>\n",
              "      <td>52204617000122.0</td>\n",
              "      <td>ÍTALO CARDOSO</td>\n",
              "      <td>I - HOSPEDAGEM, ALIMENTAÇÃO E DESPESAS DE LOCO...</td>\n",
              "      <td>CHURRASCARIA JANDA LTDA.</td>\n",
              "    </tr>\n",
              "    <tr>\n",
              "      <th>542392</th>\n",
              "      <td>2007</td>\n",
              "      <td>300441</td>\n",
              "      <td>3</td>\n",
              "      <td>13.48</td>\n",
              "      <td>62925474000282.0</td>\n",
              "      <td>ÍTALO CARDOSO</td>\n",
              "      <td>I - HOSPEDAGEM, ALIMENTAÇÃO E DESPESAS DE LOCO...</td>\n",
              "      <td>ASSOCIAÇÃO FUNC.ASSEMB.LEG. EST.SÃO PAULO</td>\n",
              "    </tr>\n",
              "    <tr>\n",
              "      <th>542393</th>\n",
              "      <td>2007</td>\n",
              "      <td>300441</td>\n",
              "      <td>3</td>\n",
              "      <td>38.08</td>\n",
              "      <td>66747577000170.0</td>\n",
              "      <td>ÍTALO CARDOSO</td>\n",
              "      <td>I - HOSPEDAGEM, ALIMENTAÇÃO E DESPESAS DE LOCO...</td>\n",
              "      <td>IBIZA EUROPEIA ALIMENTOS LTDA</td>\n",
              "    </tr>\n",
              "    <tr>\n",
              "      <th>542394</th>\n",
              "      <td>2007</td>\n",
              "      <td>300441</td>\n",
              "      <td>3</td>\n",
              "      <td>2994.00</td>\n",
              "      <td>7047000000196.0</td>\n",
              "      <td>ÍTALO CARDOSO</td>\n",
              "      <td>J - SERVIÇOS DE COMUNICAÇÃO</td>\n",
              "      <td>ECT-EMP.BRAS.CORREIOS E TELEGRAFOS</td>\n",
              "    </tr>\n",
              "  </tbody>\n",
              "</table>\n",
              "<p>542395 rows × 8 columns</p>\n",
              "</div>\n",
              "      <button class=\"colab-df-convert\" onclick=\"convertToInteractive('df-d9cd680a-3f29-4fdc-8c25-a949498aff40')\"\n",
              "              title=\"Convert this dataframe to an interactive table.\"\n",
              "              style=\"display:none;\">\n",
              "        \n",
              "  <svg xmlns=\"http://www.w3.org/2000/svg\" height=\"24px\"viewBox=\"0 0 24 24\"\n",
              "       width=\"24px\">\n",
              "    <path d=\"M0 0h24v24H0V0z\" fill=\"none\"/>\n",
              "    <path d=\"M18.56 5.44l.94 2.06.94-2.06 2.06-.94-2.06-.94-.94-2.06-.94 2.06-2.06.94zm-11 1L8.5 8.5l.94-2.06 2.06-.94-2.06-.94L8.5 2.5l-.94 2.06-2.06.94zm10 10l.94 2.06.94-2.06 2.06-.94-2.06-.94-.94-2.06-.94 2.06-2.06.94z\"/><path d=\"M17.41 7.96l-1.37-1.37c-.4-.4-.92-.59-1.43-.59-.52 0-1.04.2-1.43.59L10.3 9.45l-7.72 7.72c-.78.78-.78 2.05 0 2.83L4 21.41c.39.39.9.59 1.41.59.51 0 1.02-.2 1.41-.59l7.78-7.78 2.81-2.81c.8-.78.8-2.07 0-2.86zM5.41 20L4 18.59l7.72-7.72 1.47 1.35L5.41 20z\"/>\n",
              "  </svg>\n",
              "      </button>\n",
              "      \n",
              "  <style>\n",
              "    .colab-df-container {\n",
              "      display:flex;\n",
              "      flex-wrap:wrap;\n",
              "      gap: 12px;\n",
              "    }\n",
              "\n",
              "    .colab-df-convert {\n",
              "      background-color: #E8F0FE;\n",
              "      border: none;\n",
              "      border-radius: 50%;\n",
              "      cursor: pointer;\n",
              "      display: none;\n",
              "      fill: #1967D2;\n",
              "      height: 32px;\n",
              "      padding: 0 0 0 0;\n",
              "      width: 32px;\n",
              "    }\n",
              "\n",
              "    .colab-df-convert:hover {\n",
              "      background-color: #E2EBFA;\n",
              "      box-shadow: 0px 1px 2px rgba(60, 64, 67, 0.3), 0px 1px 3px 1px rgba(60, 64, 67, 0.15);\n",
              "      fill: #174EA6;\n",
              "    }\n",
              "\n",
              "    [theme=dark] .colab-df-convert {\n",
              "      background-color: #3B4455;\n",
              "      fill: #D2E3FC;\n",
              "    }\n",
              "\n",
              "    [theme=dark] .colab-df-convert:hover {\n",
              "      background-color: #434B5C;\n",
              "      box-shadow: 0px 1px 3px 1px rgba(0, 0, 0, 0.15);\n",
              "      filter: drop-shadow(0px 1px 2px rgba(0, 0, 0, 0.3));\n",
              "      fill: #FFFFFF;\n",
              "    }\n",
              "  </style>\n",
              "\n",
              "      <script>\n",
              "        const buttonEl =\n",
              "          document.querySelector('#df-d9cd680a-3f29-4fdc-8c25-a949498aff40 button.colab-df-convert');\n",
              "        buttonEl.style.display =\n",
              "          google.colab.kernel.accessAllowed ? 'block' : 'none';\n",
              "\n",
              "        async function convertToInteractive(key) {\n",
              "          const element = document.querySelector('#df-d9cd680a-3f29-4fdc-8c25-a949498aff40');\n",
              "          const dataTable =\n",
              "            await google.colab.kernel.invokeFunction('convertToInteractive',\n",
              "                                                     [key], {});\n",
              "          if (!dataTable) return;\n",
              "\n",
              "          const docLinkHtml = 'Like what you see? Visit the ' +\n",
              "            '<a target=\"_blank\" href=https://colab.research.google.com/notebooks/data_table.ipynb>data table notebook</a>'\n",
              "            + ' to learn more about interactive tables.';\n",
              "          element.innerHTML = '';\n",
              "          dataTable['output_type'] = 'display_data';\n",
              "          await google.colab.output.renderOutput(dataTable, element);\n",
              "          const docLink = document.createElement('div');\n",
              "          docLink.innerHTML = docLinkHtml;\n",
              "          element.appendChild(docLink);\n",
              "        }\n",
              "      </script>\n",
              "    </div>\n",
              "  </div>\n",
              "  "
            ]
          },
          "metadata": {},
          "execution_count": 55
        }
      ]
    },
    {
      "cell_type": "code",
      "source": [
        "df.dtypes"
      ],
      "metadata": {
        "id": "xeMaoRCSPDgW"
      },
      "execution_count": null,
      "outputs": []
    },
    {
      "cell_type": "code",
      "source": [
        "dfback = df.copy()"
      ],
      "metadata": {
        "id": "Bf6danXzPNv8"
      },
      "execution_count": null,
      "outputs": []
    },
    {
      "cell_type": "code",
      "source": [
        "pd.unique(df['Deputado'])"
      ],
      "metadata": {
        "id": "TxJecDyKROtA"
      },
      "execution_count": null,
      "outputs": []
    },
    {
      "cell_type": "code",
      "source": [
        "df.Valor.sum()"
      ],
      "metadata": {
        "colab": {
          "base_uri": "https://localhost:8080/"
        },
        "id": "ekHrJHSjTAGx",
        "outputId": "dff8c51c-74c7-4d32-9fd1-c61830b8e986"
      },
      "execution_count": null,
      "outputs": [
        {
          "output_type": "execute_result",
          "data": {
            "text/plain": [
              "409843016.28000027"
            ]
          },
          "metadata": {},
          "execution_count": 38
        }
      ]
    },
    {
      "cell_type": "code",
      "source": [
        "dfprivate.Valor.sum()"
      ],
      "metadata": {
        "colab": {
          "base_uri": "https://localhost:8080/"
        },
        "id": "zeLy2Asid65k",
        "outputId": "6402c750-43ab-493d-da09-9f7961670ba6"
      },
      "execution_count": null,
      "outputs": [
        {
          "output_type": "execute_result",
          "data": {
            "text/plain": [
              "66782873.57000001"
            ]
          },
          "metadata": {},
          "execution_count": 45
        }
      ]
    },
    {
      "cell_type": "code",
      "source": [
        "#df.loc[df.Tipo == 'A - COMBUSTÃ\\x8dVEIS E LUBRIFICANTES',['Tipo']] = 'A - COMBUSTIVEIS E LUBRIFICANTES'\n",
        "#df.loc[df.Tipo == 'E - MATERIAIS DE ESCRITÃ\\x93RIO E OUTROS MATERIAIS DE CONSUMO',['Tipo']] = 'E - MATERIAIS DE ESCRITORIO E OUTROS MATERIAIS DE CONSUMO'\n",
        "#df.loc[df.Tipo == 'H - SERV.UTIL.PÃ\\x9aBLICA (TELEF.MÃ\\x93VEL/FIXA, ENERGIA, Ã\\x81GUA, GÃ\\x81S ETC)',['Tipo']] = 'H - SERV.UTIL.PUBLICA (TELEF.MOVEL/FIXA, ENERGIA, ÃGUA, GÃS ETC)'\n",
        "#df.loc[df.Tipo == 'J - SERVIÃ\\x87OS DE COMUNICAÃ\\x87Ã\\x83O',['Tipo']] = 'J - SERVIÇOS DE COMUNICAÇÃO'\n",
        "#df.loc[df.Tipo == 'D - MATERIAIS E SERVIÃ\\x87OS GRÃ\\x81FICOS, DE CÃ\\x93PIAS  E REPRODUÃ\\x87Ã\\x83O DE DOCS',['Tipo']] = 'D - MATERIAIS E SERVIÇOS GRÁFICOS, DE COPIAS  E REPRODUÇÃO DE DOCS'\n",
        "#df.loc[df.Tipo ==  'G - ASSINATURAS DE PERIÃ\\x93DICOS, PUBLICAÃ\\x87Ã\\x95ES, INTERNET E SOFTWARES',['Tipo']] =  'G - ASSINATURAS DE PERIODICOS, PUBLICAÇÕES, INTERNET E SOFTWARES'\n",
        "#df.loc[df.Tipo == 'C - MATERIAIS E SERVIÃ\\x87OS DE MANUT E CONSERV DE VEÃ\\x8dCULOS ; PEDÃ\\x81GIOS',['Tipo']] = 'C - MATERIAIS E SERVIÇOS DE MANUT E CONSERV DE VEÍCULOS ; PEDAGIOS'\n",
        "#df.loc[df.Tipo == 'K - LOCAÃ\\x87Ã\\x83O DE BENS MÃ\\x93VEIS',['Tipo']] = 'K - LOCAÇÃO DE BENS MOVEIS'\n",
        "#df.loc[df.Tipo == 'M - MANUTENÃ\\x87Ã\\x83O DE BENS MÃ\\x93VEIS,  IMÃ\\x93VEIS, CONDOMÃ\\x8dNIOS E OUTROS',['Tipo']] = 'M - MANUTENÇÃO DE BENS MOVEIS,  IMOVEIS, CONDOMINIOS E OUTROS'\n",
        "#df.loc[df.Tipo == 'F - SERVIÃ\\x87OS TÃ\\x89CNICOS PROFISSIONAIS (CONSULTORIA, PESQUISAS ETC)',['Tipo']] = 'F - SERVIÇOS TECNICOS PROFISSIONAIS (CONSULTORIA, PESQUISAS ETC)'\n",
        "#df.loc[df.Tipo == 'I - HOSPEDAGEM, ALIMENTAÃ\\x87Ã\\x83O E DESPESAS DE LOCOMOÃ\\x87Ã\\x83O',['Tipo']] = 'I - HOSPEDAGEM, ALIMENTAÇÃO E DESPESAS DE LOCOMOÇÃO'\n",
        "#df.loc[df.Tipo == 'O - LOCAÃ\\x87Ã\\x83O DE VEÃ\\x8dCULO',['Tipo']] = 'O - LOCAÇÃO DE VEÍCULO'\n",
        "#df.loc[df.Tipo == 'L - LOCAÃ\\x87Ã\\x83O DE BENS IMÃ\\x93VEIS',['Tipo']] = 'L - LOCAÇÃO DE BENS IMOVEIS'\n",
        "#df.loc[df.Tipo == 'B - LOCAÃ\\x87Ã\\x83O E MANUT DE BENS MÃ\\x93VEIS E IMÃ\\x93VEIS, CONDOMÃ\\x8dNIOS E OUTROS',['Tipo']] = 'B - LOCAÇÃO E MANUT DE BENS MOVEIS E IMOVEIS, CONDOMINIOS E OUTROS'\n",
        "#df.loc[df.Tipo == 'P - DIVULGAÃ\\x87Ã\\x83O DA ATIVIDADE PARLAMENTAR',['Tipo']] = 'P - DIVULGAÇÃO DA ATIVIDADE PARLAMENTAR'"
      ],
      "metadata": {
        "id": "7a_87gkSUlIt"
      },
      "execution_count": null,
      "outputs": []
    },
    {
      "cell_type": "code",
      "source": [
        "df.loc[df.CNPJ == 'o',['CNPJ']] = 0"
      ],
      "metadata": {
        "id": "O2bncDo2cNIj"
      },
      "execution_count": null,
      "outputs": []
    },
    {
      "cell_type": "code",
      "source": [
        "ft1 =  df.Ano.isin([2023,2022,2021,2020])\n",
        "dfprivate = df.loc[ft1 ]"
      ],
      "metadata": {
        "id": "Zr4Bday1cpyW"
      },
      "execution_count": null,
      "outputs": []
    },
    {
      "cell_type": "code",
      "source": [
        "ft2 =  df.Deputado.isin(['ADALBERTO FREITAS'])"
      ],
      "metadata": {
        "id": "tQpbPZ3-ffoZ"
      },
      "execution_count": null,
      "outputs": []
    },
    {
      "cell_type": "code",
      "source": [
        "dfprivate"
      ],
      "metadata": {
        "colab": {
          "base_uri": "https://localhost:8080/",
          "height": 424
        },
        "id": "Q4yM7GB0dSSH",
        "outputId": "cbad5c77-993e-4206-fbd0-191862de9487"
      },
      "execution_count": null,
      "outputs": [
        {
          "output_type": "execute_result",
          "data": {
            "text/plain": [
              "         Ano  Matricula  Mes    Valor              CNPJ           Deputado  \\\n",
              "392     2020     300605    1  7650.00    08390859000166  ADALBERTO FREITAS   \n",
              "393     2020     300605    1   571.00    61780615000415  ADALBERTO FREITAS   \n",
              "394     2020     300605    1    86.00    02530487000220  ADALBERTO FREITAS   \n",
              "395     2020     300605    1  1670.00    15314813000123  ADALBERTO FREITAS   \n",
              "396     2020     300605    1  8000.00       19183366873  ADALBERTO FREITAS   \n",
              "...      ...        ...  ...      ...               ...                ...   \n",
              "534167  2023     300589    1    42.23  16810965000180.0   WELLINGTON MOURA   \n",
              "534168  2023     300589    1   116.08  17802173000126.0   WELLINGTON MOURA   \n",
              "534169  2023     300589    1    47.22  48114246000110.0   WELLINGTON MOURA   \n",
              "534170  2023     300589    1  2835.90   2491558000142.0   WELLINGTON MOURA   \n",
              "534171  2023     300589    2  2835.90   2491558000142.0   WELLINGTON MOURA   \n",
              "\n",
              "                                                     Tipo  \\\n",
              "392     D - MATERIAIS E SERVIÇOS GRÁFICOS, DE CÓPIAS  ...   \n",
              "393     E - MATERIAIS DE ESCRITÓRIO E OUTROS MATERIAIS...   \n",
              "394     I - HOSPEDAGEM, ALIMENTAÇÃO E DESPESAS DE LOCO...   \n",
              "395                            K - LOCAÇÃO DE BENS MÓVEIS   \n",
              "396                           L - LOCAÇÃO DE BENS IMÓVEIS   \n",
              "...                                                   ...   \n",
              "534167  I - HOSPEDAGEM, ALIMENTAÇÃO E DESPESAS DE LOCO...   \n",
              "534168  I - HOSPEDAGEM, ALIMENTAÇÃO E DESPESAS DE LOCO...   \n",
              "534169  I - HOSPEDAGEM, ALIMENTAÇÃO E DESPESAS DE LOCO...   \n",
              "534170                             O - LOCAÇÃO DE VEÍCULO   \n",
              "534171                             O - LOCAÇÃO DE VEÍCULO   \n",
              "\n",
              "                                               Fornecedor  \n",
              "392                             BRITHE GRÁFICA LTDA - EPP  \n",
              "393                    LEPOK INFORMATICA E PAPELARIA LTDA  \n",
              "394                                 INSTITUTO MENSAGEIROS  \n",
              "395               FYIVAS SOLUÇÕES EM TECNOLOGIA LTDA - ME  \n",
              "396                         PEDRO GOMES DOS SANTOS JUNIOR  \n",
              "...                                                   ...  \n",
              "534167              FAZENDA SAO BERNARDO RESTAURANTE LTDA  \n",
              "534168                              HBSB RESTAURANTE LTDA  \n",
              "534169  RESTAURANTE SAO CAETANO COMERCIO DE ALIMENTOS ...  \n",
              "534170                     UNIDAS VEÍCULOS ESPECIAIS S.A.  \n",
              "534171                     UNIDAS VEÍCULOS ESPECIAIS S.A.  \n",
              "\n",
              "[55970 rows x 8 columns]"
            ],
            "text/html": [
              "\n",
              "  <div id=\"df-a9003a5b-7dd0-434d-8bd3-b9bfd759a609\">\n",
              "    <div class=\"colab-df-container\">\n",
              "      <div>\n",
              "<style scoped>\n",
              "    .dataframe tbody tr th:only-of-type {\n",
              "        vertical-align: middle;\n",
              "    }\n",
              "\n",
              "    .dataframe tbody tr th {\n",
              "        vertical-align: top;\n",
              "    }\n",
              "\n",
              "    .dataframe thead th {\n",
              "        text-align: right;\n",
              "    }\n",
              "</style>\n",
              "<table border=\"1\" class=\"dataframe\">\n",
              "  <thead>\n",
              "    <tr style=\"text-align: right;\">\n",
              "      <th></th>\n",
              "      <th>Ano</th>\n",
              "      <th>Matricula</th>\n",
              "      <th>Mes</th>\n",
              "      <th>Valor</th>\n",
              "      <th>CNPJ</th>\n",
              "      <th>Deputado</th>\n",
              "      <th>Tipo</th>\n",
              "      <th>Fornecedor</th>\n",
              "    </tr>\n",
              "  </thead>\n",
              "  <tbody>\n",
              "    <tr>\n",
              "      <th>392</th>\n",
              "      <td>2020</td>\n",
              "      <td>300605</td>\n",
              "      <td>1</td>\n",
              "      <td>7650.00</td>\n",
              "      <td>08390859000166</td>\n",
              "      <td>ADALBERTO FREITAS</td>\n",
              "      <td>D - MATERIAIS E SERVIÇOS GRÁFICOS, DE CÓPIAS  ...</td>\n",
              "      <td>BRITHE GRÁFICA LTDA - EPP</td>\n",
              "    </tr>\n",
              "    <tr>\n",
              "      <th>393</th>\n",
              "      <td>2020</td>\n",
              "      <td>300605</td>\n",
              "      <td>1</td>\n",
              "      <td>571.00</td>\n",
              "      <td>61780615000415</td>\n",
              "      <td>ADALBERTO FREITAS</td>\n",
              "      <td>E - MATERIAIS DE ESCRITÓRIO E OUTROS MATERIAIS...</td>\n",
              "      <td>LEPOK INFORMATICA E PAPELARIA LTDA</td>\n",
              "    </tr>\n",
              "    <tr>\n",
              "      <th>394</th>\n",
              "      <td>2020</td>\n",
              "      <td>300605</td>\n",
              "      <td>1</td>\n",
              "      <td>86.00</td>\n",
              "      <td>02530487000220</td>\n",
              "      <td>ADALBERTO FREITAS</td>\n",
              "      <td>I - HOSPEDAGEM, ALIMENTAÇÃO E DESPESAS DE LOCO...</td>\n",
              "      <td>INSTITUTO MENSAGEIROS</td>\n",
              "    </tr>\n",
              "    <tr>\n",
              "      <th>395</th>\n",
              "      <td>2020</td>\n",
              "      <td>300605</td>\n",
              "      <td>1</td>\n",
              "      <td>1670.00</td>\n",
              "      <td>15314813000123</td>\n",
              "      <td>ADALBERTO FREITAS</td>\n",
              "      <td>K - LOCAÇÃO DE BENS MÓVEIS</td>\n",
              "      <td>FYIVAS SOLUÇÕES EM TECNOLOGIA LTDA - ME</td>\n",
              "    </tr>\n",
              "    <tr>\n",
              "      <th>396</th>\n",
              "      <td>2020</td>\n",
              "      <td>300605</td>\n",
              "      <td>1</td>\n",
              "      <td>8000.00</td>\n",
              "      <td>19183366873</td>\n",
              "      <td>ADALBERTO FREITAS</td>\n",
              "      <td>L - LOCAÇÃO DE BENS IMÓVEIS</td>\n",
              "      <td>PEDRO GOMES DOS SANTOS JUNIOR</td>\n",
              "    </tr>\n",
              "    <tr>\n",
              "      <th>...</th>\n",
              "      <td>...</td>\n",
              "      <td>...</td>\n",
              "      <td>...</td>\n",
              "      <td>...</td>\n",
              "      <td>...</td>\n",
              "      <td>...</td>\n",
              "      <td>...</td>\n",
              "      <td>...</td>\n",
              "    </tr>\n",
              "    <tr>\n",
              "      <th>534167</th>\n",
              "      <td>2023</td>\n",
              "      <td>300589</td>\n",
              "      <td>1</td>\n",
              "      <td>42.23</td>\n",
              "      <td>16810965000180.0</td>\n",
              "      <td>WELLINGTON MOURA</td>\n",
              "      <td>I - HOSPEDAGEM, ALIMENTAÇÃO E DESPESAS DE LOCO...</td>\n",
              "      <td>FAZENDA SAO BERNARDO RESTAURANTE LTDA</td>\n",
              "    </tr>\n",
              "    <tr>\n",
              "      <th>534168</th>\n",
              "      <td>2023</td>\n",
              "      <td>300589</td>\n",
              "      <td>1</td>\n",
              "      <td>116.08</td>\n",
              "      <td>17802173000126.0</td>\n",
              "      <td>WELLINGTON MOURA</td>\n",
              "      <td>I - HOSPEDAGEM, ALIMENTAÇÃO E DESPESAS DE LOCO...</td>\n",
              "      <td>HBSB RESTAURANTE LTDA</td>\n",
              "    </tr>\n",
              "    <tr>\n",
              "      <th>534169</th>\n",
              "      <td>2023</td>\n",
              "      <td>300589</td>\n",
              "      <td>1</td>\n",
              "      <td>47.22</td>\n",
              "      <td>48114246000110.0</td>\n",
              "      <td>WELLINGTON MOURA</td>\n",
              "      <td>I - HOSPEDAGEM, ALIMENTAÇÃO E DESPESAS DE LOCO...</td>\n",
              "      <td>RESTAURANTE SAO CAETANO COMERCIO DE ALIMENTOS ...</td>\n",
              "    </tr>\n",
              "    <tr>\n",
              "      <th>534170</th>\n",
              "      <td>2023</td>\n",
              "      <td>300589</td>\n",
              "      <td>1</td>\n",
              "      <td>2835.90</td>\n",
              "      <td>2491558000142.0</td>\n",
              "      <td>WELLINGTON MOURA</td>\n",
              "      <td>O - LOCAÇÃO DE VEÍCULO</td>\n",
              "      <td>UNIDAS VEÍCULOS ESPECIAIS S.A.</td>\n",
              "    </tr>\n",
              "    <tr>\n",
              "      <th>534171</th>\n",
              "      <td>2023</td>\n",
              "      <td>300589</td>\n",
              "      <td>2</td>\n",
              "      <td>2835.90</td>\n",
              "      <td>2491558000142.0</td>\n",
              "      <td>WELLINGTON MOURA</td>\n",
              "      <td>O - LOCAÇÃO DE VEÍCULO</td>\n",
              "      <td>UNIDAS VEÍCULOS ESPECIAIS S.A.</td>\n",
              "    </tr>\n",
              "  </tbody>\n",
              "</table>\n",
              "<p>55970 rows × 8 columns</p>\n",
              "</div>\n",
              "      <button class=\"colab-df-convert\" onclick=\"convertToInteractive('df-a9003a5b-7dd0-434d-8bd3-b9bfd759a609')\"\n",
              "              title=\"Convert this dataframe to an interactive table.\"\n",
              "              style=\"display:none;\">\n",
              "        \n",
              "  <svg xmlns=\"http://www.w3.org/2000/svg\" height=\"24px\"viewBox=\"0 0 24 24\"\n",
              "       width=\"24px\">\n",
              "    <path d=\"M0 0h24v24H0V0z\" fill=\"none\"/>\n",
              "    <path d=\"M18.56 5.44l.94 2.06.94-2.06 2.06-.94-2.06-.94-.94-2.06-.94 2.06-2.06.94zm-11 1L8.5 8.5l.94-2.06 2.06-.94-2.06-.94L8.5 2.5l-.94 2.06-2.06.94zm10 10l.94 2.06.94-2.06 2.06-.94-2.06-.94-.94-2.06-.94 2.06-2.06.94z\"/><path d=\"M17.41 7.96l-1.37-1.37c-.4-.4-.92-.59-1.43-.59-.52 0-1.04.2-1.43.59L10.3 9.45l-7.72 7.72c-.78.78-.78 2.05 0 2.83L4 21.41c.39.39.9.59 1.41.59.51 0 1.02-.2 1.41-.59l7.78-7.78 2.81-2.81c.8-.78.8-2.07 0-2.86zM5.41 20L4 18.59l7.72-7.72 1.47 1.35L5.41 20z\"/>\n",
              "  </svg>\n",
              "      </button>\n",
              "      \n",
              "  <style>\n",
              "    .colab-df-container {\n",
              "      display:flex;\n",
              "      flex-wrap:wrap;\n",
              "      gap: 12px;\n",
              "    }\n",
              "\n",
              "    .colab-df-convert {\n",
              "      background-color: #E8F0FE;\n",
              "      border: none;\n",
              "      border-radius: 50%;\n",
              "      cursor: pointer;\n",
              "      display: none;\n",
              "      fill: #1967D2;\n",
              "      height: 32px;\n",
              "      padding: 0 0 0 0;\n",
              "      width: 32px;\n",
              "    }\n",
              "\n",
              "    .colab-df-convert:hover {\n",
              "      background-color: #E2EBFA;\n",
              "      box-shadow: 0px 1px 2px rgba(60, 64, 67, 0.3), 0px 1px 3px 1px rgba(60, 64, 67, 0.15);\n",
              "      fill: #174EA6;\n",
              "    }\n",
              "\n",
              "    [theme=dark] .colab-df-convert {\n",
              "      background-color: #3B4455;\n",
              "      fill: #D2E3FC;\n",
              "    }\n",
              "\n",
              "    [theme=dark] .colab-df-convert:hover {\n",
              "      background-color: #434B5C;\n",
              "      box-shadow: 0px 1px 3px 1px rgba(0, 0, 0, 0.15);\n",
              "      filter: drop-shadow(0px 1px 2px rgba(0, 0, 0, 0.3));\n",
              "      fill: #FFFFFF;\n",
              "    }\n",
              "  </style>\n",
              "\n",
              "      <script>\n",
              "        const buttonEl =\n",
              "          document.querySelector('#df-a9003a5b-7dd0-434d-8bd3-b9bfd759a609 button.colab-df-convert');\n",
              "        buttonEl.style.display =\n",
              "          google.colab.kernel.accessAllowed ? 'block' : 'none';\n",
              "\n",
              "        async function convertToInteractive(key) {\n",
              "          const element = document.querySelector('#df-a9003a5b-7dd0-434d-8bd3-b9bfd759a609');\n",
              "          const dataTable =\n",
              "            await google.colab.kernel.invokeFunction('convertToInteractive',\n",
              "                                                     [key], {});\n",
              "          if (!dataTable) return;\n",
              "\n",
              "          const docLinkHtml = 'Like what you see? Visit the ' +\n",
              "            '<a target=\"_blank\" href=https://colab.research.google.com/notebooks/data_table.ipynb>data table notebook</a>'\n",
              "            + ' to learn more about interactive tables.';\n",
              "          element.innerHTML = '';\n",
              "          dataTable['output_type'] = 'display_data';\n",
              "          await google.colab.output.renderOutput(dataTable, element);\n",
              "          const docLink = document.createElement('div');\n",
              "          docLink.innerHTML = docLinkHtml;\n",
              "          element.appendChild(docLink);\n",
              "        }\n",
              "      </script>\n",
              "    </div>\n",
              "  </div>\n",
              "  "
            ]
          },
          "metadata": {},
          "execution_count": 54
        }
      ]
    },
    {
      "cell_type": "code",
      "source": [
        "df.groupby(['Valor']).size().sort_values(ascending=False)"
      ],
      "metadata": {
        "colab": {
          "base_uri": "https://localhost:8080/"
        },
        "id": "SKDOBmdPbGx1",
        "outputId": "4d1ddada-f043-4d79-e8d5-763a4ac3b92f"
      },
      "execution_count": null,
      "outputs": [
        {
          "output_type": "execute_result",
          "data": {
            "text/plain": [
              "Valor\n",
              "50.00       15624\n",
              "100.00       9210\n",
              "30.00        5332\n",
              "20.00        4897\n",
              "40.00        3482\n",
              "            ...  \n",
              "806.99          1\n",
              "807.01          1\n",
              "807.02          1\n",
              "807.05          1\n",
              "19980.00        1\n",
              "Length: 97016, dtype: int64"
            ]
          },
          "metadata": {},
          "execution_count": 35
        }
      ]
    },
    {
      "cell_type": "code",
      "source": [
        "df.groupby(['Valor']).size().sort_values(ascending=False).head()"
      ],
      "metadata": {
        "colab": {
          "base_uri": "https://localhost:8080/"
        },
        "id": "ZIi0u0lJeIlO",
        "outputId": "9633721d-239f-468f-e7c9-9959a569288e"
      },
      "execution_count": null,
      "outputs": [
        {
          "output_type": "execute_result",
          "data": {
            "text/plain": [
              "Valor\n",
              "50.0     15624\n",
              "100.0     9210\n",
              "30.0      5332\n",
              "20.0      4897\n",
              "40.0      3482\n",
              "dtype: int64"
            ]
          },
          "metadata": {},
          "execution_count": 82
        }
      ]
    },
    {
      "cell_type": "code",
      "source": [
        "df.groupby('Deputado')['Valor'].sum().sort_values().head(3)"
      ],
      "metadata": {
        "colab": {
          "base_uri": "https://localhost:8080/"
        },
        "id": "cAHUyPW1gC4J",
        "outputId": "404174a2-5ea9-473c-88a5-18c65a166370"
      },
      "execution_count": null,
      "outputs": [
        {
          "output_type": "execute_result",
          "data": {
            "text/plain": [
              "Deputado\n",
              "ANTÔNIO AGUIMARÃES DE CALDAS    2225.63\n",
              "MAJOR MAURO                     2311.53\n",
              "ULISSES SALES                   2653.53\n",
              "Name: Valor, dtype: float64"
            ]
          },
          "metadata": {},
          "execution_count": 57
        }
      ]
    },
    {
      "cell_type": "code",
      "source": [
        "df.groupby('Deputado')['Valor'].sum().sort_values(ascending=False).head(3)"
      ],
      "metadata": {
        "colab": {
          "base_uri": "https://localhost:8080/"
        },
        "id": "mnYFRhRWgAVi",
        "outputId": "85802b22-a958-448e-9c5d-d75fe226fede"
      },
      "execution_count": null,
      "outputs": [
        {
          "output_type": "execute_result",
          "data": {
            "text/plain": [
              "Deputado\n",
              "CAMPOS MACHADO       5691197.91\n",
              "ENIO TATTO           5363451.90\n",
              "MARIA LÚCIA AMARY    5297913.91\n",
              "Name: Valor, dtype: float64"
            ]
          },
          "metadata": {},
          "execution_count": 94
        }
      ]
    },
    {
      "cell_type": "code",
      "source": [
        "dfprivate.groupby('Deputado')['Valor'].sum().sort_values(ascending=False).plot.bar(figsize=(20,15),xlabel='Deputado',ylabel='Soma dos Gastos')"
      ],
      "metadata": {
        "colab": {
          "base_uri": "https://localhost:8080/",
          "height": 1000
        },
        "id": "OdrPBFHEeRdO",
        "outputId": "ebd2d215-80f5-46f1-bd06-b595c976c92f"
      },
      "execution_count": null,
      "outputs": [
        {
          "output_type": "execute_result",
          "data": {
            "text/plain": [
              "<AxesSubplot:xlabel='Deputado', ylabel='Soma dos Gastos'>"
            ]
          },
          "metadata": {},
          "execution_count": 104
        },
        {
          "output_type": "display_data",
          "data": {
            "text/plain": [
              "<Figure size 1440x1080 with 1 Axes>"
            ],
            "image/png": "[encoded data removed]"
          },
          "metadata": {
            "needs_background": "light"
          }
        }
      ]
    },
    {
      "cell_type": "code",
      "source": [
        "dfprivate.groupby('Fornecedor')['Valor'].sum().sort_values(ascending=False).head(10)"
      ],
      "metadata": {
        "colab": {
          "base_uri": "https://localhost:8080/"
        },
        "id": "fPkGCyx8h2v5",
        "outputId": "4b2fbccd-e142-47bc-e41c-4b34ec99a854"
      },
      "execution_count": null,
      "outputs": [
        {
          "output_type": "execute_result",
          "data": {
            "text/plain": [
              "Fornecedor\n",
              "UNIDAS VEÍCULOS ESPECIAIS S.A.           3664253.77\n",
              "NEVADA RENT A CAR LTDA                   1389989.98\n",
              "QUATTROPORTO CONS E NEGOCIOS LTDA         686381.20\n",
              "NOGUEIRA E NOGUEIRA JUNIOR LTDA           674575.00\n",
              "MARCOS CARVALHO ELIAS                     539169.39\n",
              "TELEFONICA BRASIL S.A                     410733.81\n",
              "TAXCO LOCADORA DE BENS LTDA               402807.84\n",
              "EDUARDO RAMOS COSTA                       346600.99\n",
              "MARCELO PEREIRA NUNES                     338825.26\n",
              "DESIGN VISAO GRAFICA E EDITORA EIRELI     320600.00\n",
              "Name: Valor, dtype: float64"
            ]
          },
          "metadata": {},
          "execution_count": 106
        }
      ]
    },
    {
      "cell_type": "code",
      "source": [
        "df.groupby('CNPJ')['Valor'].sum().sort_values(ascending=False).head(10)"
      ],
      "metadata": {
        "colab": {
          "base_uri": "https://localhost:8080/"
        },
        "id": "sAmRArqXiNNA",
        "outputId": "c91e48d7-8db0-49e5-8ed2-000fed7c00d2"
      },
      "execution_count": null,
      "outputs": [
        {
          "output_type": "execute_result",
          "data": {
            "text/plain": [
              "CNPJ\n",
              "2558157000162.0     12303461.62\n",
              "02558157000162       9943453.98\n",
              "66970229000167.0     2843282.76\n",
              "66970229000167       2489619.73\n",
              "2491558000142.0      2001451.95\n",
              "02491558000142       1662801.82\n",
              "2449992005638.0      1421309.15\n",
              "11358701000113.0     1396669.45\n",
              "3067942000185.0      1210221.28\n",
              "51410672891          1167970.00\n",
              "Name: Valor, dtype: float64"
            ]
          },
          "metadata": {},
          "execution_count": 98
        }
      ]
    },
    {
      "cell_type": "code",
      "source": [
        "dfprivate.groupby('Tipo')['Valor'].sum().sort_values(ascending=False)"
      ],
      "metadata": {
        "colab": {
          "base_uri": "https://localhost:8080/"
        },
        "id": "5MUeL52Tg4Wu",
        "outputId": "b7b240d6-8c85-45aa-da17-f064daaa4ba7"
      },
      "execution_count": null,
      "outputs": [
        {
          "output_type": "execute_result",
          "data": {
            "text/plain": [
              "Tipo\n",
              "L - LOCAÇÃO DE BENS IMÓVEIS                                           12358372.38\n",
              "O - LOCAÇÃO DE VEÍCULO                                                10032134.38\n",
              "D - MATERIAIS E SERVIÇOS GRÁFICOS, DE CÓPIAS  E REPRODUÇÃO DE DOCS     9361043.86\n",
              "F - SERVIÇOS TÉCNICOS PROFISSIONAIS (CONSULTORIA, PESQUISAS ETC)       6634090.03\n",
              "K - LOCAÇÃO DE BENS MÓVEIS                                             5994055.06\n",
              "A - COMBUSTÍVEIS E LUBRIFICANTES                                       5182740.34\n",
              "M - MANUTENÇÃO DE BENS MÓVEIS,  IMÓVEIS, CONDOMÍNIOS E OUTROS          2984804.38\n",
              "H - SERV.UTIL.PÚBLICA (TELEF.MÓVEL/FIXA, ENERGIA, ÁGUA, GÁS ETC)       2774555.79\n",
              "E - MATERIAIS DE ESCRITÓRIO E OUTROS MATERIAIS DE CONSUMO              2750755.02\n",
              "I - HOSPEDAGEM, ALIMENTAÇÃO E DESPESAS DE LOCOMOÇÃO                    2100772.47\n",
              "J - SERVIÇOS DE COMUNICAÇÃO                                            1954010.38\n",
              "N - MORADIA                                                            1681115.46\n",
              "P - DIVULGAÇÃO DA ATIVIDADE PARLAMENTAR                                1554983.42\n",
              "G - ASSINATURAS DE PERIÓDICOS, PUBLICAÇÕES, INTERNET E SOFTWARES       1230159.54\n",
              "C - MATERIAIS E SERVIÇOS DE MANUT E CONSERV DE VEÍCULOS ; PEDÁGIOS      189281.06\n",
              "Name: Valor, dtype: float64"
            ]
          },
          "metadata": {},
          "execution_count": 65
        }
      ]
    },
    {
      "cell_type": "code",
      "source": [
        "df.groupby('Tipo')['Valor'].size().sort_values(ascending=False).head(10)"
      ],
      "metadata": {
        "colab": {
          "base_uri": "https://localhost:8080/"
        },
        "id": "Fss2UkUmjVlj",
        "outputId": "85b684d4-5378-4a34-8d70-c37d30428c4b"
      },
      "execution_count": null,
      "outputs": [
        {
          "output_type": "execute_result",
          "data": {
            "text/plain": [
              "Tipo\n",
              "A - COMBUSTÍVEIS E LUBRIFICANTES                                      143904\n",
              "I - HOSPEDAGEM, ALIMENTAÇÃO E DESPESAS DE LOCOMOÇÃO                   107877\n",
              "H - SERV.UTIL.PÚBLICA (TELEF.MÓVEL/FIXA, ENERGIA, ÁGUA, GÁS ETC)       67330\n",
              "E - MATERIAIS DE ESCRITÓRIO E OUTROS MATERIAIS DE CONSUMO              50793\n",
              "G - ASSINATURAS DE PERIÓDICOS, PUBLICAÇÕES, INTERNET E SOFTWARES       27603\n",
              "D - MATERIAIS E SERVIÇOS GRÁFICOS, DE CÓPIAS  E REPRODUÇÃO DE DOCS     25847\n",
              "C - MATERIAIS E SERVIÇOS DE MANUT E CONSERV DE VEÍCULOS ; PEDÁGIOS     21246\n",
              "F - SERVIÇOS TÉCNICOS PROFISSIONAIS (CONSULTORIA, PESQUISAS ETC)       18339\n",
              "M - MANUTENÇÃO DE BENS MÓVEIS,  IMÓVEIS, CONDOMÍNIOS E OUTROS          17776\n",
              "L - LOCAÇÃO DE BENS IMÓVEIS                                            15231\n",
              "Name: Valor, dtype: int64"
            ]
          },
          "metadata": {},
          "execution_count": 99
        }
      ]
    },
    {
      "cell_type": "code",
      "source": [
        "df.groupby('Tipo')['Valor'].sum().sort_values(ascending=False).head(10)"
      ],
      "metadata": {
        "colab": {
          "base_uri": "https://localhost:8080/"
        },
        "id": "vHUDu83bjhu2",
        "outputId": "a92d17a6-22d4-4568-e3d7-201c9b2d7ad9"
      },
      "execution_count": null,
      "outputs": [
        {
          "output_type": "execute_result",
          "data": {
            "text/plain": [
              "Tipo\n",
              "D - MATERIAIS E SERVIÇOS GRÁFICOS, DE CÓPIAS  E REPRODUÇÃO DE DOCS    81097729.26\n",
              "F - SERVIÇOS TÉCNICOS PROFISSIONAIS (CONSULTORIA, PESQUISAS ETC)      48566547.28\n",
              "A - COMBUSTÍVEIS E LUBRIFICANTES                                      47716685.24\n",
              "L - LOCAÇÃO DE BENS IMÓVEIS                                           47476677.58\n",
              "H - SERV.UTIL.PÚBLICA (TELEF.MÓVEL/FIXA, ENERGIA, ÁGUA, GÁS ETC)      40799012.32\n",
              "E - MATERIAIS DE ESCRITÓRIO E OUTROS MATERIAIS DE CONSUMO             22757100.87\n",
              "J - SERVIÇOS DE COMUNICAÇÃO                                           20148098.98\n",
              "B - LOCAÇÃO E MANUT DE BENS MÓVEIS E IMÓVEIS, CONDOMÍNIOS E OUTROS    19659189.49\n",
              "I - HOSPEDAGEM, ALIMENTAÇÃO E DESPESAS DE LOCOMOÇÃO                   18413474.71\n",
              "K - LOCAÇÃO DE BENS MÓVEIS                                            16247936.55\n",
              "Name: Valor, dtype: float64"
            ]
          },
          "metadata": {},
          "execution_count": 100
        }
      ]
    }
  ]
}