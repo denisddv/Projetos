{
  "nbformat": 4,
  "nbformat_minor": 0,
  "metadata": {
    "colab": {
      "provenance": [],
      "authorship_tag": "ABX9TyN3eUt+rkqUdIxUHCmvnOwq",
      "include_colab_link": true
    },
    "kernelspec": {
      "name": "python3",
      "display_name": "Python 3"
    },
    "language_info": {
      "name": "python"
    }
  },
  "cells": [
    {
      "cell_type": "markdown",
      "metadata": {
        "id": "view-in-github",
        "colab_type": "text"
      },
      "source": [
        "<a href=\"https://colab.research.google.com/github/denisddv/Projetos-Soulcode/blob/main/teste_da_dio.ipynb\" target=\"_parent\"><img src=\"https://colab.research.google.com/assets/colab-badge.svg\" alt=\"Open In Colab\"/></a>"
      ]
    },
    {
      "cell_type": "code",
      "execution_count": null,
      "metadata": {
        "id": "kptgiwXuz8Pn"
      },
      "outputs": [],
      "source": [
        "menu = \"\"\"\n",
        "[d] Depositar\n",
        "[s] Sacar\n",
        "[e] Extrato\n",
        "[q] Sair\n",
        "=> \"\"\"\n",
        "\n",
        "saldo = 0\n",
        "limite = 500\n",
        "extrato = \"\"\n",
        "numero_saques = 0\n",
        "Limites_saques = 3\n",
        "while True:\n",
        "  opcao = input(menu)\n",
        "\n",
        "  if opcao == \"d\":\n",
        "    valor = float(input(\"Informe o Valor do deposito\"))\n",
        "    if valor > 0:\n",
        "      saldo += valor\n",
        "      extrato += f\"Deposito: R$ {valor:.2f}\\n\"\n",
        "    else:\n",
        "      print(\"operacao falhou! O valor informado é invalido\")\n",
        "\n",
        "  elif opcao == \"s\":\n",
        "    valor = float(input(\"Informe o Valor do saque\"))\n",
        "    excedeu_saldo = valor > saldo\n",
        "    excedeu_limite = valor > limite\n",
        "    excedeu_saques = numero_saques >= Limites_saques\n",
        "    if excedeu_saldo:\n",
        "      print(\"operação falhou\")\n",
        "    elif excedeu_limite:\n",
        "      print(\"operação falhou\")\n",
        "    elif excedeu_saques:\n",
        "      print(\"operação falhou\")\n",
        "    elif valor >0:\n",
        "      saldo-= valor\n",
        "      extrato += f\"Saque: R$ {valor:.2f}\\n\"\n",
        "      numero_saques += 1\n",
        "    else:\n",
        "      print(\"operacao falhou! O valor informado é invalido\")\n",
        "\n",
        "  elif opcao == \"e\":\n",
        "    print('\\n=====================Extrato===================')\n",
        "    print('Não foram realizadas movimentaçoes.' if not extrato else extrato)\n",
        "    print(f'\\nSaldo: R${saldo:.2f}')\n",
        "    print('=================================================')\n",
        "\n",
        "  elif opcao == \"q\":\n",
        "    break\n",
        "\n",
        "  else:\n",
        "    print(\"Operação invalida, por favor selecione novamente a oprecao desejada\")"
      ]
    }
  ]
}