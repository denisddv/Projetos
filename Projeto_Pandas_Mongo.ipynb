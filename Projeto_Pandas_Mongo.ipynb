{
  "nbformat": 4,
  "nbformat_minor": 0,
  "metadata": {
    "colab": {
      "provenance": [],
      "authorship_tag": "ABX9TyM0ED85LZc7Lb2SAa/8MTSg",
      "include_colab_link": true
    },
    "kernelspec": {
      "name": "python3",
      "display_name": "Python 3"
    },
    "language_info": {
      "name": "python"
    }
  },
  "cells": [
    {
      "cell_type": "markdown",
      "metadata": {
        "id": "view-in-github",
        "colab_type": "text"
      },
      "source": [
        "<a href=\"https://colab.research.google.com/github/denisddv/Projetos-Soulcode/blob/main/Projeto_Pandas_Mongo.ipynb\" target=\"_parent\"><img src=\"https://colab.research.google.com/assets/colab-badge.svg\" alt=\"Open In Colab\"/></a>"
      ]
    },
    {
      "cell_type": "markdown",
      "source": [
        "Iris Pires e Denis Dorneles\n",
        "\n",
        "---\n",
        "\n"
      ],
      "metadata": {
        "id": "fIf5mCfu1FSS"
      }
    },
    {
      "cell_type": "markdown",
      "source": [
        "#Instalação de Bibliotecas"
      ],
      "metadata": {
        "id": "OeKf4eKoaEVP"
      }
    },
    {
      "cell_type": "code",
      "execution_count": null,
      "metadata": {
        "id": "doDrZl63025f",
        "colab": {
          "base_uri": "https://localhost:8080/"
        },
        "outputId": "f4238b4b-4350-47b0-bd93-95ff217f0af0"
      },
      "outputs": [
        {
          "output_type": "stream",
          "name": "stdout",
          "text": [
            "Looking in indexes: https://pypi.org/simple, https://us-python.pkg.dev/colab-wheels/public/simple/\n",
            "Collecting gcsfs\n",
            "  Downloading gcsfs-2023.3.0-py2.py3-none-any.whl (26 kB)\n",
            "Requirement already satisfied: google-auth-oauthlib in /usr/local/lib/python3.9/dist-packages (from gcsfs) (0.4.6)\n",
            "Requirement already satisfied: decorator>4.1.2 in /usr/local/lib/python3.9/dist-packages (from gcsfs) (4.4.2)\n",
            "Requirement already satisfied: google-cloud-storage in /usr/local/lib/python3.9/dist-packages (from gcsfs) (2.7.0)\n",
            "Requirement already satisfied: google-auth>=1.2 in /usr/local/lib/python3.9/dist-packages (from gcsfs) (2.16.2)\n",
            "Requirement already satisfied: fsspec==2023.3.0 in /usr/local/lib/python3.9/dist-packages (from gcsfs) (2023.3.0)\n",
            "Requirement already satisfied: requests in /usr/local/lib/python3.9/dist-packages (from gcsfs) (2.25.1)\n",
            "Collecting aiohttp!=4.0.0a0,!=4.0.0a1\n",
            "  Downloading aiohttp-3.8.4-cp39-cp39-manylinux_2_17_x86_64.manylinux2014_x86_64.whl (1.0 MB)\n",
            "\u001b[2K     \u001b[90m━━━━━━━━━━━━━━━━━━━━━━━━━━━━━━━━━━━━━━━━\u001b[0m \u001b[32m1.0/1.0 MB\u001b[0m \u001b[31m10.8 MB/s\u001b[0m eta \u001b[36m0:00:00\u001b[0m\n",
            "\u001b[?25hCollecting yarl<2.0,>=1.0\n",
            "  Downloading yarl-1.8.2-cp39-cp39-manylinux_2_17_x86_64.manylinux2014_x86_64.whl (264 kB)\n",
            "\u001b[2K     \u001b[90m━━━━━━━━━━━━━━━━━━━━━━━━━━━━━━━━━━━━━━\u001b[0m \u001b[32m264.6/264.6 KB\u001b[0m \u001b[31m12.4 MB/s\u001b[0m eta \u001b[36m0:00:00\u001b[0m\n",
            "\u001b[?25hCollecting async-timeout<5.0,>=4.0.0a3\n",
            "  Downloading async_timeout-4.0.2-py3-none-any.whl (5.8 kB)\n",
            "Collecting frozenlist>=1.1.1\n",
            "  Downloading frozenlist-1.3.3-cp39-cp39-manylinux_2_5_x86_64.manylinux1_x86_64.manylinux_2_17_x86_64.manylinux2014_x86_64.whl (158 kB)\n",
            "\u001b[2K     \u001b[90m━━━━━━━━━━━━━━━━━━━━━━━━━━━━━━━━━━━━━━━\u001b[0m \u001b[32m158.8/158.8 KB\u001b[0m \u001b[31m9.8 MB/s\u001b[0m eta \u001b[36m0:00:00\u001b[0m\n",
            "\u001b[?25hCollecting multidict<7.0,>=4.5\n",
            "  Downloading multidict-6.0.4-cp39-cp39-manylinux_2_17_x86_64.manylinux2014_x86_64.whl (114 kB)\n",
            "\u001b[2K     \u001b[90m━━━━━━━━━━━━━━━━━━━━━━━━━━━━━━━━━━━━━━━\u001b[0m \u001b[32m114.2/114.2 KB\u001b[0m \u001b[31m2.6 MB/s\u001b[0m eta \u001b[36m0:00:00\u001b[0m\n",
            "\u001b[?25hRequirement already satisfied: attrs>=17.3.0 in /usr/local/lib/python3.9/dist-packages (from aiohttp!=4.0.0a0,!=4.0.0a1->gcsfs) (22.2.0)\n",
            "Collecting charset-normalizer<4.0,>=2.0\n",
            "  Downloading charset_normalizer-3.1.0-cp39-cp39-manylinux_2_17_x86_64.manylinux2014_x86_64.whl (199 kB)\n",
            "\u001b[2K     \u001b[90m━━━━━━━━━━━━━━━━━━━━━━━━━━━━━━━━━━━━━━━\u001b[0m \u001b[32m199.2/199.2 KB\u001b[0m \u001b[31m2.4 MB/s\u001b[0m eta \u001b[36m0:00:00\u001b[0m\n",
            "\u001b[?25hCollecting aiosignal>=1.1.2\n",
            "  Downloading aiosignal-1.3.1-py3-none-any.whl (7.6 kB)\n",
            "Requirement already satisfied: cachetools<6.0,>=2.0.0 in /usr/local/lib/python3.9/dist-packages (from google-auth>=1.2->gcsfs) (5.3.0)\n",
            "Requirement already satisfied: six>=1.9.0 in /usr/local/lib/python3.9/dist-packages (from google-auth>=1.2->gcsfs) (1.15.0)\n",
            "Requirement already satisfied: pyasn1-modules>=0.2.1 in /usr/local/lib/python3.9/dist-packages (from google-auth>=1.2->gcsfs) (0.2.8)\n",
            "Requirement already satisfied: rsa<5,>=3.1.4 in /usr/local/lib/python3.9/dist-packages (from google-auth>=1.2->gcsfs) (4.9)\n",
            "Requirement already satisfied: requests-oauthlib>=0.7.0 in /usr/local/lib/python3.9/dist-packages (from google-auth-oauthlib->gcsfs) (1.3.1)\n",
            "Requirement already satisfied: google-resumable-media>=2.3.2 in /usr/local/lib/python3.9/dist-packages (from google-cloud-storage->gcsfs) (2.4.1)\n",
            "Requirement already satisfied: google-api-core!=2.0.*,!=2.1.*,!=2.2.*,!=2.3.0,<3.0.0dev,>=1.31.5 in /usr/local/lib/python3.9/dist-packages (from google-cloud-storage->gcsfs) (2.11.0)\n",
            "Requirement already satisfied: google-cloud-core<3.0dev,>=2.3.0 in /usr/local/lib/python3.9/dist-packages (from google-cloud-storage->gcsfs) (2.3.2)\n",
            "Requirement already satisfied: chardet<5,>=3.0.2 in /usr/local/lib/python3.9/dist-packages (from requests->gcsfs) (4.0.0)\n",
            "Requirement already satisfied: urllib3<1.27,>=1.21.1 in /usr/local/lib/python3.9/dist-packages (from requests->gcsfs) (1.26.14)\n",
            "Requirement already satisfied: idna<3,>=2.5 in /usr/local/lib/python3.9/dist-packages (from requests->gcsfs) (2.10)\n",
            "Requirement already satisfied: certifi>=2017.4.17 in /usr/local/lib/python3.9/dist-packages (from requests->gcsfs) (2022.12.7)\n",
            "Requirement already satisfied: googleapis-common-protos<2.0dev,>=1.56.2 in /usr/local/lib/python3.9/dist-packages (from google-api-core!=2.0.*,!=2.1.*,!=2.2.*,!=2.3.0,<3.0.0dev,>=1.31.5->google-cloud-storage->gcsfs) (1.58.0)\n",
            "Requirement already satisfied: protobuf!=3.20.0,!=3.20.1,!=4.21.0,!=4.21.1,!=4.21.2,!=4.21.3,!=4.21.4,!=4.21.5,<5.0.0dev,>=3.19.5 in /usr/local/lib/python3.9/dist-packages (from google-api-core!=2.0.*,!=2.1.*,!=2.2.*,!=2.3.0,<3.0.0dev,>=1.31.5->google-cloud-storage->gcsfs) (3.19.6)\n",
            "Requirement already satisfied: google-crc32c<2.0dev,>=1.0 in /usr/local/lib/python3.9/dist-packages (from google-resumable-media>=2.3.2->google-cloud-storage->gcsfs) (1.5.0)\n",
            "Requirement already satisfied: pyasn1<0.5.0,>=0.4.6 in /usr/local/lib/python3.9/dist-packages (from pyasn1-modules>=0.2.1->google-auth>=1.2->gcsfs) (0.4.8)\n",
            "Requirement already satisfied: oauthlib>=3.0.0 in /usr/local/lib/python3.9/dist-packages (from requests-oauthlib>=0.7.0->google-auth-oauthlib->gcsfs) (3.2.2)\n",
            "Installing collected packages: multidict, frozenlist, charset-normalizer, async-timeout, yarl, aiosignal, aiohttp, gcsfs\n",
            "Successfully installed aiohttp-3.8.4 aiosignal-1.3.1 async-timeout-4.0.2 charset-normalizer-3.1.0 frozenlist-1.3.3 gcsfs-2023.3.0 multidict-6.0.4 yarl-1.8.2\n"
          ]
        }
      ],
      "source": [
        "pip install gcsfs"
      ]
    },
    {
      "cell_type": "code",
      "source": [
        "pip install pandera"
      ],
      "metadata": {
        "id": "6q0rjzUw3lPp",
        "colab": {
          "base_uri": "https://localhost:8080/"
        },
        "outputId": "a44c63fa-db59-4e8d-cbb8-8ceef1ebf6c9"
      },
      "execution_count": null,
      "outputs": [
        {
          "output_type": "stream",
          "name": "stdout",
          "text": [
            "Looking in indexes: https://pypi.org/simple, https://us-python.pkg.dev/colab-wheels/public/simple/\n",
            "Requirement already satisfied: pandera in /usr/local/lib/python3.9/dist-packages (0.13.4)\n",
            "Requirement already satisfied: pydantic in /usr/local/lib/python3.9/dist-packages (from pandera) (1.10.5)\n",
            "Requirement already satisfied: typing-inspect>=0.6.0 in /usr/local/lib/python3.9/dist-packages (from pandera) (0.8.0)\n",
            "Requirement already satisfied: packaging>=20.0 in /usr/local/lib/python3.9/dist-packages (from pandera) (23.0)\n",
            "Requirement already satisfied: pandas>=1.2.0 in /usr/local/lib/python3.9/dist-packages (from pandera) (1.3.5)\n",
            "Requirement already satisfied: numpy>=1.19.0 in /usr/local/lib/python3.9/dist-packages (from pandera) (1.22.4)\n",
            "Requirement already satisfied: wrapt in /usr/local/lib/python3.9/dist-packages (from pandera) (1.15.0)\n",
            "Requirement already satisfied: pytz>=2017.3 in /usr/local/lib/python3.9/dist-packages (from pandas>=1.2.0->pandera) (2022.7.1)\n",
            "Requirement already satisfied: python-dateutil>=2.7.3 in /usr/local/lib/python3.9/dist-packages (from pandas>=1.2.0->pandera) (2.8.2)\n",
            "Requirement already satisfied: mypy-extensions>=0.3.0 in /usr/local/lib/python3.9/dist-packages (from typing-inspect>=0.6.0->pandera) (1.0.0)\n",
            "Requirement already satisfied: typing-extensions>=3.7.4 in /usr/local/lib/python3.9/dist-packages (from typing-inspect>=0.6.0->pandera) (4.5.0)\n",
            "Requirement already satisfied: six>=1.5 in /usr/local/lib/python3.9/dist-packages (from python-dateutil>=2.7.3->pandas>=1.2.0->pandera) (1.15.0)\n"
          ]
        }
      ]
    },
    {
      "cell_type": "markdown",
      "source": [
        "#Declaração das LIBS"
      ],
      "metadata": {
        "id": "_Lbr4L4KaQe9"
      }
    },
    {
      "cell_type": "code",
      "source": [
        "import pymongo\n",
        "from pymongo import MongoClient"
      ],
      "metadata": {
        "id": "Sp1mQkTK3qRm"
      },
      "execution_count": null,
      "outputs": []
    },
    {
      "cell_type": "code",
      "source": [
        "import pandas as pd\n",
        "import os\n",
        "import numpy as np\n",
        "from google.cloud import storage\n",
        "import pandera as pa"
      ],
      "metadata": {
        "id": "JHiSMmeK3ruA"
      },
      "execution_count": null,
      "outputs": []
    },
    {
      "cell_type": "markdown",
      "source": [
        "#Configuração do Pandas"
      ],
      "metadata": {
        "id": "jIMVN17faYcb"
      }
    },
    {
      "cell_type": "code",
      "source": [
        "pd.set_option('display.max_columns',100)"
      ],
      "metadata": {
        "id": "LK6xe6XhZxnk"
      },
      "execution_count": null,
      "outputs": []
    },
    {
      "cell_type": "markdown",
      "source": [
        "#Conector para Cloud Storage(bucket) e MongoDB(Atlas) "
      ],
      "metadata": {
        "id": "np_foO01ajlM"
      }
    },
    {
      "cell_type": "code",
      "source": [
        "from pymongo import MongoClient\n",
        "\n",
        "uri = \"mongodb+srv://denisdorneles1.gh3fite.mongodb.net/?authSource=%24external&authMechanism=MONGODB-X509&retryWrites=true&w=majority\"\n",
        "client = MongoClient(uri, tls=True, tlsCertificateKeyFile='/content/X509-cert-1103583867613520106.pem')\n",
        "\n",
        "db = client['soulcode']\n",
        "colecaobruto = db['bruto']\n",
        "doc_count = colecaobruto.count_documents({})\n",
        "print(doc_count)\n"
      ],
      "metadata": {
        "colab": {
          "base_uri": "https://localhost:8080/"
        },
        "id": "4UbhEVPH4A-3",
        "outputId": "9c82a7ae-d5f6-44f8-aae8-4fb1fe603cbd"
      },
      "execution_count": null,
      "outputs": [
        {
          "output_type": "stream",
          "name": "stdout",
          "text": [
            "2240\n"
          ]
        }
      ]
    },
    {
      "cell_type": "code",
      "source": [
        "serviceAccount = '/content/prime-script-377819-8f05e5581164.json'\n",
        "os.environ['GOOGLE_APPLICATION_CREDENTIALS'] = serviceAccount"
      ],
      "metadata": {
        "id": "qA1Ma_-C4D-c"
      },
      "execution_count": null,
      "outputs": []
    },
    {
      "cell_type": "code",
      "source": [
        "client = storage.Client()\n",
        "bucket = client.get_bucket('denisdorneles1')\n",
        "bucket.blob('marketing_campaign.csv')\n",
        "path = 'gs://denisdorneles1/Brutos/marketing_campaign.csv - marketing_campaign.csv (1) - marketing_campaign.csv - marketing_campaign.csv (1).csv'"
      ],
      "metadata": {
        "id": "x-t3TAS585FF"
      },
      "execution_count": null,
      "outputs": []
    },
    {
      "cell_type": "markdown",
      "source": [
        "#Extração de dados(Extract)"
      ],
      "metadata": {
        "id": "MKgcz_WGa2sj"
      }
    },
    {
      "cell_type": "code",
      "source": [
        "df = pd.read_csv(path)"
      ],
      "metadata": {
        "id": "82zaENaQ9Kz4"
      },
      "execution_count": null,
      "outputs": []
    },
    {
      "cell_type": "markdown",
      "source": [
        "#Pré Analise"
      ],
      "metadata": {
        "id": "HgF0XQcVbDJy"
      }
    },
    {
      "cell_type": "code",
      "source": [
        "df"
      ],
      "metadata": {
        "colab": {
          "base_uri": "https://localhost:8080/",
          "height": 540
        },
        "id": "33Qa12LJ9OyD",
        "outputId": "bc19a0d0-d89f-4abf-b34a-b3cc53f19a8f"
      },
      "execution_count": null,
      "outputs": [
        {
          "output_type": "execute_result",
          "data": {
            "text/plain": [
              "         ID  Ano_de_Nascimento       Educacao   Estado_Civil  Renda_Familiar  \\\n",
              "0      5524               1957      Graduacao       Solteiro         58138.0   \n",
              "1      2174               1954      Graduacao       Solteiro         46344.0   \n",
              "2      4141               1965      Graduacao  Uniao Estavel         71613.0   \n",
              "3      6182               1984      Graduacao  Uniao Estavel         26646.0   \n",
              "4      5324               1981  Pos-Doutorado         Casado         58293.0   \n",
              "...     ...                ...            ...            ...             ...   \n",
              "2235  10870               1967      Graduacao         Casado         61223.0   \n",
              "2236   4001               1946  Pos-Doutorado  Uniao Estavel         64014.0   \n",
              "2237   7270               1981      Graduacao     Divorciado         56981.0   \n",
              "2238   8235               1956         Mestre  Uniao Estavel         69245.0   \n",
              "2239   9405               1954  Pos-Doutorado         Casado         52869.0   \n",
              "\n",
              "      Criancas  Adolescentes Data_Inscricao  Ultima_Compra  NumComprasVinho  \\\n",
              "0            0             0     04-09-2012             58              635   \n",
              "1            1             1     08-03-2014             38               11   \n",
              "2            0             0     21-08-2013             26              426   \n",
              "3            1             0     10-02-2014             26               11   \n",
              "4            1             0     19-01-2014             94              173   \n",
              "...        ...           ...            ...            ...              ...   \n",
              "2235         0             1     13-06-2013             46              709   \n",
              "2236         2             1     10-06-2014             56              406   \n",
              "2237         0             0     25-01-2014             91              908   \n",
              "2238         0             1     24-01-2014              8              428   \n",
              "2239         1             1     15-10-2012             40               84   \n",
              "\n",
              "      MntFruits  NumComprasCarne  NumComprasPeixe  NumComprasDoces  \\\n",
              "0            88              546              172               88   \n",
              "1             1                6                2                1   \n",
              "2            49              127              111               21   \n",
              "3             4               20               10                3   \n",
              "4            43              118               46               27   \n",
              "...         ...              ...              ...              ...   \n",
              "2235         43              182               42              118   \n",
              "2236          0               30                0                0   \n",
              "2237         48              217               32               12   \n",
              "2238         30              214               80               30   \n",
              "2239          3               61                2                1   \n",
              "\n",
              "      QtdeProdOuro  NumOfertaCompras  NumComprasWeb  NumComprasCatalogo  \\\n",
              "0               88                 3              8                  10   \n",
              "1                6                 2              1                   1   \n",
              "2               42                 1              8                   2   \n",
              "3                5                 2              2                   0   \n",
              "4               15                 5              5                   3   \n",
              "...            ...               ...            ...                 ...   \n",
              "2235           247                 2              9                   3   \n",
              "2236             8                 7              8                   2   \n",
              "2237            24                 1              2                   3   \n",
              "2238            61                 2              6                   5   \n",
              "2239            21                 3              3                   1   \n",
              "\n",
              "      NumComprasLoja  NumVisitasWebMes  AceitouCamp3  AceitouCamp4  \\\n",
              "0                  4                 7             0             0   \n",
              "1                  2                 5             0             0   \n",
              "2                 10                 4             0             0   \n",
              "3                  4                 6             0             0   \n",
              "4                  6                 5             0             0   \n",
              "...              ...               ...           ...           ...   \n",
              "2235               4                 5             0             0   \n",
              "2236               5                 7             0             0   \n",
              "2237              13                 6             0             1   \n",
              "2238              10                 3             0             0   \n",
              "2239               4                 7             0             0   \n",
              "\n",
              "      AceitouCamp5  AceitouCamp1  AceitouCamp2  Reclamacoes  UltimaCampanha  \n",
              "0                0             0             0            0               1  \n",
              "1                0             0             0            0               0  \n",
              "2                0             0             0            0               0  \n",
              "3                0             0             0            0               0  \n",
              "4                0             0             0            0               0  \n",
              "...            ...           ...           ...          ...             ...  \n",
              "2235             0             0             0            0               0  \n",
              "2236             0             1             0            0               0  \n",
              "2237             0             0             0            0               0  \n",
              "2238             0             0             0            0               0  \n",
              "2239             0             0             0            0               1  \n",
              "\n",
              "[2240 rows x 27 columns]"
            ],
            "text/html": [
              "\n",
              "  <div id=\"df-f54d7127-8894-4022-8337-9d8a5a9d6cea\">\n",
              "    <div class=\"colab-df-container\">\n",
              "      <div>\n",
              "<style scoped>\n",
              "    .dataframe tbody tr th:only-of-type {\n",
              "        vertical-align: middle;\n",
              "    }\n",
              "\n",
              "    .dataframe tbody tr th {\n",
              "        vertical-align: top;\n",
              "    }\n",
              "\n",
              "    .dataframe thead th {\n",
              "        text-align: right;\n",
              "    }\n",
              "</style>\n",
              "<table border=\"1\" class=\"dataframe\">\n",
              "  <thead>\n",
              "    <tr style=\"text-align: right;\">\n",
              "      <th></th>\n",
              "      <th>ID</th>\n",
              "      <th>Ano_de_Nascimento</th>\n",
              "      <th>Educacao</th>\n",
              "      <th>Estado_Civil</th>\n",
              "      <th>Renda_Familiar</th>\n",
              "      <th>Criancas</th>\n",
              "      <th>Adolescentes</th>\n",
              "      <th>Data_Inscricao</th>\n",
              "      <th>Ultima_Compra</th>\n",
              "      <th>NumComprasVinho</th>\n",
              "      <th>MntFruits</th>\n",
              "      <th>NumComprasCarne</th>\n",
              "      <th>NumComprasPeixe</th>\n",
              "      <th>NumComprasDoces</th>\n",
              "      <th>QtdeProdOuro</th>\n",
              "      <th>NumOfertaCompras</th>\n",
              "      <th>NumComprasWeb</th>\n",
              "      <th>NumComprasCatalogo</th>\n",
              "      <th>NumComprasLoja</th>\n",
              "      <th>NumVisitasWebMes</th>\n",
              "      <th>AceitouCamp3</th>\n",
              "      <th>AceitouCamp4</th>\n",
              "      <th>AceitouCamp5</th>\n",
              "      <th>AceitouCamp1</th>\n",
              "      <th>AceitouCamp2</th>\n",
              "      <th>Reclamacoes</th>\n",
              "      <th>UltimaCampanha</th>\n",
              "    </tr>\n",
              "  </thead>\n",
              "  <tbody>\n",
              "    <tr>\n",
              "      <th>0</th>\n",
              "      <td>5524</td>\n",
              "      <td>1957</td>\n",
              "      <td>Graduacao</td>\n",
              "      <td>Solteiro</td>\n",
              "      <td>58138.0</td>\n",
              "      <td>0</td>\n",
              "      <td>0</td>\n",
              "      <td>04-09-2012</td>\n",
              "      <td>58</td>\n",
              "      <td>635</td>\n",
              "      <td>88</td>\n",
              "      <td>546</td>\n",
              "      <td>172</td>\n",
              "      <td>88</td>\n",
              "      <td>88</td>\n",
              "      <td>3</td>\n",
              "      <td>8</td>\n",
              "      <td>10</td>\n",
              "      <td>4</td>\n",
              "      <td>7</td>\n",
              "      <td>0</td>\n",
              "      <td>0</td>\n",
              "      <td>0</td>\n",
              "      <td>0</td>\n",
              "      <td>0</td>\n",
              "      <td>0</td>\n",
              "      <td>1</td>\n",
              "    </tr>\n",
              "    <tr>\n",
              "      <th>1</th>\n",
              "      <td>2174</td>\n",
              "      <td>1954</td>\n",
              "      <td>Graduacao</td>\n",
              "      <td>Solteiro</td>\n",
              "      <td>46344.0</td>\n",
              "      <td>1</td>\n",
              "      <td>1</td>\n",
              "      <td>08-03-2014</td>\n",
              "      <td>38</td>\n",
              "      <td>11</td>\n",
              "      <td>1</td>\n",
              "      <td>6</td>\n",
              "      <td>2</td>\n",
              "      <td>1</td>\n",
              "      <td>6</td>\n",
              "      <td>2</td>\n",
              "      <td>1</td>\n",
              "      <td>1</td>\n",
              "      <td>2</td>\n",
              "      <td>5</td>\n",
              "      <td>0</td>\n",
              "      <td>0</td>\n",
              "      <td>0</td>\n",
              "      <td>0</td>\n",
              "      <td>0</td>\n",
              "      <td>0</td>\n",
              "      <td>0</td>\n",
              "    </tr>\n",
              "    <tr>\n",
              "      <th>2</th>\n",
              "      <td>4141</td>\n",
              "      <td>1965</td>\n",
              "      <td>Graduacao</td>\n",
              "      <td>Uniao Estavel</td>\n",
              "      <td>71613.0</td>\n",
              "      <td>0</td>\n",
              "      <td>0</td>\n",
              "      <td>21-08-2013</td>\n",
              "      <td>26</td>\n",
              "      <td>426</td>\n",
              "      <td>49</td>\n",
              "      <td>127</td>\n",
              "      <td>111</td>\n",
              "      <td>21</td>\n",
              "      <td>42</td>\n",
              "      <td>1</td>\n",
              "      <td>8</td>\n",
              "      <td>2</td>\n",
              "      <td>10</td>\n",
              "      <td>4</td>\n",
              "      <td>0</td>\n",
              "      <td>0</td>\n",
              "      <td>0</td>\n",
              "      <td>0</td>\n",
              "      <td>0</td>\n",
              "      <td>0</td>\n",
              "      <td>0</td>\n",
              "    </tr>\n",
              "    <tr>\n",
              "      <th>3</th>\n",
              "      <td>6182</td>\n",
              "      <td>1984</td>\n",
              "      <td>Graduacao</td>\n",
              "      <td>Uniao Estavel</td>\n",
              "      <td>26646.0</td>\n",
              "      <td>1</td>\n",
              "      <td>0</td>\n",
              "      <td>10-02-2014</td>\n",
              "      <td>26</td>\n",
              "      <td>11</td>\n",
              "      <td>4</td>\n",
              "      <td>20</td>\n",
              "      <td>10</td>\n",
              "      <td>3</td>\n",
              "      <td>5</td>\n",
              "      <td>2</td>\n",
              "      <td>2</td>\n",
              "      <td>0</td>\n",
              "      <td>4</td>\n",
              "      <td>6</td>\n",
              "      <td>0</td>\n",
              "      <td>0</td>\n",
              "      <td>0</td>\n",
              "      <td>0</td>\n",
              "      <td>0</td>\n",
              "      <td>0</td>\n",
              "      <td>0</td>\n",
              "    </tr>\n",
              "    <tr>\n",
              "      <th>4</th>\n",
              "      <td>5324</td>\n",
              "      <td>1981</td>\n",
              "      <td>Pos-Doutorado</td>\n",
              "      <td>Casado</td>\n",
              "      <td>58293.0</td>\n",
              "      <td>1</td>\n",
              "      <td>0</td>\n",
              "      <td>19-01-2014</td>\n",
              "      <td>94</td>\n",
              "      <td>173</td>\n",
              "      <td>43</td>\n",
              "      <td>118</td>\n",
              "      <td>46</td>\n",
              "      <td>27</td>\n",
              "      <td>15</td>\n",
              "      <td>5</td>\n",
              "      <td>5</td>\n",
              "      <td>3</td>\n",
              "      <td>6</td>\n",
              "      <td>5</td>\n",
              "      <td>0</td>\n",
              "      <td>0</td>\n",
              "      <td>0</td>\n",
              "      <td>0</td>\n",
              "      <td>0</td>\n",
              "      <td>0</td>\n",
              "      <td>0</td>\n",
              "    </tr>\n",
              "    <tr>\n",
              "      <th>...</th>\n",
              "      <td>...</td>\n",
              "      <td>...</td>\n",
              "      <td>...</td>\n",
              "      <td>...</td>\n",
              "      <td>...</td>\n",
              "      <td>...</td>\n",
              "      <td>...</td>\n",
              "      <td>...</td>\n",
              "      <td>...</td>\n",
              "      <td>...</td>\n",
              "      <td>...</td>\n",
              "      <td>...</td>\n",
              "      <td>...</td>\n",
              "      <td>...</td>\n",
              "      <td>...</td>\n",
              "      <td>...</td>\n",
              "      <td>...</td>\n",
              "      <td>...</td>\n",
              "      <td>...</td>\n",
              "      <td>...</td>\n",
              "      <td>...</td>\n",
              "      <td>...</td>\n",
              "      <td>...</td>\n",
              "      <td>...</td>\n",
              "      <td>...</td>\n",
              "      <td>...</td>\n",
              "      <td>...</td>\n",
              "    </tr>\n",
              "    <tr>\n",
              "      <th>2235</th>\n",
              "      <td>10870</td>\n",
              "      <td>1967</td>\n",
              "      <td>Graduacao</td>\n",
              "      <td>Casado</td>\n",
              "      <td>61223.0</td>\n",
              "      <td>0</td>\n",
              "      <td>1</td>\n",
              "      <td>13-06-2013</td>\n",
              "      <td>46</td>\n",
              "      <td>709</td>\n",
              "      <td>43</td>\n",
              "      <td>182</td>\n",
              "      <td>42</td>\n",
              "      <td>118</td>\n",
              "      <td>247</td>\n",
              "      <td>2</td>\n",
              "      <td>9</td>\n",
              "      <td>3</td>\n",
              "      <td>4</td>\n",
              "      <td>5</td>\n",
              "      <td>0</td>\n",
              "      <td>0</td>\n",
              "      <td>0</td>\n",
              "      <td>0</td>\n",
              "      <td>0</td>\n",
              "      <td>0</td>\n",
              "      <td>0</td>\n",
              "    </tr>\n",
              "    <tr>\n",
              "      <th>2236</th>\n",
              "      <td>4001</td>\n",
              "      <td>1946</td>\n",
              "      <td>Pos-Doutorado</td>\n",
              "      <td>Uniao Estavel</td>\n",
              "      <td>64014.0</td>\n",
              "      <td>2</td>\n",
              "      <td>1</td>\n",
              "      <td>10-06-2014</td>\n",
              "      <td>56</td>\n",
              "      <td>406</td>\n",
              "      <td>0</td>\n",
              "      <td>30</td>\n",
              "      <td>0</td>\n",
              "      <td>0</td>\n",
              "      <td>8</td>\n",
              "      <td>7</td>\n",
              "      <td>8</td>\n",
              "      <td>2</td>\n",
              "      <td>5</td>\n",
              "      <td>7</td>\n",
              "      <td>0</td>\n",
              "      <td>0</td>\n",
              "      <td>0</td>\n",
              "      <td>1</td>\n",
              "      <td>0</td>\n",
              "      <td>0</td>\n",
              "      <td>0</td>\n",
              "    </tr>\n",
              "    <tr>\n",
              "      <th>2237</th>\n",
              "      <td>7270</td>\n",
              "      <td>1981</td>\n",
              "      <td>Graduacao</td>\n",
              "      <td>Divorciado</td>\n",
              "      <td>56981.0</td>\n",
              "      <td>0</td>\n",
              "      <td>0</td>\n",
              "      <td>25-01-2014</td>\n",
              "      <td>91</td>\n",
              "      <td>908</td>\n",
              "      <td>48</td>\n",
              "      <td>217</td>\n",
              "      <td>32</td>\n",
              "      <td>12</td>\n",
              "      <td>24</td>\n",
              "      <td>1</td>\n",
              "      <td>2</td>\n",
              "      <td>3</td>\n",
              "      <td>13</td>\n",
              "      <td>6</td>\n",
              "      <td>0</td>\n",
              "      <td>1</td>\n",
              "      <td>0</td>\n",
              "      <td>0</td>\n",
              "      <td>0</td>\n",
              "      <td>0</td>\n",
              "      <td>0</td>\n",
              "    </tr>\n",
              "    <tr>\n",
              "      <th>2238</th>\n",
              "      <td>8235</td>\n",
              "      <td>1956</td>\n",
              "      <td>Mestre</td>\n",
              "      <td>Uniao Estavel</td>\n",
              "      <td>69245.0</td>\n",
              "      <td>0</td>\n",
              "      <td>1</td>\n",
              "      <td>24-01-2014</td>\n",
              "      <td>8</td>\n",
              "      <td>428</td>\n",
              "      <td>30</td>\n",
              "      <td>214</td>\n",
              "      <td>80</td>\n",
              "      <td>30</td>\n",
              "      <td>61</td>\n",
              "      <td>2</td>\n",
              "      <td>6</td>\n",
              "      <td>5</td>\n",
              "      <td>10</td>\n",
              "      <td>3</td>\n",
              "      <td>0</td>\n",
              "      <td>0</td>\n",
              "      <td>0</td>\n",
              "      <td>0</td>\n",
              "      <td>0</td>\n",
              "      <td>0</td>\n",
              "      <td>0</td>\n",
              "    </tr>\n",
              "    <tr>\n",
              "      <th>2239</th>\n",
              "      <td>9405</td>\n",
              "      <td>1954</td>\n",
              "      <td>Pos-Doutorado</td>\n",
              "      <td>Casado</td>\n",
              "      <td>52869.0</td>\n",
              "      <td>1</td>\n",
              "      <td>1</td>\n",
              "      <td>15-10-2012</td>\n",
              "      <td>40</td>\n",
              "      <td>84</td>\n",
              "      <td>3</td>\n",
              "      <td>61</td>\n",
              "      <td>2</td>\n",
              "      <td>1</td>\n",
              "      <td>21</td>\n",
              "      <td>3</td>\n",
              "      <td>3</td>\n",
              "      <td>1</td>\n",
              "      <td>4</td>\n",
              "      <td>7</td>\n",
              "      <td>0</td>\n",
              "      <td>0</td>\n",
              "      <td>0</td>\n",
              "      <td>0</td>\n",
              "      <td>0</td>\n",
              "      <td>0</td>\n",
              "      <td>1</td>\n",
              "    </tr>\n",
              "  </tbody>\n",
              "</table>\n",
              "<p>2240 rows × 27 columns</p>\n",
              "</div>\n",
              "      <button class=\"colab-df-convert\" onclick=\"convertToInteractive('df-f54d7127-8894-4022-8337-9d8a5a9d6cea')\"\n",
              "              title=\"Convert this dataframe to an interactive table.\"\n",
              "              style=\"display:none;\">\n",
              "        \n",
              "  <svg xmlns=\"http://www.w3.org/2000/svg\" height=\"24px\"viewBox=\"0 0 24 24\"\n",
              "       width=\"24px\">\n",
              "    <path d=\"M0 0h24v24H0V0z\" fill=\"none\"/>\n",
              "    <path d=\"M18.56 5.44l.94 2.06.94-2.06 2.06-.94-2.06-.94-.94-2.06-.94 2.06-2.06.94zm-11 1L8.5 8.5l.94-2.06 2.06-.94-2.06-.94L8.5 2.5l-.94 2.06-2.06.94zm10 10l.94 2.06.94-2.06 2.06-.94-2.06-.94-.94-2.06-.94 2.06-2.06.94z\"/><path d=\"M17.41 7.96l-1.37-1.37c-.4-.4-.92-.59-1.43-.59-.52 0-1.04.2-1.43.59L10.3 9.45l-7.72 7.72c-.78.78-.78 2.05 0 2.83L4 21.41c.39.39.9.59 1.41.59.51 0 1.02-.2 1.41-.59l7.78-7.78 2.81-2.81c.8-.78.8-2.07 0-2.86zM5.41 20L4 18.59l7.72-7.72 1.47 1.35L5.41 20z\"/>\n",
              "  </svg>\n",
              "      </button>\n",
              "      \n",
              "  <style>\n",
              "    .colab-df-container {\n",
              "      display:flex;\n",
              "      flex-wrap:wrap;\n",
              "      gap: 12px;\n",
              "    }\n",
              "\n",
              "    .colab-df-convert {\n",
              "      background-color: #E8F0FE;\n",
              "      border: none;\n",
              "      border-radius: 50%;\n",
              "      cursor: pointer;\n",
              "      display: none;\n",
              "      fill: #1967D2;\n",
              "      height: 32px;\n",
              "      padding: 0 0 0 0;\n",
              "      width: 32px;\n",
              "    }\n",
              "\n",
              "    .colab-df-convert:hover {\n",
              "      background-color: #E2EBFA;\n",
              "      box-shadow: 0px 1px 2px rgba(60, 64, 67, 0.3), 0px 1px 3px 1px rgba(60, 64, 67, 0.15);\n",
              "      fill: #174EA6;\n",
              "    }\n",
              "\n",
              "    [theme=dark] .colab-df-convert {\n",
              "      background-color: #3B4455;\n",
              "      fill: #D2E3FC;\n",
              "    }\n",
              "\n",
              "    [theme=dark] .colab-df-convert:hover {\n",
              "      background-color: #434B5C;\n",
              "      box-shadow: 0px 1px 3px 1px rgba(0, 0, 0, 0.15);\n",
              "      filter: drop-shadow(0px 1px 2px rgba(0, 0, 0, 0.3));\n",
              "      fill: #FFFFFF;\n",
              "    }\n",
              "  </style>\n",
              "\n",
              "      <script>\n",
              "        const buttonEl =\n",
              "          document.querySelector('#df-f54d7127-8894-4022-8337-9d8a5a9d6cea button.colab-df-convert');\n",
              "        buttonEl.style.display =\n",
              "          google.colab.kernel.accessAllowed ? 'block' : 'none';\n",
              "\n",
              "        async function convertToInteractive(key) {\n",
              "          const element = document.querySelector('#df-f54d7127-8894-4022-8337-9d8a5a9d6cea');\n",
              "          const dataTable =\n",
              "            await google.colab.kernel.invokeFunction('convertToInteractive',\n",
              "                                                     [key], {});\n",
              "          if (!dataTable) return;\n",
              "\n",
              "          const docLinkHtml = 'Like what you see? Visit the ' +\n",
              "            '<a target=\"_blank\" href=https://colab.research.google.com/notebooks/data_table.ipynb>data table notebook</a>'\n",
              "            + ' to learn more about interactive tables.';\n",
              "          element.innerHTML = '';\n",
              "          dataTable['output_type'] = 'display_data';\n",
              "          await google.colab.output.renderOutput(dataTable, element);\n",
              "          const docLink = document.createElement('div');\n",
              "          docLink.innerHTML = docLinkHtml;\n",
              "          element.appendChild(docLink);\n",
              "        }\n",
              "      </script>\n",
              "    </div>\n",
              "  </div>\n",
              "  "
            ]
          },
          "metadata": {},
          "execution_count": 52
        }
      ]
    },
    {
      "cell_type": "markdown",
      "source": [
        "#Envio dos dados brutos(Mongo)"
      ],
      "metadata": {
        "id": "lPtdBuvJbLS1"
      }
    },
    {
      "cell_type": "code",
      "source": [
        "#NÃO UTILIZAR - JÁ FOI ENVIADO\n",
        "df_dict = df.to_dict(\"records\")\n",
        "\n",
        "colecaobruto.insert_many(df_dict)"
      ],
      "metadata": {
        "colab": {
          "base_uri": "https://localhost:8080/"
        },
        "id": "4ffrGf1o9Yam",
        "outputId": "6541d2fa-10e9-4e0c-8e94-fe52592f310b"
      },
      "execution_count": null,
      "outputs": [
        {
          "output_type": "execute_result",
          "data": {
            "text/plain": [
              "<pymongo.results.InsertManyResult at 0x7f9ffd4c8160>"
            ]
          },
          "metadata": {},
          "execution_count": 11
        }
      ]
    },
    {
      "cell_type": "markdown",
      "source": [
        "#Transformaçoes(Limpeza, conversão, etc)"
      ],
      "metadata": {
        "id": "MsAXEv4gbUCs"
      }
    },
    {
      "cell_type": "code",
      "source": [
        "#Tipo de dados das Colunas\n",
        "df.dtypes"
      ],
      "metadata": {
        "colab": {
          "base_uri": "https://localhost:8080/"
        },
        "id": "PjvOECSQ-M22",
        "outputId": "88dcb23c-25f2-43b3-e70f-2aaab870a927"
      },
      "execution_count": null,
      "outputs": [
        {
          "output_type": "execute_result",
          "data": {
            "text/plain": [
              "ID                       int64\n",
              "Year_Birth               int64\n",
              "Education               object\n",
              "Marital_Status          object\n",
              "Income                 float64\n",
              "Kidhome                  int64\n",
              "Teenhome                 int64\n",
              "Dt_Customer             object\n",
              "Recency                  int64\n",
              "MntWines                 int64\n",
              "MntFruits                int64\n",
              "MntMeatProducts          int64\n",
              "MntFishProducts          int64\n",
              "MntSweetProducts         int64\n",
              "MntGoldProds             int64\n",
              "NumDealsPurchases        int64\n",
              "NumWebPurchases          int64\n",
              "NumCatalogPurchases      int64\n",
              "NumStorePurchases        int64\n",
              "NumWebVisitsMonth        int64\n",
              "AcceptedCmp3             int64\n",
              "AcceptedCmp4             int64\n",
              "AcceptedCmp5             int64\n",
              "AcceptedCmp1             int64\n",
              "AcceptedCmp2             int64\n",
              "Complain                 int64\n",
              "Z_CostContact            int64\n",
              "Z_Revenue                int64\n",
              "Response                 int64\n",
              "dtype: object"
            ]
          },
          "metadata": {},
          "execution_count": 12
        }
      ]
    },
    {
      "cell_type": "code",
      "source": [
        "#Backup dos dados brutos\n",
        "dfback = df.copy()"
      ],
      "metadata": {
        "id": "7Mf0BJ7BBU42"
      },
      "execution_count": null,
      "outputs": []
    },
    {
      "cell_type": "code",
      "source": [
        "#Teste para Valores Unicos - Testamos todos as colunas para verificar se havia insconsistência. \n",
        "pd.unique(df['Renda_Familiar'])"
      ],
      "metadata": {
        "colab": {
          "base_uri": "https://localhost:8080/"
        },
        "id": "hg7AHcMp_YC8",
        "outputId": "53719534-426f-479c-cbdb-e7d81856e9aa"
      },
      "execution_count": null,
      "outputs": [
        {
          "output_type": "execute_result",
          "data": {
            "text/plain": [
              "array([58138., 46344., 71613., ..., 56981., 69245., 52869.])"
            ]
          },
          "metadata": {},
          "execution_count": 31
        }
      ]
    },
    {
      "cell_type": "code",
      "source": [
        "#Teste para Valores Unicos - Testamos todos as colunas para verificar se havia insconsistência. \n",
        "df.nunique()"
      ],
      "metadata": {
        "id": "F5Qq95ssdN3J",
        "colab": {
          "base_uri": "https://localhost:8080/"
        },
        "outputId": "02c2a967-fb5b-46ef-8dc5-1dbdd9971913"
      },
      "execution_count": null,
      "outputs": [
        {
          "output_type": "execute_result",
          "data": {
            "text/plain": [
              "ID                    2240\n",
              "Ano_de_Nascimento       59\n",
              "Educacao                 5\n",
              "Estado_Civil             8\n",
              "Renda_Familiar        1974\n",
              "Criancas                 3\n",
              "Adolescentes             3\n",
              "Data_Inscricao         663\n",
              "Ultima_Compra          100\n",
              "NumComprasVinho        776\n",
              "MntFruits              158\n",
              "NumComprasCarne        558\n",
              "NumComprasPeixe        182\n",
              "NumComprasDoces        177\n",
              "QtdeProdOuro           213\n",
              "NumOfertaCompras        15\n",
              "NumComprasWeb           15\n",
              "NumComprasCatalogo      14\n",
              "NumComprasLoja          14\n",
              "NumVisitasWebMes        16\n",
              "AceitouCamp3             2\n",
              "AceitouCamp4             2\n",
              "AceitouCamp5             2\n",
              "AceitouCamp1             2\n",
              "AceitouCamp2             2\n",
              "Reclamacoes              2\n",
              "UltimaCampanha           2\n",
              "dtype: int64"
            ]
          },
          "metadata": {},
          "execution_count": 32
        }
      ]
    },
    {
      "cell_type": "code",
      "source": [
        "#Verificar dados Nulos , ausentes , etc\n",
        "df.count()"
      ],
      "metadata": {
        "colab": {
          "base_uri": "https://localhost:8080/"
        },
        "id": "-0DTP5kIiPoT",
        "outputId": "97832c7f-52e4-4464-e141-6e89d8c78400"
      },
      "execution_count": null,
      "outputs": [
        {
          "output_type": "execute_result",
          "data": {
            "text/plain": [
              "ID                    2240\n",
              "Ano_de_Nascimento     2240\n",
              "Educacao              2240\n",
              "Estado_Civil          2240\n",
              "Renda_Familiar        2216\n",
              "Criancas              2240\n",
              "Adolescentes          2240\n",
              "Data_Inscricao        2240\n",
              "Ultima_Compra         2240\n",
              "NumComprasVinho       2240\n",
              "NumComprasFrutas      2240\n",
              "NumComprasCarne       2240\n",
              "NumComprasPeixe       2240\n",
              "NumComprasDoces       2240\n",
              "QtdeProdOuro          2240\n",
              "NumOfertaCompras      2240\n",
              "NumComprasWeb         2240\n",
              "NumComprasCatalogo    2240\n",
              "NumComprasLoja        2240\n",
              "NumVisitasWebMes      2240\n",
              "AceitouCamp3          2240\n",
              "AceitouCamp4          2240\n",
              "AceitouCamp5          2240\n",
              "AceitouCamp1          2240\n",
              "AceitouCamp2          2240\n",
              "Reclamacoes           2240\n",
              "UltimaCampanha        2240\n",
              "dtype: int64"
            ]
          },
          "metadata": {},
          "execution_count": 85
        }
      ]
    },
    {
      "cell_type": "code",
      "source": [
        "#Tradução das Colunas\n",
        "df.rename(columns={'Year_Birth':'Ano_de_Nascimento','MntFruits':'NumComprasFrutas','Education':'Educacao','Marital_Status':'Estado_Civil','Income':'Renda_Familiar','Kidhome':'Criancas','Teenhome':'Adolescentes','Dt_Customer':'Data_Inscricao','Recency':'Ultima_Compra','MntWines':'NumComprasVinho','MntMeatProducts':'NumComprasCarne','MntFishProducts':'NumComprasPeixe','MntSweetProducts':'NumComprasDoces','Complain':'Reclamacoes','Response':'UltimaCampanha','MntGoldProds':'QtdeProdOuro', 'NumDealsPurchases':'NumOfertaCompras', 'NumWebPurchases':'NumComprasWeb', 'NumCatalogPurchases':'NumComprasCatalogo', 'NumStorePurchases':'NumComprasLoja', 'NumWebVisitsMonth':'NumVisitasWebMes', 'AcceptedCmp3':'AceitouCamp3','AcceptedCmp4':'AceitouCamp4','AcceptedCmp5':'AceitouCamp5','AcceptedCmp1':'AceitouCamp1','AcceptedCmp2':'AceitouCamp2'},inplace=True)"
      ],
      "metadata": {
        "id": "F1KzFIbabqY6"
      },
      "execution_count": null,
      "outputs": []
    },
    {
      "cell_type": "code",
      "source": [
        "#Exclusão de colunas - Decidimos essas pelo motivo de possuir somente um valor.\n",
        "df.drop(['Z_CostContact','Z_Revenue'],axis=1,inplace=True)"
      ],
      "metadata": {
        "id": "WmJ9OCUdlduk"
      },
      "execution_count": null,
      "outputs": []
    },
    {
      "cell_type": "code",
      "source": [
        "#Tradução Células\n",
        "df.loc[df.Educacao == 'Graduation',['Educacao']] = 'Graduacao'\n",
        "df.loc[df.Educacao == 'PhD',['Educacao']] = 'Pos-Doutorado'\n",
        "df.loc[df.Educacao == 'Basic',['Educacao']] = 'Educacao Basica'\n",
        "df.loc[df.Educacao == 'Master',['Educacao']] = 'Mestre'\n",
        "df.loc[df.Educacao == '2n Cycle',['Educacao']] = 'Especializacao'"
      ],
      "metadata": {
        "id": "y51bGk35pjWv"
      },
      "execution_count": null,
      "outputs": []
    },
    {
      "cell_type": "code",
      "source": [
        "#Tradução Células\n",
        "df.loc[df.Estado_Civil == 'Single',['Estado_Civil']] = 'Solteiro'\n",
        "df.loc[df.Estado_Civil == 'Together',['Estado_Civil']] = 'Uniao Estavel'\n",
        "df.loc[df.Estado_Civil == 'Married',['Estado_Civil']] = 'Casado'\n",
        "df.loc[df.Estado_Civil == 'Divorced',['Estado_Civil']] = 'Divorciado'\n",
        "df.loc[df.Estado_Civil == 'Widow',['Estado_Civil']] = 'Viuvo'\n",
        "df.loc[df.Estado_Civil == 'Alone',['Estado_Civil']] = 'Sozinho'\n",
        "df.loc[df.Estado_Civil == 'Absurd',['Estado_Civil']] = 'Não interessado em Informar'"
      ],
      "metadata": {
        "id": "EAh0Zy2juKpl"
      },
      "execution_count": null,
      "outputs": []
    },
    {
      "cell_type": "code",
      "source": [
        "#Contagem dados Nulos , ausentes , etc\n",
        "df.isna().sum()"
      ],
      "metadata": {
        "colab": {
          "base_uri": "https://localhost:8080/"
        },
        "id": "Ws7wD9Xuu_CV",
        "outputId": "9e933825-f48a-4af1-ac8b-28bcb8fc8ad7"
      },
      "execution_count": null,
      "outputs": [
        {
          "output_type": "execute_result",
          "data": {
            "text/plain": [
              "ID                     0\n",
              "Ano_de_Nascimento      0\n",
              "Educacao               0\n",
              "Estado_Civil           0\n",
              "Renda_Familiar        24\n",
              "Criancas               0\n",
              "Adolescentes           0\n",
              "Data_Inscricao         0\n",
              "Ultima_Compra          0\n",
              "NumComprasVinho        0\n",
              "MntFruits              0\n",
              "NumComprasCarne        0\n",
              "NumComprasPeixe        0\n",
              "NumComprasDoces        0\n",
              "QtdeProdOuro           0\n",
              "NumOfertaCompras       0\n",
              "NumComprasWeb          0\n",
              "NumComprasCatalogo     0\n",
              "NumComprasLoja         0\n",
              "NumVisitasWebMes       0\n",
              "AceitouCamp3           0\n",
              "AceitouCamp4           0\n",
              "AceitouCamp5           0\n",
              "AceitouCamp1           0\n",
              "AceitouCamp2           0\n",
              "Reclamacoes            0\n",
              "UltimaCampanha         0\n",
              "dtype: int64"
            ]
          },
          "metadata": {},
          "execution_count": 20
        }
      ]
    },
    {
      "cell_type": "code",
      "source": [
        "#Modificar NA para NaN - Motivo somente NaN é aceito no mongo\n",
        "df.replace(pd.NA,np.NaN,inplace=True)"
      ],
      "metadata": {
        "id": "5Xp2irQ6vF5X"
      },
      "execution_count": null,
      "outputs": []
    },
    {
      "cell_type": "code",
      "source": [
        "#Verificar se foi todos modificados\n",
        "df.groupby(['Renda_Familiar'],dropna=False).size().sort_values(ascending=False)"
      ],
      "metadata": {
        "colab": {
          "base_uri": "https://localhost:8080/"
        },
        "id": "Oe1zOdc_wQVF",
        "outputId": "730ba34e-df77-45d1-eb8a-cd97dd39f21b"
      },
      "execution_count": null,
      "outputs": [
        {
          "output_type": "execute_result",
          "data": {
            "text/plain": [
              "Renda_Familiar\n",
              "NaN        24\n",
              "7500.0     12\n",
              "35860.0     4\n",
              "47025.0     3\n",
              "48432.0     3\n",
              "           ..\n",
              "42160.0     1\n",
              "42081.0     1\n",
              "42033.0     1\n",
              "42021.0     1\n",
              "51813.0     1\n",
              "Length: 1975, dtype: int64"
            ]
          },
          "metadata": {},
          "execution_count": 22
        }
      ]
    },
    {
      "cell_type": "markdown",
      "source": [
        "#Dados não Confiaveis"
      ],
      "metadata": {
        "id": "xtmJo1nofc6v"
      }
    },
    {
      "cell_type": "code",
      "source": [
        "#Agrupando dados para a analise\n",
        "df.groupby(['Ano_de_Nascimento'],dropna=False).size().sort_values(ascending=False)"
      ],
      "metadata": {
        "colab": {
          "base_uri": "https://localhost:8080/"
        },
        "id": "-Jw-d8FCz722",
        "outputId": "b9fd1b4b-8f89-40a0-f7d0-ad543c5a61fc"
      },
      "execution_count": null,
      "outputs": [
        {
          "output_type": "execute_result",
          "data": {
            "text/plain": [
              "Ano_de_Nascimento\n",
              "1976    89\n",
              "1971    87\n",
              "1975    83\n",
              "1972    79\n",
              "1970    77\n",
              "1978    77\n",
              "1973    74\n",
              "1965    74\n",
              "1969    71\n",
              "1974    69\n",
              "1956    55\n",
              "1958    53\n",
              "1979    53\n",
              "1977    52\n",
              "1952    52\n",
              "1959    51\n",
              "1968    51\n",
              "1966    50\n",
              "1954    50\n",
              "1955    49\n",
              "1960    49\n",
              "1982    45\n",
              "1963    45\n",
              "1962    44\n",
              "1967    44\n",
              "1957    43\n",
              "1951    43\n",
              "1983    42\n",
              "1986    42\n",
              "1964    42\n",
              "1980    39\n",
              "1981    39\n",
              "1984    38\n",
              "1961    36\n",
              "1953    35\n",
              "1985    32\n",
              "1949    30\n",
              "1989    30\n",
              "1950    29\n",
              "1988    29\n",
              "1987    27\n",
              "1948    21\n",
              "1990    18\n",
              "1947    16\n",
              "1946    16\n",
              "1991    15\n",
              "1992    13\n",
              "1945     8\n",
              "1944     7\n",
              "1943     7\n",
              "1995     5\n",
              "1993     5\n",
              "1994     3\n",
              "1996     2\n",
              "1899     1\n",
              "1941     1\n",
              "1940     1\n",
              "1900     1\n",
              "1893     1\n",
              "dtype: int64"
            ]
          },
          "metadata": {},
          "execution_count": 23
        }
      ]
    },
    {
      "cell_type": "code",
      "source": [
        "#Filtros dados\n",
        "ft2021 = df.Ano_de_Nascimento == 1899\n",
        "df.loc[ft2021]"
      ],
      "metadata": {
        "colab": {
          "base_uri": "https://localhost:8080/",
          "height": 162
        },
        "id": "8GMxY_uNxfRj",
        "outputId": "b2fbb262-0333-45a4-cc66-83c8a8620601"
      },
      "execution_count": null,
      "outputs": [
        {
          "output_type": "execute_result",
          "data": {
            "text/plain": [
              "       ID  Ano_de_Nascimento       Educacao   Estado_Civil  Renda_Familiar  \\\n",
              "339  1150               1899  Pos-Doutorado  Uniao Estavel         83532.0   \n",
              "\n",
              "     Criancas  Adolescentes Data_Inscricao  Ultima_Compra  NumComprasVinho  \\\n",
              "339         0             0     26-09-2013             36              755   \n",
              "\n",
              "     MntFruits  NumComprasCarne  NumComprasPeixe  NumComprasDoces  \\\n",
              "339        144              562              104               64   \n",
              "\n",
              "     QtdeProdOuro  NumOfertaCompras  NumComprasWeb  NumComprasCatalogo  \\\n",
              "339           224                 1              4                   6   \n",
              "\n",
              "     NumComprasLoja  NumVisitasWebMes  AceitouCamp3  AceitouCamp4  \\\n",
              "339               4                 1             0             0   \n",
              "\n",
              "     AceitouCamp5  AceitouCamp1  AceitouCamp2  Reclamacoes  UltimaCampanha  \n",
              "339             1             0             0            0               0  "
            ],
            "text/html": [
              "\n",
              "  <div id=\"df-9d894eb2-8df0-4df0-a362-f54e41598947\">\n",
              "    <div class=\"colab-df-container\">\n",
              "      <div>\n",
              "<style scoped>\n",
              "    .dataframe tbody tr th:only-of-type {\n",
              "        vertical-align: middle;\n",
              "    }\n",
              "\n",
              "    .dataframe tbody tr th {\n",
              "        vertical-align: top;\n",
              "    }\n",
              "\n",
              "    .dataframe thead th {\n",
              "        text-align: right;\n",
              "    }\n",
              "</style>\n",
              "<table border=\"1\" class=\"dataframe\">\n",
              "  <thead>\n",
              "    <tr style=\"text-align: right;\">\n",
              "      <th></th>\n",
              "      <th>ID</th>\n",
              "      <th>Ano_de_Nascimento</th>\n",
              "      <th>Educacao</th>\n",
              "      <th>Estado_Civil</th>\n",
              "      <th>Renda_Familiar</th>\n",
              "      <th>Criancas</th>\n",
              "      <th>Adolescentes</th>\n",
              "      <th>Data_Inscricao</th>\n",
              "      <th>Ultima_Compra</th>\n",
              "      <th>NumComprasVinho</th>\n",
              "      <th>MntFruits</th>\n",
              "      <th>NumComprasCarne</th>\n",
              "      <th>NumComprasPeixe</th>\n",
              "      <th>NumComprasDoces</th>\n",
              "      <th>QtdeProdOuro</th>\n",
              "      <th>NumOfertaCompras</th>\n",
              "      <th>NumComprasWeb</th>\n",
              "      <th>NumComprasCatalogo</th>\n",
              "      <th>NumComprasLoja</th>\n",
              "      <th>NumVisitasWebMes</th>\n",
              "      <th>AceitouCamp3</th>\n",
              "      <th>AceitouCamp4</th>\n",
              "      <th>AceitouCamp5</th>\n",
              "      <th>AceitouCamp1</th>\n",
              "      <th>AceitouCamp2</th>\n",
              "      <th>Reclamacoes</th>\n",
              "      <th>UltimaCampanha</th>\n",
              "    </tr>\n",
              "  </thead>\n",
              "  <tbody>\n",
              "    <tr>\n",
              "      <th>339</th>\n",
              "      <td>1150</td>\n",
              "      <td>1899</td>\n",
              "      <td>Pos-Doutorado</td>\n",
              "      <td>Uniao Estavel</td>\n",
              "      <td>83532.0</td>\n",
              "      <td>0</td>\n",
              "      <td>0</td>\n",
              "      <td>26-09-2013</td>\n",
              "      <td>36</td>\n",
              "      <td>755</td>\n",
              "      <td>144</td>\n",
              "      <td>562</td>\n",
              "      <td>104</td>\n",
              "      <td>64</td>\n",
              "      <td>224</td>\n",
              "      <td>1</td>\n",
              "      <td>4</td>\n",
              "      <td>6</td>\n",
              "      <td>4</td>\n",
              "      <td>1</td>\n",
              "      <td>0</td>\n",
              "      <td>0</td>\n",
              "      <td>1</td>\n",
              "      <td>0</td>\n",
              "      <td>0</td>\n",
              "      <td>0</td>\n",
              "      <td>0</td>\n",
              "    </tr>\n",
              "  </tbody>\n",
              "</table>\n",
              "</div>\n",
              "      <button class=\"colab-df-convert\" onclick=\"convertToInteractive('df-9d894eb2-8df0-4df0-a362-f54e41598947')\"\n",
              "              title=\"Convert this dataframe to an interactive table.\"\n",
              "              style=\"display:none;\">\n",
              "        \n",
              "  <svg xmlns=\"http://www.w3.org/2000/svg\" height=\"24px\"viewBox=\"0 0 24 24\"\n",
              "       width=\"24px\">\n",
              "    <path d=\"M0 0h24v24H0V0z\" fill=\"none\"/>\n",
              "    <path d=\"M18.56 5.44l.94 2.06.94-2.06 2.06-.94-2.06-.94-.94-2.06-.94 2.06-2.06.94zm-11 1L8.5 8.5l.94-2.06 2.06-.94-2.06-.94L8.5 2.5l-.94 2.06-2.06.94zm10 10l.94 2.06.94-2.06 2.06-.94-2.06-.94-.94-2.06-.94 2.06-2.06.94z\"/><path d=\"M17.41 7.96l-1.37-1.37c-.4-.4-.92-.59-1.43-.59-.52 0-1.04.2-1.43.59L10.3 9.45l-7.72 7.72c-.78.78-.78 2.05 0 2.83L4 21.41c.39.39.9.59 1.41.59.51 0 1.02-.2 1.41-.59l7.78-7.78 2.81-2.81c.8-.78.8-2.07 0-2.86zM5.41 20L4 18.59l7.72-7.72 1.47 1.35L5.41 20z\"/>\n",
              "  </svg>\n",
              "      </button>\n",
              "      \n",
              "  <style>\n",
              "    .colab-df-container {\n",
              "      display:flex;\n",
              "      flex-wrap:wrap;\n",
              "      gap: 12px;\n",
              "    }\n",
              "\n",
              "    .colab-df-convert {\n",
              "      background-color: #E8F0FE;\n",
              "      border: none;\n",
              "      border-radius: 50%;\n",
              "      cursor: pointer;\n",
              "      display: none;\n",
              "      fill: #1967D2;\n",
              "      height: 32px;\n",
              "      padding: 0 0 0 0;\n",
              "      width: 32px;\n",
              "    }\n",
              "\n",
              "    .colab-df-convert:hover {\n",
              "      background-color: #E2EBFA;\n",
              "      box-shadow: 0px 1px 2px rgba(60, 64, 67, 0.3), 0px 1px 3px 1px rgba(60, 64, 67, 0.15);\n",
              "      fill: #174EA6;\n",
              "    }\n",
              "\n",
              "    [theme=dark] .colab-df-convert {\n",
              "      background-color: #3B4455;\n",
              "      fill: #D2E3FC;\n",
              "    }\n",
              "\n",
              "    [theme=dark] .colab-df-convert:hover {\n",
              "      background-color: #434B5C;\n",
              "      box-shadow: 0px 1px 3px 1px rgba(0, 0, 0, 0.15);\n",
              "      filter: drop-shadow(0px 1px 2px rgba(0, 0, 0, 0.3));\n",
              "      fill: #FFFFFF;\n",
              "    }\n",
              "  </style>\n",
              "\n",
              "      <script>\n",
              "        const buttonEl =\n",
              "          document.querySelector('#df-9d894eb2-8df0-4df0-a362-f54e41598947 button.colab-df-convert');\n",
              "        buttonEl.style.display =\n",
              "          google.colab.kernel.accessAllowed ? 'block' : 'none';\n",
              "\n",
              "        async function convertToInteractive(key) {\n",
              "          const element = document.querySelector('#df-9d894eb2-8df0-4df0-a362-f54e41598947');\n",
              "          const dataTable =\n",
              "            await google.colab.kernel.invokeFunction('convertToInteractive',\n",
              "                                                     [key], {});\n",
              "          if (!dataTable) return;\n",
              "\n",
              "          const docLinkHtml = 'Like what you see? Visit the ' +\n",
              "            '<a target=\"_blank\" href=https://colab.research.google.com/notebooks/data_table.ipynb>data table notebook</a>'\n",
              "            + ' to learn more about interactive tables.';\n",
              "          element.innerHTML = '';\n",
              "          dataTable['output_type'] = 'display_data';\n",
              "          await google.colab.output.renderOutput(dataTable, element);\n",
              "          const docLink = document.createElement('div');\n",
              "          docLink.innerHTML = docLinkHtml;\n",
              "          element.appendChild(docLink);\n",
              "        }\n",
              "      </script>\n",
              "    </div>\n",
              "  </div>\n",
              "  "
            ]
          },
          "metadata": {},
          "execution_count": 24
        }
      ]
    },
    {
      "cell_type": "code",
      "source": [
        "#Filtros dados\n",
        "ft2023 = df.Ano_de_Nascimento == 1893"
      ],
      "metadata": {
        "id": "BFaJfzH6f0i_"
      },
      "execution_count": null,
      "outputs": []
    },
    {
      "cell_type": "code",
      "source": [
        "#Filtros dados\n",
        "ft2022 = df.Ano_de_Nascimento == 1900\n",
        "df.loc[ft2022]"
      ],
      "metadata": {
        "colab": {
          "base_uri": "https://localhost:8080/",
          "height": 144
        },
        "id": "SCqP6ApS1Ugp",
        "outputId": "eaf48434-bb54-4414-c591-095c53172901"
      },
      "execution_count": null,
      "outputs": [
        {
          "output_type": "execute_result",
          "data": {
            "text/plain": [
              "       ID  Ano_de_Nascimento        Educacao Estado_Civil  Renda_Familiar  \\\n",
              "192  7829               1900  Especializacao   Divorciado         36640.0   \n",
              "\n",
              "     Criancas  Adolescentes Data_Inscricao  Ultima_Compra  NumComprasVinho  \\\n",
              "192         1             0     26-09-2013             99               15   \n",
              "\n",
              "     MntFruits  NumComprasCarne  NumComprasPeixe  NumComprasDoces  \\\n",
              "192          6                8                7                4   \n",
              "\n",
              "     QtdeProdOuro  NumOfertaCompras  NumComprasWeb  NumComprasCatalogo  \\\n",
              "192            25                 1              2                   1   \n",
              "\n",
              "     NumComprasLoja  NumVisitasWebMes  AceitouCamp3  AceitouCamp4  \\\n",
              "192               2                 5             0             0   \n",
              "\n",
              "     AceitouCamp5  AceitouCamp1  AceitouCamp2  Reclamacoes  UltimaCampanha  \n",
              "192             0             0             0            1               0  "
            ],
            "text/html": [
              "\n",
              "  <div id=\"df-106afad6-029e-4617-a00a-2514acd65b56\">\n",
              "    <div class=\"colab-df-container\">\n",
              "      <div>\n",
              "<style scoped>\n",
              "    .dataframe tbody tr th:only-of-type {\n",
              "        vertical-align: middle;\n",
              "    }\n",
              "\n",
              "    .dataframe tbody tr th {\n",
              "        vertical-align: top;\n",
              "    }\n",
              "\n",
              "    .dataframe thead th {\n",
              "        text-align: right;\n",
              "    }\n",
              "</style>\n",
              "<table border=\"1\" class=\"dataframe\">\n",
              "  <thead>\n",
              "    <tr style=\"text-align: right;\">\n",
              "      <th></th>\n",
              "      <th>ID</th>\n",
              "      <th>Ano_de_Nascimento</th>\n",
              "      <th>Educacao</th>\n",
              "      <th>Estado_Civil</th>\n",
              "      <th>Renda_Familiar</th>\n",
              "      <th>Criancas</th>\n",
              "      <th>Adolescentes</th>\n",
              "      <th>Data_Inscricao</th>\n",
              "      <th>Ultima_Compra</th>\n",
              "      <th>NumComprasVinho</th>\n",
              "      <th>MntFruits</th>\n",
              "      <th>NumComprasCarne</th>\n",
              "      <th>NumComprasPeixe</th>\n",
              "      <th>NumComprasDoces</th>\n",
              "      <th>QtdeProdOuro</th>\n",
              "      <th>NumOfertaCompras</th>\n",
              "      <th>NumComprasWeb</th>\n",
              "      <th>NumComprasCatalogo</th>\n",
              "      <th>NumComprasLoja</th>\n",
              "      <th>NumVisitasWebMes</th>\n",
              "      <th>AceitouCamp3</th>\n",
              "      <th>AceitouCamp4</th>\n",
              "      <th>AceitouCamp5</th>\n",
              "      <th>AceitouCamp1</th>\n",
              "      <th>AceitouCamp2</th>\n",
              "      <th>Reclamacoes</th>\n",
              "      <th>UltimaCampanha</th>\n",
              "    </tr>\n",
              "  </thead>\n",
              "  <tbody>\n",
              "    <tr>\n",
              "      <th>192</th>\n",
              "      <td>7829</td>\n",
              "      <td>1900</td>\n",
              "      <td>Especializacao</td>\n",
              "      <td>Divorciado</td>\n",
              "      <td>36640.0</td>\n",
              "      <td>1</td>\n",
              "      <td>0</td>\n",
              "      <td>26-09-2013</td>\n",
              "      <td>99</td>\n",
              "      <td>15</td>\n",
              "      <td>6</td>\n",
              "      <td>8</td>\n",
              "      <td>7</td>\n",
              "      <td>4</td>\n",
              "      <td>25</td>\n",
              "      <td>1</td>\n",
              "      <td>2</td>\n",
              "      <td>1</td>\n",
              "      <td>2</td>\n",
              "      <td>5</td>\n",
              "      <td>0</td>\n",
              "      <td>0</td>\n",
              "      <td>0</td>\n",
              "      <td>0</td>\n",
              "      <td>0</td>\n",
              "      <td>1</td>\n",
              "      <td>0</td>\n",
              "    </tr>\n",
              "  </tbody>\n",
              "</table>\n",
              "</div>\n",
              "      <button class=\"colab-df-convert\" onclick=\"convertToInteractive('df-106afad6-029e-4617-a00a-2514acd65b56')\"\n",
              "              title=\"Convert this dataframe to an interactive table.\"\n",
              "              style=\"display:none;\">\n",
              "        \n",
              "  <svg xmlns=\"http://www.w3.org/2000/svg\" height=\"24px\"viewBox=\"0 0 24 24\"\n",
              "       width=\"24px\">\n",
              "    <path d=\"M0 0h24v24H0V0z\" fill=\"none\"/>\n",
              "    <path d=\"M18.56 5.44l.94 2.06.94-2.06 2.06-.94-2.06-.94-.94-2.06-.94 2.06-2.06.94zm-11 1L8.5 8.5l.94-2.06 2.06-.94-2.06-.94L8.5 2.5l-.94 2.06-2.06.94zm10 10l.94 2.06.94-2.06 2.06-.94-2.06-.94-.94-2.06-.94 2.06-2.06.94z\"/><path d=\"M17.41 7.96l-1.37-1.37c-.4-.4-.92-.59-1.43-.59-.52 0-1.04.2-1.43.59L10.3 9.45l-7.72 7.72c-.78.78-.78 2.05 0 2.83L4 21.41c.39.39.9.59 1.41.59.51 0 1.02-.2 1.41-.59l7.78-7.78 2.81-2.81c.8-.78.8-2.07 0-2.86zM5.41 20L4 18.59l7.72-7.72 1.47 1.35L5.41 20z\"/>\n",
              "  </svg>\n",
              "      </button>\n",
              "      \n",
              "  <style>\n",
              "    .colab-df-container {\n",
              "      display:flex;\n",
              "      flex-wrap:wrap;\n",
              "      gap: 12px;\n",
              "    }\n",
              "\n",
              "    .colab-df-convert {\n",
              "      background-color: #E8F0FE;\n",
              "      border: none;\n",
              "      border-radius: 50%;\n",
              "      cursor: pointer;\n",
              "      display: none;\n",
              "      fill: #1967D2;\n",
              "      height: 32px;\n",
              "      padding: 0 0 0 0;\n",
              "      width: 32px;\n",
              "    }\n",
              "\n",
              "    .colab-df-convert:hover {\n",
              "      background-color: #E2EBFA;\n",
              "      box-shadow: 0px 1px 2px rgba(60, 64, 67, 0.3), 0px 1px 3px 1px rgba(60, 64, 67, 0.15);\n",
              "      fill: #174EA6;\n",
              "    }\n",
              "\n",
              "    [theme=dark] .colab-df-convert {\n",
              "      background-color: #3B4455;\n",
              "      fill: #D2E3FC;\n",
              "    }\n",
              "\n",
              "    [theme=dark] .colab-df-convert:hover {\n",
              "      background-color: #434B5C;\n",
              "      box-shadow: 0px 1px 3px 1px rgba(0, 0, 0, 0.15);\n",
              "      filter: drop-shadow(0px 1px 2px rgba(0, 0, 0, 0.3));\n",
              "      fill: #FFFFFF;\n",
              "    }\n",
              "  </style>\n",
              "\n",
              "      <script>\n",
              "        const buttonEl =\n",
              "          document.querySelector('#df-106afad6-029e-4617-a00a-2514acd65b56 button.colab-df-convert');\n",
              "        buttonEl.style.display =\n",
              "          google.colab.kernel.accessAllowed ? 'block' : 'none';\n",
              "\n",
              "        async function convertToInteractive(key) {\n",
              "          const element = document.querySelector('#df-106afad6-029e-4617-a00a-2514acd65b56');\n",
              "          const dataTable =\n",
              "            await google.colab.kernel.invokeFunction('convertToInteractive',\n",
              "                                                     [key], {});\n",
              "          if (!dataTable) return;\n",
              "\n",
              "          const docLinkHtml = 'Like what you see? Visit the ' +\n",
              "            '<a target=\"_blank\" href=https://colab.research.google.com/notebooks/data_table.ipynb>data table notebook</a>'\n",
              "            + ' to learn more about interactive tables.';\n",
              "          element.innerHTML = '';\n",
              "          dataTable['output_type'] = 'display_data';\n",
              "          await google.colab.output.renderOutput(dataTable, element);\n",
              "          const docLink = document.createElement('div');\n",
              "          docLink.innerHTML = docLinkHtml;\n",
              "          element.appendChild(docLink);\n",
              "        }\n",
              "      </script>\n",
              "    </div>\n",
              "  </div>\n",
              "  "
            ]
          },
          "metadata": {},
          "execution_count": 26
        }
      ]
    },
    {
      "cell_type": "code",
      "source": [
        "#Busca por ID - Analisando que tipo de erro estária acontecendo. Possível erro de digitação.\n",
        "df.loc[339]"
      ],
      "metadata": {
        "colab": {
          "base_uri": "https://localhost:8080/"
        },
        "id": "9qBSSdVb2KZS",
        "outputId": "f8ace491-f53c-4bf2-9c99-cdaf47d980f1"
      },
      "execution_count": null,
      "outputs": [
        {
          "output_type": "execute_result",
          "data": {
            "text/plain": [
              "ID                             1150\n",
              "Ano_de_Nascimento              1899\n",
              "Educacao              Pos-Doutorado\n",
              "Estado_Civil          Uniao Estavel\n",
              "Renda_Familiar              83532.0\n",
              "Criancas                          0\n",
              "Adolescentes                      0\n",
              "Data_Inscricao           26-09-2013\n",
              "Ultima_Compra                    36\n",
              "NumComprasVinho                 755\n",
              "MntFruits                       144\n",
              "NumComprasCarne                 562\n",
              "NumComprasPeixe                 104\n",
              "NumComprasDoces                  64\n",
              "QtdeProdOuro                    224\n",
              "NumOfertaCompras                  1\n",
              "NumComprasWeb                     4\n",
              "NumComprasCatalogo                6\n",
              "NumComprasLoja                    4\n",
              "NumVisitasWebMes                  1\n",
              "AceitouCamp3                      0\n",
              "AceitouCamp4                      0\n",
              "AceitouCamp5                      1\n",
              "AceitouCamp1                      0\n",
              "AceitouCamp2                      0\n",
              "Reclamacoes                       0\n",
              "UltimaCampanha                    0\n",
              "Name: 339, dtype: object"
            ]
          },
          "metadata": {},
          "execution_count": 33
        }
      ]
    },
    {
      "cell_type": "code",
      "source": [
        "#Busca por ID - Analisando que tipo de erro estária acontecendo. Pessoa sem interesse em responder corretamente\n",
        "df.loc[192]"
      ],
      "metadata": {
        "colab": {
          "base_uri": "https://localhost:8080/"
        },
        "id": "mXywgJfU1bHp",
        "outputId": "166de668-3922-4e25-93ba-68c0312034eb"
      },
      "execution_count": null,
      "outputs": [
        {
          "output_type": "execute_result",
          "data": {
            "text/plain": [
              "ID                              7829\n",
              "Ano_de_Nascimento               1900\n",
              "Educacao              Especializacao\n",
              "Estado_Civil              Divorciado\n",
              "Renda_Familiar               36640.0\n",
              "Criancas                           1\n",
              "Adolescentes                       0\n",
              "Data_Inscricao            26-09-2013\n",
              "Ultima_Compra                     99\n",
              "NumComprasVinho                   15\n",
              "MntFruits                          6\n",
              "NumComprasCarne                    8\n",
              "NumComprasPeixe                    7\n",
              "NumComprasDoces                    4\n",
              "QtdeProdOuro                      25\n",
              "NumOfertaCompras                   1\n",
              "NumComprasWeb                      2\n",
              "NumComprasCatalogo                 1\n",
              "NumComprasLoja                     2\n",
              "NumVisitasWebMes                   5\n",
              "AceitouCamp3                       0\n",
              "AceitouCamp4                       0\n",
              "AceitouCamp5                       0\n",
              "AceitouCamp1                       0\n",
              "AceitouCamp2                       0\n",
              "Reclamacoes                        1\n",
              "UltimaCampanha                     0\n",
              "Name: 192, dtype: object"
            ]
          },
          "metadata": {},
          "execution_count": 27
        }
      ]
    },
    {
      "cell_type": "code",
      "source": [
        "#Busca por ID - Analisando que tipo de erro estária acontecendo. Possível erro de digitação.\n",
        "df.loc[239]"
      ],
      "metadata": {
        "colab": {
          "base_uri": "https://localhost:8080/"
        },
        "id": "OvqLqDRl1D5h",
        "outputId": "fe5e98e3-5775-468a-f4e7-b7d13d372b3c"
      },
      "execution_count": null,
      "outputs": [
        {
          "output_type": "execute_result",
          "data": {
            "text/plain": [
              "ID                             11004\n",
              "Ano_de_Nascimento               1893\n",
              "Educacao              Especializacao\n",
              "Estado_Civil                Solteiro\n",
              "Renda_Familiar               60182.0\n",
              "Criancas                           0\n",
              "Adolescentes                       1\n",
              "Data_Inscricao            17-05-2014\n",
              "Ultima_Compra                     23\n",
              "NumComprasVinho                    8\n",
              "MntFruits                          0\n",
              "NumComprasCarne                    5\n",
              "NumComprasPeixe                    7\n",
              "NumComprasDoces                    0\n",
              "QtdeProdOuro                       2\n",
              "NumOfertaCompras                   1\n",
              "NumComprasWeb                      1\n",
              "NumComprasCatalogo                 0\n",
              "NumComprasLoja                     2\n",
              "NumVisitasWebMes                   4\n",
              "AceitouCamp3                       0\n",
              "AceitouCamp4                       0\n",
              "AceitouCamp5                       0\n",
              "AceitouCamp1                       0\n",
              "AceitouCamp2                       0\n",
              "Reclamacoes                        0\n",
              "UltimaCampanha                     0\n",
              "Name: 239, dtype: object"
            ]
          },
          "metadata": {},
          "execution_count": 28
        }
      ]
    },
    {
      "cell_type": "markdown",
      "source": [
        "#Criação do Schema de validação dos Dados"
      ],
      "metadata": {
        "id": "zTVK-wgCgnlf"
      }
    },
    {
      "cell_type": "code",
      "source": [
        "#NÃO UTILIZAMOS ESSE COMANDO - Motivo disso foi que não achamos necessário por que dentro do df as datas utilizadas já estão no padrão brasileiro. Logo mantemos em string para validação.\n",
        "pd.to_datetime(df['Data_Inscricao'])"
      ],
      "metadata": {
        "id": "zqGf482Ghmn9"
      },
      "execution_count": null,
      "outputs": []
    },
    {
      "cell_type": "code",
      "source": [
        "df.dtypes"
      ],
      "metadata": {
        "colab": {
          "base_uri": "https://localhost:8080/"
        },
        "id": "7PVI-t1w3f7q",
        "outputId": "ce0f622a-6741-46e5-a0cf-fa093cad9b62"
      },
      "execution_count": null,
      "outputs": [
        {
          "output_type": "execute_result",
          "data": {
            "text/plain": [
              "ID                      int64\n",
              "Ano_de_Nascimento       int64\n",
              "Educacao               object\n",
              "Estado_Civil           object\n",
              "Renda_Familiar        float64\n",
              "Criancas                int64\n",
              "Adolescentes            int64\n",
              "Data_Inscricao         object\n",
              "Ultima_Compra           int64\n",
              "NumComprasVinho         int64\n",
              "NumComprasFrutas        int64\n",
              "NumComprasCarne         int64\n",
              "NumComprasPeixe         int64\n",
              "NumComprasDoces         int64\n",
              "QtdeProdOuro            int64\n",
              "NumOfertaCompras        int64\n",
              "NumComprasWeb           int64\n",
              "NumComprasCatalogo      int64\n",
              "NumComprasLoja          int64\n",
              "NumVisitasWebMes        int64\n",
              "AceitouCamp3            int64\n",
              "AceitouCamp4            int64\n",
              "AceitouCamp5            int64\n",
              "AceitouCamp1            int64\n",
              "AceitouCamp2            int64\n",
              "Reclamacoes             int64\n",
              "UltimaCampanha          int64\n",
              "dtype: object"
            ]
          },
          "metadata": {},
          "execution_count": 99
        }
      ]
    },
    {
      "cell_type": "code",
      "source": [
        "schema = pa.DataFrameSchema(\n",
        "    columns = {\n",
        "        'ID':pa.Column(pa.Int),\n",
        "        'Ano_de_Nascimento':pa.Column(pa.Int),\n",
        "        'Educacao':pa.Column(pa.String),\n",
        "        'Estado_Civil':pa.Column(pa.String),\n",
        "        'Renda_Familiar':pa.Column(pa.Float,nullable=True),\n",
        "        'Criancas':pa.Column(pa.Int),\n",
        "        'Adolescentes':pa.Column(pa.Int),\n",
        "        'Data_Inscricao':pa.Column(pa.String),\n",
        "        'Ultima_Compra':pa.Column(pa.Int),\n",
        "        'NumComprasVinho':pa.Column(pa.Int),\n",
        "        'NumComprasFrutas':pa.Column(pa.Int),\n",
        "        'NumComprasCarne':pa.Column(pa.Int),\n",
        "        'NumComprasPeixe':pa.Column(pa.Int),\n",
        "        'NumComprasDoces':pa.Column(pa.Int),\n",
        "        'QtdeProdOuro':pa.Column(pa.Int),\n",
        "        'NumOfertaCompras':pa.Column(pa.Int),\n",
        "        'NumComprasWeb':pa.Column(pa.Int),\n",
        "        'NumComprasCatalogo':pa.Column(pa.Int),\n",
        "        'NumComprasLoja':pa.Column(pa.Int),\n",
        "        'NumVisitasWebMes':pa.Column(pa.Int),\n",
        "        'AceitouCamp3':pa.Column(pa.Int),\n",
        "        'AceitouCamp4':pa.Column(pa.Int),\n",
        "        'AceitouCamp5':pa.Column(pa.Int),\n",
        "        'AceitouCamp1':pa.Column(pa.Int),\n",
        "        'AceitouCamp2':pa.Column(pa.Int),\n",
        "        'Reclamacoes':pa.Column(pa.Int),\n",
        "        'UltimaCampanha':pa.Column(pa.Int),\n",
        "})\n"
      ],
      "metadata": {
        "id": "Xaus-iRI3Mi6"
      },
      "execution_count": null,
      "outputs": []
    },
    {
      "cell_type": "code",
      "source": [
        "schema.validate(df)"
      ],
      "metadata": {
        "colab": {
          "base_uri": "https://localhost:8080/",
          "height": 540
        },
        "id": "GsYNYxK26qwL",
        "outputId": "943026b5-46c3-4ba9-d4e3-2c62f8ed9ac4"
      },
      "execution_count": null,
      "outputs": [
        {
          "output_type": "execute_result",
          "data": {
            "text/plain": [
              "         ID  Ano_de_Nascimento       Educacao   Estado_Civil  Renda_Familiar  \\\n",
              "0      5524               1957      Graduacao       Solteiro         58138.0   \n",
              "1      2174               1954      Graduacao       Solteiro         46344.0   \n",
              "2      4141               1965      Graduacao  Uniao Estavel         71613.0   \n",
              "3      6182               1984      Graduacao  Uniao Estavel         26646.0   \n",
              "4      5324               1981  Pos-Doutorado         Casado         58293.0   \n",
              "...     ...                ...            ...            ...             ...   \n",
              "2235  10870               1967      Graduacao         Casado         61223.0   \n",
              "2236   4001               1946  Pos-Doutorado  Uniao Estavel         64014.0   \n",
              "2237   7270               1981      Graduacao     Divorciado         56981.0   \n",
              "2238   8235               1956         Mestre  Uniao Estavel         69245.0   \n",
              "2239   9405               1954  Pos-Doutorado         Casado         52869.0   \n",
              "\n",
              "      Criancas  Adolescentes Data_Inscricao  Ultima_Compra  NumComprasVinho  \\\n",
              "0            0             0     04-09-2012             58              635   \n",
              "1            1             1     08-03-2014             38               11   \n",
              "2            0             0     21-08-2013             26              426   \n",
              "3            1             0     10-02-2014             26               11   \n",
              "4            1             0     19-01-2014             94              173   \n",
              "...        ...           ...            ...            ...              ...   \n",
              "2235         0             1     13-06-2013             46              709   \n",
              "2236         2             1     10-06-2014             56              406   \n",
              "2237         0             0     25-01-2014             91              908   \n",
              "2238         0             1     24-01-2014              8              428   \n",
              "2239         1             1     15-10-2012             40               84   \n",
              "\n",
              "      NumComprasFrutas  NumComprasCarne  NumComprasPeixe  NumComprasDoces  \\\n",
              "0                   88              546              172               88   \n",
              "1                    1                6                2                1   \n",
              "2                   49              127              111               21   \n",
              "3                    4               20               10                3   \n",
              "4                   43              118               46               27   \n",
              "...                ...              ...              ...              ...   \n",
              "2235                43              182               42              118   \n",
              "2236                 0               30                0                0   \n",
              "2237                48              217               32               12   \n",
              "2238                30              214               80               30   \n",
              "2239                 3               61                2                1   \n",
              "\n",
              "      QtdeProdOuro  NumOfertaCompras  NumComprasWeb  NumComprasCatalogo  \\\n",
              "0               88                 3              8                  10   \n",
              "1                6                 2              1                   1   \n",
              "2               42                 1              8                   2   \n",
              "3                5                 2              2                   0   \n",
              "4               15                 5              5                   3   \n",
              "...            ...               ...            ...                 ...   \n",
              "2235           247                 2              9                   3   \n",
              "2236             8                 7              8                   2   \n",
              "2237            24                 1              2                   3   \n",
              "2238            61                 2              6                   5   \n",
              "2239            21                 3              3                   1   \n",
              "\n",
              "      NumComprasLoja  NumVisitasWebMes  AceitouCamp3  AceitouCamp4  \\\n",
              "0                  4                 7             0             0   \n",
              "1                  2                 5             0             0   \n",
              "2                 10                 4             0             0   \n",
              "3                  4                 6             0             0   \n",
              "4                  6                 5             0             0   \n",
              "...              ...               ...           ...           ...   \n",
              "2235               4                 5             0             0   \n",
              "2236               5                 7             0             0   \n",
              "2237              13                 6             0             1   \n",
              "2238              10                 3             0             0   \n",
              "2239               4                 7             0             0   \n",
              "\n",
              "      AceitouCamp5  AceitouCamp1  AceitouCamp2  Reclamacoes  UltimaCampanha  \n",
              "0                0             0             0            0               1  \n",
              "1                0             0             0            0               0  \n",
              "2                0             0             0            0               0  \n",
              "3                0             0             0            0               0  \n",
              "4                0             0             0            0               0  \n",
              "...            ...           ...           ...          ...             ...  \n",
              "2235             0             0             0            0               0  \n",
              "2236             0             1             0            0               0  \n",
              "2237             0             0             0            0               0  \n",
              "2238             0             0             0            0               0  \n",
              "2239             0             0             0            0               1  \n",
              "\n",
              "[2240 rows x 27 columns]"
            ],
            "text/html": [
              "\n",
              "  <div id=\"df-f2d4f1fb-b084-4e49-816d-f25bf86f25dc\">\n",
              "    <div class=\"colab-df-container\">\n",
              "      <div>\n",
              "<style scoped>\n",
              "    .dataframe tbody tr th:only-of-type {\n",
              "        vertical-align: middle;\n",
              "    }\n",
              "\n",
              "    .dataframe tbody tr th {\n",
              "        vertical-align: top;\n",
              "    }\n",
              "\n",
              "    .dataframe thead th {\n",
              "        text-align: right;\n",
              "    }\n",
              "</style>\n",
              "<table border=\"1\" class=\"dataframe\">\n",
              "  <thead>\n",
              "    <tr style=\"text-align: right;\">\n",
              "      <th></th>\n",
              "      <th>ID</th>\n",
              "      <th>Ano_de_Nascimento</th>\n",
              "      <th>Educacao</th>\n",
              "      <th>Estado_Civil</th>\n",
              "      <th>Renda_Familiar</th>\n",
              "      <th>Criancas</th>\n",
              "      <th>Adolescentes</th>\n",
              "      <th>Data_Inscricao</th>\n",
              "      <th>Ultima_Compra</th>\n",
              "      <th>NumComprasVinho</th>\n",
              "      <th>NumComprasFrutas</th>\n",
              "      <th>NumComprasCarne</th>\n",
              "      <th>NumComprasPeixe</th>\n",
              "      <th>NumComprasDoces</th>\n",
              "      <th>QtdeProdOuro</th>\n",
              "      <th>NumOfertaCompras</th>\n",
              "      <th>NumComprasWeb</th>\n",
              "      <th>NumComprasCatalogo</th>\n",
              "      <th>NumComprasLoja</th>\n",
              "      <th>NumVisitasWebMes</th>\n",
              "      <th>AceitouCamp3</th>\n",
              "      <th>AceitouCamp4</th>\n",
              "      <th>AceitouCamp5</th>\n",
              "      <th>AceitouCamp1</th>\n",
              "      <th>AceitouCamp2</th>\n",
              "      <th>Reclamacoes</th>\n",
              "      <th>UltimaCampanha</th>\n",
              "    </tr>\n",
              "  </thead>\n",
              "  <tbody>\n",
              "    <tr>\n",
              "      <th>0</th>\n",
              "      <td>5524</td>\n",
              "      <td>1957</td>\n",
              "      <td>Graduacao</td>\n",
              "      <td>Solteiro</td>\n",
              "      <td>58138.0</td>\n",
              "      <td>0</td>\n",
              "      <td>0</td>\n",
              "      <td>04-09-2012</td>\n",
              "      <td>58</td>\n",
              "      <td>635</td>\n",
              "      <td>88</td>\n",
              "      <td>546</td>\n",
              "      <td>172</td>\n",
              "      <td>88</td>\n",
              "      <td>88</td>\n",
              "      <td>3</td>\n",
              "      <td>8</td>\n",
              "      <td>10</td>\n",
              "      <td>4</td>\n",
              "      <td>7</td>\n",
              "      <td>0</td>\n",
              "      <td>0</td>\n",
              "      <td>0</td>\n",
              "      <td>0</td>\n",
              "      <td>0</td>\n",
              "      <td>0</td>\n",
              "      <td>1</td>\n",
              "    </tr>\n",
              "    <tr>\n",
              "      <th>1</th>\n",
              "      <td>2174</td>\n",
              "      <td>1954</td>\n",
              "      <td>Graduacao</td>\n",
              "      <td>Solteiro</td>\n",
              "      <td>46344.0</td>\n",
              "      <td>1</td>\n",
              "      <td>1</td>\n",
              "      <td>08-03-2014</td>\n",
              "      <td>38</td>\n",
              "      <td>11</td>\n",
              "      <td>1</td>\n",
              "      <td>6</td>\n",
              "      <td>2</td>\n",
              "      <td>1</td>\n",
              "      <td>6</td>\n",
              "      <td>2</td>\n",
              "      <td>1</td>\n",
              "      <td>1</td>\n",
              "      <td>2</td>\n",
              "      <td>5</td>\n",
              "      <td>0</td>\n",
              "      <td>0</td>\n",
              "      <td>0</td>\n",
              "      <td>0</td>\n",
              "      <td>0</td>\n",
              "      <td>0</td>\n",
              "      <td>0</td>\n",
              "    </tr>\n",
              "    <tr>\n",
              "      <th>2</th>\n",
              "      <td>4141</td>\n",
              "      <td>1965</td>\n",
              "      <td>Graduacao</td>\n",
              "      <td>Uniao Estavel</td>\n",
              "      <td>71613.0</td>\n",
              "      <td>0</td>\n",
              "      <td>0</td>\n",
              "      <td>21-08-2013</td>\n",
              "      <td>26</td>\n",
              "      <td>426</td>\n",
              "      <td>49</td>\n",
              "      <td>127</td>\n",
              "      <td>111</td>\n",
              "      <td>21</td>\n",
              "      <td>42</td>\n",
              "      <td>1</td>\n",
              "      <td>8</td>\n",
              "      <td>2</td>\n",
              "      <td>10</td>\n",
              "      <td>4</td>\n",
              "      <td>0</td>\n",
              "      <td>0</td>\n",
              "      <td>0</td>\n",
              "      <td>0</td>\n",
              "      <td>0</td>\n",
              "      <td>0</td>\n",
              "      <td>0</td>\n",
              "    </tr>\n",
              "    <tr>\n",
              "      <th>3</th>\n",
              "      <td>6182</td>\n",
              "      <td>1984</td>\n",
              "      <td>Graduacao</td>\n",
              "      <td>Uniao Estavel</td>\n",
              "      <td>26646.0</td>\n",
              "      <td>1</td>\n",
              "      <td>0</td>\n",
              "      <td>10-02-2014</td>\n",
              "      <td>26</td>\n",
              "      <td>11</td>\n",
              "      <td>4</td>\n",
              "      <td>20</td>\n",
              "      <td>10</td>\n",
              "      <td>3</td>\n",
              "      <td>5</td>\n",
              "      <td>2</td>\n",
              "      <td>2</td>\n",
              "      <td>0</td>\n",
              "      <td>4</td>\n",
              "      <td>6</td>\n",
              "      <td>0</td>\n",
              "      <td>0</td>\n",
              "      <td>0</td>\n",
              "      <td>0</td>\n",
              "      <td>0</td>\n",
              "      <td>0</td>\n",
              "      <td>0</td>\n",
              "    </tr>\n",
              "    <tr>\n",
              "      <th>4</th>\n",
              "      <td>5324</td>\n",
              "      <td>1981</td>\n",
              "      <td>Pos-Doutorado</td>\n",
              "      <td>Casado</td>\n",
              "      <td>58293.0</td>\n",
              "      <td>1</td>\n",
              "      <td>0</td>\n",
              "      <td>19-01-2014</td>\n",
              "      <td>94</td>\n",
              "      <td>173</td>\n",
              "      <td>43</td>\n",
              "      <td>118</td>\n",
              "      <td>46</td>\n",
              "      <td>27</td>\n",
              "      <td>15</td>\n",
              "      <td>5</td>\n",
              "      <td>5</td>\n",
              "      <td>3</td>\n",
              "      <td>6</td>\n",
              "      <td>5</td>\n",
              "      <td>0</td>\n",
              "      <td>0</td>\n",
              "      <td>0</td>\n",
              "      <td>0</td>\n",
              "      <td>0</td>\n",
              "      <td>0</td>\n",
              "      <td>0</td>\n",
              "    </tr>\n",
              "    <tr>\n",
              "      <th>...</th>\n",
              "      <td>...</td>\n",
              "      <td>...</td>\n",
              "      <td>...</td>\n",
              "      <td>...</td>\n",
              "      <td>...</td>\n",
              "      <td>...</td>\n",
              "      <td>...</td>\n",
              "      <td>...</td>\n",
              "      <td>...</td>\n",
              "      <td>...</td>\n",
              "      <td>...</td>\n",
              "      <td>...</td>\n",
              "      <td>...</td>\n",
              "      <td>...</td>\n",
              "      <td>...</td>\n",
              "      <td>...</td>\n",
              "      <td>...</td>\n",
              "      <td>...</td>\n",
              "      <td>...</td>\n",
              "      <td>...</td>\n",
              "      <td>...</td>\n",
              "      <td>...</td>\n",
              "      <td>...</td>\n",
              "      <td>...</td>\n",
              "      <td>...</td>\n",
              "      <td>...</td>\n",
              "      <td>...</td>\n",
              "    </tr>\n",
              "    <tr>\n",
              "      <th>2235</th>\n",
              "      <td>10870</td>\n",
              "      <td>1967</td>\n",
              "      <td>Graduacao</td>\n",
              "      <td>Casado</td>\n",
              "      <td>61223.0</td>\n",
              "      <td>0</td>\n",
              "      <td>1</td>\n",
              "      <td>13-06-2013</td>\n",
              "      <td>46</td>\n",
              "      <td>709</td>\n",
              "      <td>43</td>\n",
              "      <td>182</td>\n",
              "      <td>42</td>\n",
              "      <td>118</td>\n",
              "      <td>247</td>\n",
              "      <td>2</td>\n",
              "      <td>9</td>\n",
              "      <td>3</td>\n",
              "      <td>4</td>\n",
              "      <td>5</td>\n",
              "      <td>0</td>\n",
              "      <td>0</td>\n",
              "      <td>0</td>\n",
              "      <td>0</td>\n",
              "      <td>0</td>\n",
              "      <td>0</td>\n",
              "      <td>0</td>\n",
              "    </tr>\n",
              "    <tr>\n",
              "      <th>2236</th>\n",
              "      <td>4001</td>\n",
              "      <td>1946</td>\n",
              "      <td>Pos-Doutorado</td>\n",
              "      <td>Uniao Estavel</td>\n",
              "      <td>64014.0</td>\n",
              "      <td>2</td>\n",
              "      <td>1</td>\n",
              "      <td>10-06-2014</td>\n",
              "      <td>56</td>\n",
              "      <td>406</td>\n",
              "      <td>0</td>\n",
              "      <td>30</td>\n",
              "      <td>0</td>\n",
              "      <td>0</td>\n",
              "      <td>8</td>\n",
              "      <td>7</td>\n",
              "      <td>8</td>\n",
              "      <td>2</td>\n",
              "      <td>5</td>\n",
              "      <td>7</td>\n",
              "      <td>0</td>\n",
              "      <td>0</td>\n",
              "      <td>0</td>\n",
              "      <td>1</td>\n",
              "      <td>0</td>\n",
              "      <td>0</td>\n",
              "      <td>0</td>\n",
              "    </tr>\n",
              "    <tr>\n",
              "      <th>2237</th>\n",
              "      <td>7270</td>\n",
              "      <td>1981</td>\n",
              "      <td>Graduacao</td>\n",
              "      <td>Divorciado</td>\n",
              "      <td>56981.0</td>\n",
              "      <td>0</td>\n",
              "      <td>0</td>\n",
              "      <td>25-01-2014</td>\n",
              "      <td>91</td>\n",
              "      <td>908</td>\n",
              "      <td>48</td>\n",
              "      <td>217</td>\n",
              "      <td>32</td>\n",
              "      <td>12</td>\n",
              "      <td>24</td>\n",
              "      <td>1</td>\n",
              "      <td>2</td>\n",
              "      <td>3</td>\n",
              "      <td>13</td>\n",
              "      <td>6</td>\n",
              "      <td>0</td>\n",
              "      <td>1</td>\n",
              "      <td>0</td>\n",
              "      <td>0</td>\n",
              "      <td>0</td>\n",
              "      <td>0</td>\n",
              "      <td>0</td>\n",
              "    </tr>\n",
              "    <tr>\n",
              "      <th>2238</th>\n",
              "      <td>8235</td>\n",
              "      <td>1956</td>\n",
              "      <td>Mestre</td>\n",
              "      <td>Uniao Estavel</td>\n",
              "      <td>69245.0</td>\n",
              "      <td>0</td>\n",
              "      <td>1</td>\n",
              "      <td>24-01-2014</td>\n",
              "      <td>8</td>\n",
              "      <td>428</td>\n",
              "      <td>30</td>\n",
              "      <td>214</td>\n",
              "      <td>80</td>\n",
              "      <td>30</td>\n",
              "      <td>61</td>\n",
              "      <td>2</td>\n",
              "      <td>6</td>\n",
              "      <td>5</td>\n",
              "      <td>10</td>\n",
              "      <td>3</td>\n",
              "      <td>0</td>\n",
              "      <td>0</td>\n",
              "      <td>0</td>\n",
              "      <td>0</td>\n",
              "      <td>0</td>\n",
              "      <td>0</td>\n",
              "      <td>0</td>\n",
              "    </tr>\n",
              "    <tr>\n",
              "      <th>2239</th>\n",
              "      <td>9405</td>\n",
              "      <td>1954</td>\n",
              "      <td>Pos-Doutorado</td>\n",
              "      <td>Casado</td>\n",
              "      <td>52869.0</td>\n",
              "      <td>1</td>\n",
              "      <td>1</td>\n",
              "      <td>15-10-2012</td>\n",
              "      <td>40</td>\n",
              "      <td>84</td>\n",
              "      <td>3</td>\n",
              "      <td>61</td>\n",
              "      <td>2</td>\n",
              "      <td>1</td>\n",
              "      <td>21</td>\n",
              "      <td>3</td>\n",
              "      <td>3</td>\n",
              "      <td>1</td>\n",
              "      <td>4</td>\n",
              "      <td>7</td>\n",
              "      <td>0</td>\n",
              "      <td>0</td>\n",
              "      <td>0</td>\n",
              "      <td>0</td>\n",
              "      <td>0</td>\n",
              "      <td>0</td>\n",
              "      <td>1</td>\n",
              "    </tr>\n",
              "  </tbody>\n",
              "</table>\n",
              "<p>2240 rows × 27 columns</p>\n",
              "</div>\n",
              "      <button class=\"colab-df-convert\" onclick=\"convertToInteractive('df-f2d4f1fb-b084-4e49-816d-f25bf86f25dc')\"\n",
              "              title=\"Convert this dataframe to an interactive table.\"\n",
              "              style=\"display:none;\">\n",
              "        \n",
              "  <svg xmlns=\"http://www.w3.org/2000/svg\" height=\"24px\"viewBox=\"0 0 24 24\"\n",
              "       width=\"24px\">\n",
              "    <path d=\"M0 0h24v24H0V0z\" fill=\"none\"/>\n",
              "    <path d=\"M18.56 5.44l.94 2.06.94-2.06 2.06-.94-2.06-.94-.94-2.06-.94 2.06-2.06.94zm-11 1L8.5 8.5l.94-2.06 2.06-.94-2.06-.94L8.5 2.5l-.94 2.06-2.06.94zm10 10l.94 2.06.94-2.06 2.06-.94-2.06-.94-.94-2.06-.94 2.06-2.06.94z\"/><path d=\"M17.41 7.96l-1.37-1.37c-.4-.4-.92-.59-1.43-.59-.52 0-1.04.2-1.43.59L10.3 9.45l-7.72 7.72c-.78.78-.78 2.05 0 2.83L4 21.41c.39.39.9.59 1.41.59.51 0 1.02-.2 1.41-.59l7.78-7.78 2.81-2.81c.8-.78.8-2.07 0-2.86zM5.41 20L4 18.59l7.72-7.72 1.47 1.35L5.41 20z\"/>\n",
              "  </svg>\n",
              "      </button>\n",
              "      \n",
              "  <style>\n",
              "    .colab-df-container {\n",
              "      display:flex;\n",
              "      flex-wrap:wrap;\n",
              "      gap: 12px;\n",
              "    }\n",
              "\n",
              "    .colab-df-convert {\n",
              "      background-color: #E8F0FE;\n",
              "      border: none;\n",
              "      border-radius: 50%;\n",
              "      cursor: pointer;\n",
              "      display: none;\n",
              "      fill: #1967D2;\n",
              "      height: 32px;\n",
              "      padding: 0 0 0 0;\n",
              "      width: 32px;\n",
              "    }\n",
              "\n",
              "    .colab-df-convert:hover {\n",
              "      background-color: #E2EBFA;\n",
              "      box-shadow: 0px 1px 2px rgba(60, 64, 67, 0.3), 0px 1px 3px 1px rgba(60, 64, 67, 0.15);\n",
              "      fill: #174EA6;\n",
              "    }\n",
              "\n",
              "    [theme=dark] .colab-df-convert {\n",
              "      background-color: #3B4455;\n",
              "      fill: #D2E3FC;\n",
              "    }\n",
              "\n",
              "    [theme=dark] .colab-df-convert:hover {\n",
              "      background-color: #434B5C;\n",
              "      box-shadow: 0px 1px 3px 1px rgba(0, 0, 0, 0.15);\n",
              "      filter: drop-shadow(0px 1px 2px rgba(0, 0, 0, 0.3));\n",
              "      fill: #FFFFFF;\n",
              "    }\n",
              "  </style>\n",
              "\n",
              "      <script>\n",
              "        const buttonEl =\n",
              "          document.querySelector('#df-f2d4f1fb-b084-4e49-816d-f25bf86f25dc button.colab-df-convert');\n",
              "        buttonEl.style.display =\n",
              "          google.colab.kernel.accessAllowed ? 'block' : 'none';\n",
              "\n",
              "        async function convertToInteractive(key) {\n",
              "          const element = document.querySelector('#df-f2d4f1fb-b084-4e49-816d-f25bf86f25dc');\n",
              "          const dataTable =\n",
              "            await google.colab.kernel.invokeFunction('convertToInteractive',\n",
              "                                                     [key], {});\n",
              "          if (!dataTable) return;\n",
              "\n",
              "          const docLinkHtml = 'Like what you see? Visit the ' +\n",
              "            '<a target=\"_blank\" href=https://colab.research.google.com/notebooks/data_table.ipynb>data table notebook</a>'\n",
              "            + ' to learn more about interactive tables.';\n",
              "          element.innerHTML = '';\n",
              "          dataTable['output_type'] = 'display_data';\n",
              "          await google.colab.output.renderOutput(dataTable, element);\n",
              "          const docLink = document.createElement('div');\n",
              "          docLink.innerHTML = docLinkHtml;\n",
              "          element.appendChild(docLink);\n",
              "        }\n",
              "      </script>\n",
              "    </div>\n",
              "  </div>\n",
              "  "
            ]
          },
          "metadata": {},
          "execution_count": 54
        }
      ]
    },
    {
      "cell_type": "markdown",
      "source": [
        "#Envio dos dados tratados para MongoDb e Cloud Storage"
      ],
      "metadata": {
        "id": "bXC0__4Tgzms"
      }
    },
    {
      "cell_type": "code",
      "source": [
        "from pymongo import MongoClient\n",
        "\n",
        "uri = \"mongodb+srv://denisdorneles1.gh3fite.mongodb.net/?authSource=%24external&authMechanism=MONGODB-X509&retryWrites=true&w=majority\"\n",
        "client = MongoClient(uri, tls=True, tlsCertificateKeyFile='/content/X509-cert-1103583867613520106.pem')\n",
        "\n",
        "db = client['soulcode']\n",
        "colecaotratado = db['tratado']\n",
        "doc_count = colecaotratado.count_documents({})\n",
        "print(doc_count)"
      ],
      "metadata": {
        "colab": {
          "base_uri": "https://localhost:8080/"
        },
        "id": "eofiujKG_VRQ",
        "outputId": "6c735b88-d25f-459a-b4dc-cd8094d2fbe6"
      },
      "execution_count": null,
      "outputs": [
        {
          "output_type": "stream",
          "name": "stdout",
          "text": [
            "2240\n"
          ]
        }
      ]
    },
    {
      "cell_type": "code",
      "source": [
        "#NÃO UTILIZAR - JÁ FOI ENVIADO\n",
        "df_dict = df.to_dict(\"records\")\n",
        "\n",
        "colecaotratado.insert_many(df_dict)"
      ],
      "metadata": {
        "colab": {
          "base_uri": "https://localhost:8080/"
        },
        "id": "0aAznNXVDPSS",
        "outputId": "6caa62c6-3ce1-4bd2-edc3-e0ffc73f6293"
      },
      "execution_count": null,
      "outputs": [
        {
          "output_type": "execute_result",
          "data": {
            "text/plain": [
              "<pymongo.results.InsertManyResult at 0x7f9ff4ff3550>"
            ]
          },
          "metadata": {},
          "execution_count": 125
        }
      ]
    },
    {
      "cell_type": "code",
      "source": [
        "df.to_csv('gs://denisdorneles1/Tratados/campanhastratados.csv',index=False)"
      ],
      "metadata": {
        "id": "Ct5hB2opDzCD"
      },
      "execution_count": null,
      "outputs": []
    },
    {
      "cell_type": "markdown",
      "source": [
        "#Filtros e Agrupamentos para Insights"
      ],
      "metadata": {
        "id": "FNjIk-qfg9BP"
      }
    },
    {
      "cell_type": "markdown",
      "source": [
        "Verificamos a aceitação  das Campanhas utilizadas até o presente momento."
      ],
      "metadata": {
        "id": "MI9faPW1hQxM"
      }
    },
    {
      "cell_type": "code",
      "source": [
        "df.groupby('AceitouCamp1',dropna=False).size().sort_values(ascending=False).plot.pie()"
      ],
      "metadata": {
        "id": "L9ajnqpVZbDb",
        "colab": {
          "base_uri": "https://localhost:8080/",
          "height": 266
        },
        "outputId": "484a5b0c-6bb0-46e4-eedb-d307d6e26bd0"
      },
      "execution_count": null,
      "outputs": [
        {
          "output_type": "execute_result",
          "data": {
            "text/plain": [
              "<AxesSubplot:ylabel='None'>"
            ]
          },
          "metadata": {},
          "execution_count": 63
        },
        {
          "output_type": "display_data",
          "data": {
            "text/plain": [
              "<Figure size 432x288 with 1 Axes>"
            ],
            "image/png": "[encoded data removed]"
          },
          "metadata": {}
        }
      ]
    },
    {
      "cell_type": "code",
      "source": [
        "df.groupby('AceitouCamp2',dropna=False).size().sort_values(ascending=False).plot.pie()"
      ],
      "metadata": {
        "id": "9lSM4zSxaYHz",
        "colab": {
          "base_uri": "https://localhost:8080/",
          "height": 266
        },
        "outputId": "62478bf2-8fb7-4cc2-a0d0-14fe96d76f19"
      },
      "execution_count": null,
      "outputs": [
        {
          "output_type": "execute_result",
          "data": {
            "text/plain": [
              "<AxesSubplot:ylabel='None'>"
            ]
          },
          "metadata": {},
          "execution_count": 64
        },
        {
          "output_type": "display_data",
          "data": {
            "text/plain": [
              "<Figure size 432x288 with 1 Axes>"
            ],
            "image/png": "[encoded data removed]"
          },
          "metadata": {}
        }
      ]
    },
    {
      "cell_type": "code",
      "source": [
        "df.groupby('AceitouCamp3',dropna=False).size().sort_values(ascending=False).plot.pie()"
      ],
      "metadata": {
        "id": "h7NMuSlnagLa",
        "colab": {
          "base_uri": "https://localhost:8080/",
          "height": 266
        },
        "outputId": "fb53afb5-b69f-43f2-c651-e1592184756b"
      },
      "execution_count": null,
      "outputs": [
        {
          "output_type": "execute_result",
          "data": {
            "text/plain": [
              "<AxesSubplot:ylabel='None'>"
            ]
          },
          "metadata": {},
          "execution_count": 65
        },
        {
          "output_type": "display_data",
          "data": {
            "text/plain": [
              "<Figure size 432x288 with 1 Axes>"
            ],
            "image/png": "[encoded data removed]"
          },
          "metadata": {}
        }
      ]
    },
    {
      "cell_type": "code",
      "source": [
        "df.groupby('AceitouCamp4',dropna=False).size().sort_values(ascending=False).plot.pie()"
      ],
      "metadata": {
        "id": "3YO6ZUuIah6i",
        "colab": {
          "base_uri": "https://localhost:8080/",
          "height": 266
        },
        "outputId": "449b56b3-946c-4b70-96a0-d22a55e0f9bb"
      },
      "execution_count": null,
      "outputs": [
        {
          "output_type": "execute_result",
          "data": {
            "text/plain": [
              "<AxesSubplot:ylabel='None'>"
            ]
          },
          "metadata": {},
          "execution_count": 66
        },
        {
          "output_type": "display_data",
          "data": {
            "text/plain": [
              "<Figure size 432x288 with 1 Axes>"
            ],
            "image/png": "[encoded data removed]"
          },
          "metadata": {}
        }
      ]
    },
    {
      "cell_type": "code",
      "source": [
        "df.groupby('AceitouCamp5',dropna=False).size().sort_values(ascending=False).plot.pie()"
      ],
      "metadata": {
        "id": "HsvPG4PTak7q",
        "colab": {
          "base_uri": "https://localhost:8080/",
          "height": 266
        },
        "outputId": "93b86099-e038-4e11-d917-66126a7c089f"
      },
      "execution_count": null,
      "outputs": [
        {
          "output_type": "execute_result",
          "data": {
            "text/plain": [
              "<AxesSubplot:ylabel='None'>"
            ]
          },
          "metadata": {},
          "execution_count": 67
        },
        {
          "output_type": "display_data",
          "data": {
            "text/plain": [
              "<Figure size 432x288 with 1 Axes>"
            ],
            "image/png": "[encoded data removed]"
          },
          "metadata": {}
        }
      ]
    },
    {
      "cell_type": "code",
      "source": [
        "df.groupby('UltimaCampanha',dropna=False).size().sort_values(ascending=False).plot.pie(xlabel='Sim',ylabel='Não')"
      ],
      "metadata": {
        "id": "Snnfp_X1anqK",
        "colab": {
          "base_uri": "https://localhost:8080/",
          "height": 266
        },
        "outputId": "46755100-99ae-4d5c-8ad7-717191201b9e"
      },
      "execution_count": null,
      "outputs": [
        {
          "output_type": "execute_result",
          "data": {
            "text/plain": [
              "<AxesSubplot:ylabel='Não'>"
            ]
          },
          "metadata": {},
          "execution_count": 58
        },
        {
          "output_type": "display_data",
          "data": {
            "text/plain": [
              "<Figure size 432x288 with 1 Axes>"
            ],
            "image/png": "[encoded data removed]"
          },
          "metadata": {}
        }
      ]
    },
    {
      "cell_type": "markdown",
      "source": [
        "Soma das Rendas Educação e Estado Civil"
      ],
      "metadata": {
        "id": "RBNP5I_mByTm"
      }
    },
    {
      "cell_type": "code",
      "source": [
        "df.groupby('Estado_Civil',dropna=False).size().sort_values(ascending=False).plot.bar()"
      ],
      "metadata": {
        "colab": {
          "base_uri": "https://localhost:8080/",
          "height": 434
        },
        "id": "jNWZhDrH_NlN",
        "outputId": "3b3d881b-1a24-4c6d-dfa0-61dfea30d61f"
      },
      "execution_count": null,
      "outputs": [
        {
          "output_type": "execute_result",
          "data": {
            "text/plain": [
              "<AxesSubplot:xlabel='Estado_Civil'>"
            ]
          },
          "metadata": {},
          "execution_count": 79
        },
        {
          "output_type": "display_data",
          "data": {
            "text/plain": [
              "<Figure size 432x288 with 1 Axes>"
            ],
            "image/png": "[encoded data removed]"
          },
          "metadata": {
            "needs_background": "light"
          }
        }
      ]
    },
    {
      "cell_type": "code",
      "source": [
        "df_visual = df.groupby(['Educacao'])['Renda_Familiar'].sum().reset_index()\n",
        "df_visual"
      ],
      "metadata": {
        "id": "HhVuk_92mLrI",
        "colab": {
          "base_uri": "https://localhost:8080/",
          "height": 206
        },
        "outputId": "c614133b-543d-4ad8-d489-8d8568f09338"
      },
      "execution_count": null,
      "outputs": [
        {
          "output_type": "execute_result",
          "data": {
            "text/plain": [
              "          Educacao  Renda_Familiar\n",
              "0  Educacao Basica       1096538.0\n",
              "1   Especializacao       9526638.0\n",
              "2        Graduacao      58835937.0\n",
              "3           Mestre      19314900.0\n",
              "4    Pos-Doutorado      27005896.0"
            ],
            "text/html": [
              "\n",
              "  <div id=\"df-42fc8816-0e1f-4742-9238-87ab684045de\">\n",
              "    <div class=\"colab-df-container\">\n",
              "      <div>\n",
              "<style scoped>\n",
              "    .dataframe tbody tr th:only-of-type {\n",
              "        vertical-align: middle;\n",
              "    }\n",
              "\n",
              "    .dataframe tbody tr th {\n",
              "        vertical-align: top;\n",
              "    }\n",
              "\n",
              "    .dataframe thead th {\n",
              "        text-align: right;\n",
              "    }\n",
              "</style>\n",
              "<table border=\"1\" class=\"dataframe\">\n",
              "  <thead>\n",
              "    <tr style=\"text-align: right;\">\n",
              "      <th></th>\n",
              "      <th>Educacao</th>\n",
              "      <th>Renda_Familiar</th>\n",
              "    </tr>\n",
              "  </thead>\n",
              "  <tbody>\n",
              "    <tr>\n",
              "      <th>0</th>\n",
              "      <td>Educacao Basica</td>\n",
              "      <td>1096538.0</td>\n",
              "    </tr>\n",
              "    <tr>\n",
              "      <th>1</th>\n",
              "      <td>Especializacao</td>\n",
              "      <td>9526638.0</td>\n",
              "    </tr>\n",
              "    <tr>\n",
              "      <th>2</th>\n",
              "      <td>Graduacao</td>\n",
              "      <td>58835937.0</td>\n",
              "    </tr>\n",
              "    <tr>\n",
              "      <th>3</th>\n",
              "      <td>Mestre</td>\n",
              "      <td>19314900.0</td>\n",
              "    </tr>\n",
              "    <tr>\n",
              "      <th>4</th>\n",
              "      <td>Pos-Doutorado</td>\n",
              "      <td>27005896.0</td>\n",
              "    </tr>\n",
              "  </tbody>\n",
              "</table>\n",
              "</div>\n",
              "      <button class=\"colab-df-convert\" onclick=\"convertToInteractive('df-42fc8816-0e1f-4742-9238-87ab684045de')\"\n",
              "              title=\"Convert this dataframe to an interactive table.\"\n",
              "              style=\"display:none;\">\n",
              "        \n",
              "  <svg xmlns=\"http://www.w3.org/2000/svg\" height=\"24px\"viewBox=\"0 0 24 24\"\n",
              "       width=\"24px\">\n",
              "    <path d=\"M0 0h24v24H0V0z\" fill=\"none\"/>\n",
              "    <path d=\"M18.56 5.44l.94 2.06.94-2.06 2.06-.94-2.06-.94-.94-2.06-.94 2.06-2.06.94zm-11 1L8.5 8.5l.94-2.06 2.06-.94-2.06-.94L8.5 2.5l-.94 2.06-2.06.94zm10 10l.94 2.06.94-2.06 2.06-.94-2.06-.94-.94-2.06-.94 2.06-2.06.94z\"/><path d=\"M17.41 7.96l-1.37-1.37c-.4-.4-.92-.59-1.43-.59-.52 0-1.04.2-1.43.59L10.3 9.45l-7.72 7.72c-.78.78-.78 2.05 0 2.83L4 21.41c.39.39.9.59 1.41.59.51 0 1.02-.2 1.41-.59l7.78-7.78 2.81-2.81c.8-.78.8-2.07 0-2.86zM5.41 20L4 18.59l7.72-7.72 1.47 1.35L5.41 20z\"/>\n",
              "  </svg>\n",
              "      </button>\n",
              "      \n",
              "  <style>\n",
              "    .colab-df-container {\n",
              "      display:flex;\n",
              "      flex-wrap:wrap;\n",
              "      gap: 12px;\n",
              "    }\n",
              "\n",
              "    .colab-df-convert {\n",
              "      background-color: #E8F0FE;\n",
              "      border: none;\n",
              "      border-radius: 50%;\n",
              "      cursor: pointer;\n",
              "      display: none;\n",
              "      fill: #1967D2;\n",
              "      height: 32px;\n",
              "      padding: 0 0 0 0;\n",
              "      width: 32px;\n",
              "    }\n",
              "\n",
              "    .colab-df-convert:hover {\n",
              "      background-color: #E2EBFA;\n",
              "      box-shadow: 0px 1px 2px rgba(60, 64, 67, 0.3), 0px 1px 3px 1px rgba(60, 64, 67, 0.15);\n",
              "      fill: #174EA6;\n",
              "    }\n",
              "\n",
              "    [theme=dark] .colab-df-convert {\n",
              "      background-color: #3B4455;\n",
              "      fill: #D2E3FC;\n",
              "    }\n",
              "\n",
              "    [theme=dark] .colab-df-convert:hover {\n",
              "      background-color: #434B5C;\n",
              "      box-shadow: 0px 1px 3px 1px rgba(0, 0, 0, 0.15);\n",
              "      filter: drop-shadow(0px 1px 2px rgba(0, 0, 0, 0.3));\n",
              "      fill: #FFFFFF;\n",
              "    }\n",
              "  </style>\n",
              "\n",
              "      <script>\n",
              "        const buttonEl =\n",
              "          document.querySelector('#df-42fc8816-0e1f-4742-9238-87ab684045de button.colab-df-convert');\n",
              "        buttonEl.style.display =\n",
              "          google.colab.kernel.accessAllowed ? 'block' : 'none';\n",
              "\n",
              "        async function convertToInteractive(key) {\n",
              "          const element = document.querySelector('#df-42fc8816-0e1f-4742-9238-87ab684045de');\n",
              "          const dataTable =\n",
              "            await google.colab.kernel.invokeFunction('convertToInteractive',\n",
              "                                                     [key], {});\n",
              "          if (!dataTable) return;\n",
              "\n",
              "          const docLinkHtml = 'Like what you see? Visit the ' +\n",
              "            '<a target=\"_blank\" href=https://colab.research.google.com/notebooks/data_table.ipynb>data table notebook</a>'\n",
              "            + ' to learn more about interactive tables.';\n",
              "          element.innerHTML = '';\n",
              "          dataTable['output_type'] = 'display_data';\n",
              "          await google.colab.output.renderOutput(dataTable, element);\n",
              "          const docLink = document.createElement('div');\n",
              "          docLink.innerHTML = docLinkHtml;\n",
              "          element.appendChild(docLink);\n",
              "        }\n",
              "      </script>\n",
              "    </div>\n",
              "  </div>\n",
              "  "
            ]
          },
          "metadata": {},
          "execution_count": 73
        }
      ]
    },
    {
      "cell_type": "code",
      "source": [
        "df.groupby(['Estado_Civil'])['Renda_Familiar'].sum().reset_index()"
      ],
      "metadata": {
        "colab": {
          "base_uri": "https://localhost:8080/",
          "height": 300
        },
        "id": "vosZqNRtAKhy",
        "outputId": "b27802af-94dd-4718-da3a-b3c5b847051b"
      },
      "execution_count": null,
      "outputs": [
        {
          "output_type": "execute_result",
          "data": {
            "text/plain": [
              "                  Estado_Civil  Renda_Familiar\n",
              "0                       Casado      44328307.0\n",
              "1                   Divorciado      12257541.0\n",
              "2  Não interessado em Informar        144731.0\n",
              "3                     Solteiro      24018810.0\n",
              "4                      Sozinho        131367.0\n",
              "5                Uniao Estavel      30509691.0\n",
              "6                        Viuvo       4292598.0\n",
              "7                         YOLO         96864.0"
            ],
            "text/html": [
              "\n",
              "  <div id=\"df-71f8a77f-2e1f-47e9-8e00-ee4d0f8620ed\">\n",
              "    <div class=\"colab-df-container\">\n",
              "      <div>\n",
              "<style scoped>\n",
              "    .dataframe tbody tr th:only-of-type {\n",
              "        vertical-align: middle;\n",
              "    }\n",
              "\n",
              "    .dataframe tbody tr th {\n",
              "        vertical-align: top;\n",
              "    }\n",
              "\n",
              "    .dataframe thead th {\n",
              "        text-align: right;\n",
              "    }\n",
              "</style>\n",
              "<table border=\"1\" class=\"dataframe\">\n",
              "  <thead>\n",
              "    <tr style=\"text-align: right;\">\n",
              "      <th></th>\n",
              "      <th>Estado_Civil</th>\n",
              "      <th>Renda_Familiar</th>\n",
              "    </tr>\n",
              "  </thead>\n",
              "  <tbody>\n",
              "    <tr>\n",
              "      <th>0</th>\n",
              "      <td>Casado</td>\n",
              "      <td>44328307.0</td>\n",
              "    </tr>\n",
              "    <tr>\n",
              "      <th>1</th>\n",
              "      <td>Divorciado</td>\n",
              "      <td>12257541.0</td>\n",
              "    </tr>\n",
              "    <tr>\n",
              "      <th>2</th>\n",
              "      <td>Não interessado em Informar</td>\n",
              "      <td>144731.0</td>\n",
              "    </tr>\n",
              "    <tr>\n",
              "      <th>3</th>\n",
              "      <td>Solteiro</td>\n",
              "      <td>24018810.0</td>\n",
              "    </tr>\n",
              "    <tr>\n",
              "      <th>4</th>\n",
              "      <td>Sozinho</td>\n",
              "      <td>131367.0</td>\n",
              "    </tr>\n",
              "    <tr>\n",
              "      <th>5</th>\n",
              "      <td>Uniao Estavel</td>\n",
              "      <td>30509691.0</td>\n",
              "    </tr>\n",
              "    <tr>\n",
              "      <th>6</th>\n",
              "      <td>Viuvo</td>\n",
              "      <td>4292598.0</td>\n",
              "    </tr>\n",
              "    <tr>\n",
              "      <th>7</th>\n",
              "      <td>YOLO</td>\n",
              "      <td>96864.0</td>\n",
              "    </tr>\n",
              "  </tbody>\n",
              "</table>\n",
              "</div>\n",
              "      <button class=\"colab-df-convert\" onclick=\"convertToInteractive('df-71f8a77f-2e1f-47e9-8e00-ee4d0f8620ed')\"\n",
              "              title=\"Convert this dataframe to an interactive table.\"\n",
              "              style=\"display:none;\">\n",
              "        \n",
              "  <svg xmlns=\"http://www.w3.org/2000/svg\" height=\"24px\"viewBox=\"0 0 24 24\"\n",
              "       width=\"24px\">\n",
              "    <path d=\"M0 0h24v24H0V0z\" fill=\"none\"/>\n",
              "    <path d=\"M18.56 5.44l.94 2.06.94-2.06 2.06-.94-2.06-.94-.94-2.06-.94 2.06-2.06.94zm-11 1L8.5 8.5l.94-2.06 2.06-.94-2.06-.94L8.5 2.5l-.94 2.06-2.06.94zm10 10l.94 2.06.94-2.06 2.06-.94-2.06-.94-.94-2.06-.94 2.06-2.06.94z\"/><path d=\"M17.41 7.96l-1.37-1.37c-.4-.4-.92-.59-1.43-.59-.52 0-1.04.2-1.43.59L10.3 9.45l-7.72 7.72c-.78.78-.78 2.05 0 2.83L4 21.41c.39.39.9.59 1.41.59.51 0 1.02-.2 1.41-.59l7.78-7.78 2.81-2.81c.8-.78.8-2.07 0-2.86zM5.41 20L4 18.59l7.72-7.72 1.47 1.35L5.41 20z\"/>\n",
              "  </svg>\n",
              "      </button>\n",
              "      \n",
              "  <style>\n",
              "    .colab-df-container {\n",
              "      display:flex;\n",
              "      flex-wrap:wrap;\n",
              "      gap: 12px;\n",
              "    }\n",
              "\n",
              "    .colab-df-convert {\n",
              "      background-color: #E8F0FE;\n",
              "      border: none;\n",
              "      border-radius: 50%;\n",
              "      cursor: pointer;\n",
              "      display: none;\n",
              "      fill: #1967D2;\n",
              "      height: 32px;\n",
              "      padding: 0 0 0 0;\n",
              "      width: 32px;\n",
              "    }\n",
              "\n",
              "    .colab-df-convert:hover {\n",
              "      background-color: #E2EBFA;\n",
              "      box-shadow: 0px 1px 2px rgba(60, 64, 67, 0.3), 0px 1px 3px 1px rgba(60, 64, 67, 0.15);\n",
              "      fill: #174EA6;\n",
              "    }\n",
              "\n",
              "    [theme=dark] .colab-df-convert {\n",
              "      background-color: #3B4455;\n",
              "      fill: #D2E3FC;\n",
              "    }\n",
              "\n",
              "    [theme=dark] .colab-df-convert:hover {\n",
              "      background-color: #434B5C;\n",
              "      box-shadow: 0px 1px 3px 1px rgba(0, 0, 0, 0.15);\n",
              "      filter: drop-shadow(0px 1px 2px rgba(0, 0, 0, 0.3));\n",
              "      fill: #FFFFFF;\n",
              "    }\n",
              "  </style>\n",
              "\n",
              "      <script>\n",
              "        const buttonEl =\n",
              "          document.querySelector('#df-71f8a77f-2e1f-47e9-8e00-ee4d0f8620ed button.colab-df-convert');\n",
              "        buttonEl.style.display =\n",
              "          google.colab.kernel.accessAllowed ? 'block' : 'none';\n",
              "\n",
              "        async function convertToInteractive(key) {\n",
              "          const element = document.querySelector('#df-71f8a77f-2e1f-47e9-8e00-ee4d0f8620ed');\n",
              "          const dataTable =\n",
              "            await google.colab.kernel.invokeFunction('convertToInteractive',\n",
              "                                                     [key], {});\n",
              "          if (!dataTable) return;\n",
              "\n",
              "          const docLinkHtml = 'Like what you see? Visit the ' +\n",
              "            '<a target=\"_blank\" href=https://colab.research.google.com/notebooks/data_table.ipynb>data table notebook</a>'\n",
              "            + ' to learn more about interactive tables.';\n",
              "          element.innerHTML = '';\n",
              "          dataTable['output_type'] = 'display_data';\n",
              "          await google.colab.output.renderOutput(dataTable, element);\n",
              "          const docLink = document.createElement('div');\n",
              "          docLink.innerHTML = docLinkHtml;\n",
              "          element.appendChild(docLink);\n",
              "        }\n",
              "      </script>\n",
              "    </div>\n",
              "  </div>\n",
              "  "
            ]
          },
          "metadata": {},
          "execution_count": 74
        }
      ]
    },
    {
      "cell_type": "markdown",
      "source": [
        "Media dos itens da ultima campanha"
      ],
      "metadata": {
        "id": "1HywWGDo_T5q"
      }
    },
    {
      "cell_type": "code",
      "source": [
        "df_camp1 = df.groupby(['UltimaCampanha'])"
      ],
      "metadata": {
        "id": "_aV-QAVp-OfL"
      },
      "execution_count": null,
      "outputs": []
    },
    {
      "cell_type": "code",
      "source": [],
      "metadata": {
        "id": "Rs8e0GzJ_Z2w"
      },
      "execution_count": null,
      "outputs": []
    },
    {
      "cell_type": "code",
      "source": [
        "df_camp1"
      ],
      "metadata": {
        "colab": {
          "base_uri": "https://localhost:8080/"
        },
        "id": "F5pY0eRx-UTz",
        "outputId": "23ac6e17-0cb3-4d1f-c66b-30ae102d1dad"
      },
      "execution_count": null,
      "outputs": [
        {
          "output_type": "execute_result",
          "data": {
            "text/plain": [
              "<pandas.core.groupby.generic.DataFrameGroupBy object at 0x7f33bccd3bb0>"
            ]
          },
          "metadata": {},
          "execution_count": 61
        }
      ]
    },
    {
      "cell_type": "code",
      "source": [
        "df_camp1.mean()"
      ],
      "metadata": {
        "colab": {
          "base_uri": "https://localhost:8080/",
          "height": 207
        },
        "id": "qjGqaQ-V-avX",
        "outputId": "4cfebb5a-aeab-4e85-d4cb-b7c640e700a8"
      },
      "execution_count": null,
      "outputs": [
        {
          "output_type": "execute_result",
          "data": {
            "text/plain": [
              "                         ID  Ano_de_Nascimento  Renda_Familiar  Criancas  \\\n",
              "UltimaCampanha                                                             \n",
              "0               5622.009444        1968.698846    50839.132767  0.462225   \n",
              "1               5421.820359        1969.416168    60209.675676  0.341317   \n",
              "\n",
              "                Adolescentes  Ultima_Compra  NumComprasVinho  \\\n",
              "UltimaCampanha                                                 \n",
              "0                   0.541448      51.514690       269.104407   \n",
              "1                   0.305389      35.383234       502.703593   \n",
              "\n",
              "                NumComprasFrutas  NumComprasCarne  NumComprasPeixe  \\\n",
              "UltimaCampanha                                                       \n",
              "0                      24.216684       144.624344        34.980063   \n",
              "1                      38.203593       294.353293        52.050898   \n",
              "\n",
              "                NumComprasDoces  QtdeProdOuro  NumOfertaCompras  \\\n",
              "UltimaCampanha                                                    \n",
              "0                     25.035152     40.968520          2.323190   \n",
              "1                     38.634731     61.446108          2.335329   \n",
              "\n",
              "                NumComprasWeb  NumComprasCatalogo  NumComprasLoja  \\\n",
              "UltimaCampanha                                                      \n",
              "0                    3.911857            2.391920        5.736621   \n",
              "1                    5.071856            4.203593        6.095808   \n",
              "\n",
              "                NumVisitasWebMes  AceitouCamp3  AceitouCamp4  AceitouCamp5  \\\n",
              "UltimaCampanha                                                               \n",
              "0                       5.320567      0.045121      0.055089      0.037251   \n",
              "1                       5.293413      0.230539      0.185629      0.275449   \n",
              "\n",
              "                AceitouCamp1  AceitouCamp2  Reclamacoes  \n",
              "UltimaCampanha                                           \n",
              "0                   0.034103      0.005247     0.009444  \n",
              "1                   0.236527      0.059880     0.008982  "
            ],
            "text/html": [
              "\n",
              "  <div id=\"df-69d6a375-b2c0-4fe4-9445-8b7baf302a56\">\n",
              "    <div class=\"colab-df-container\">\n",
              "      <div>\n",
              "<style scoped>\n",
              "    .dataframe tbody tr th:only-of-type {\n",
              "        vertical-align: middle;\n",
              "    }\n",
              "\n",
              "    .dataframe tbody tr th {\n",
              "        vertical-align: top;\n",
              "    }\n",
              "\n",
              "    .dataframe thead th {\n",
              "        text-align: right;\n",
              "    }\n",
              "</style>\n",
              "<table border=\"1\" class=\"dataframe\">\n",
              "  <thead>\n",
              "    <tr style=\"text-align: right;\">\n",
              "      <th></th>\n",
              "      <th>ID</th>\n",
              "      <th>Ano_de_Nascimento</th>\n",
              "      <th>Renda_Familiar</th>\n",
              "      <th>Criancas</th>\n",
              "      <th>Adolescentes</th>\n",
              "      <th>Ultima_Compra</th>\n",
              "      <th>NumComprasVinho</th>\n",
              "      <th>NumComprasFrutas</th>\n",
              "      <th>NumComprasCarne</th>\n",
              "      <th>NumComprasPeixe</th>\n",
              "      <th>NumComprasDoces</th>\n",
              "      <th>QtdeProdOuro</th>\n",
              "      <th>NumOfertaCompras</th>\n",
              "      <th>NumComprasWeb</th>\n",
              "      <th>NumComprasCatalogo</th>\n",
              "      <th>NumComprasLoja</th>\n",
              "      <th>NumVisitasWebMes</th>\n",
              "      <th>AceitouCamp3</th>\n",
              "      <th>AceitouCamp4</th>\n",
              "      <th>AceitouCamp5</th>\n",
              "      <th>AceitouCamp1</th>\n",
              "      <th>AceitouCamp2</th>\n",
              "      <th>Reclamacoes</th>\n",
              "    </tr>\n",
              "    <tr>\n",
              "      <th>UltimaCampanha</th>\n",
              "      <th></th>\n",
              "      <th></th>\n",
              "      <th></th>\n",
              "      <th></th>\n",
              "      <th></th>\n",
              "      <th></th>\n",
              "      <th></th>\n",
              "      <th></th>\n",
              "      <th></th>\n",
              "      <th></th>\n",
              "      <th></th>\n",
              "      <th></th>\n",
              "      <th></th>\n",
              "      <th></th>\n",
              "      <th></th>\n",
              "      <th></th>\n",
              "      <th></th>\n",
              "      <th></th>\n",
              "      <th></th>\n",
              "      <th></th>\n",
              "      <th></th>\n",
              "      <th></th>\n",
              "      <th></th>\n",
              "    </tr>\n",
              "  </thead>\n",
              "  <tbody>\n",
              "    <tr>\n",
              "      <th>0</th>\n",
              "      <td>5622.009444</td>\n",
              "      <td>1968.698846</td>\n",
              "      <td>50839.132767</td>\n",
              "      <td>0.462225</td>\n",
              "      <td>0.541448</td>\n",
              "      <td>51.514690</td>\n",
              "      <td>269.104407</td>\n",
              "      <td>24.216684</td>\n",
              "      <td>144.624344</td>\n",
              "      <td>34.980063</td>\n",
              "      <td>25.035152</td>\n",
              "      <td>40.968520</td>\n",
              "      <td>2.323190</td>\n",
              "      <td>3.911857</td>\n",
              "      <td>2.391920</td>\n",
              "      <td>5.736621</td>\n",
              "      <td>5.320567</td>\n",
              "      <td>0.045121</td>\n",
              "      <td>0.055089</td>\n",
              "      <td>0.037251</td>\n",
              "      <td>0.034103</td>\n",
              "      <td>0.005247</td>\n",
              "      <td>0.009444</td>\n",
              "    </tr>\n",
              "    <tr>\n",
              "      <th>1</th>\n",
              "      <td>5421.820359</td>\n",
              "      <td>1969.416168</td>\n",
              "      <td>60209.675676</td>\n",
              "      <td>0.341317</td>\n",
              "      <td>0.305389</td>\n",
              "      <td>35.383234</td>\n",
              "      <td>502.703593</td>\n",
              "      <td>38.203593</td>\n",
              "      <td>294.353293</td>\n",
              "      <td>52.050898</td>\n",
              "      <td>38.634731</td>\n",
              "      <td>61.446108</td>\n",
              "      <td>2.335329</td>\n",
              "      <td>5.071856</td>\n",
              "      <td>4.203593</td>\n",
              "      <td>6.095808</td>\n",
              "      <td>5.293413</td>\n",
              "      <td>0.230539</td>\n",
              "      <td>0.185629</td>\n",
              "      <td>0.275449</td>\n",
              "      <td>0.236527</td>\n",
              "      <td>0.059880</td>\n",
              "      <td>0.008982</td>\n",
              "    </tr>\n",
              "  </tbody>\n",
              "</table>\n",
              "</div>\n",
              "      <button class=\"colab-df-convert\" onclick=\"convertToInteractive('df-69d6a375-b2c0-4fe4-9445-8b7baf302a56')\"\n",
              "              title=\"Convert this dataframe to an interactive table.\"\n",
              "              style=\"display:none;\">\n",
              "        \n",
              "  <svg xmlns=\"http://www.w3.org/2000/svg\" height=\"24px\"viewBox=\"0 0 24 24\"\n",
              "       width=\"24px\">\n",
              "    <path d=\"M0 0h24v24H0V0z\" fill=\"none\"/>\n",
              "    <path d=\"M18.56 5.44l.94 2.06.94-2.06 2.06-.94-2.06-.94-.94-2.06-.94 2.06-2.06.94zm-11 1L8.5 8.5l.94-2.06 2.06-.94-2.06-.94L8.5 2.5l-.94 2.06-2.06.94zm10 10l.94 2.06.94-2.06 2.06-.94-2.06-.94-.94-2.06-.94 2.06-2.06.94z\"/><path d=\"M17.41 7.96l-1.37-1.37c-.4-.4-.92-.59-1.43-.59-.52 0-1.04.2-1.43.59L10.3 9.45l-7.72 7.72c-.78.78-.78 2.05 0 2.83L4 21.41c.39.39.9.59 1.41.59.51 0 1.02-.2 1.41-.59l7.78-7.78 2.81-2.81c.8-.78.8-2.07 0-2.86zM5.41 20L4 18.59l7.72-7.72 1.47 1.35L5.41 20z\"/>\n",
              "  </svg>\n",
              "      </button>\n",
              "      \n",
              "  <style>\n",
              "    .colab-df-container {\n",
              "      display:flex;\n",
              "      flex-wrap:wrap;\n",
              "      gap: 12px;\n",
              "    }\n",
              "\n",
              "    .colab-df-convert {\n",
              "      background-color: #E8F0FE;\n",
              "      border: none;\n",
              "      border-radius: 50%;\n",
              "      cursor: pointer;\n",
              "      display: none;\n",
              "      fill: #1967D2;\n",
              "      height: 32px;\n",
              "      padding: 0 0 0 0;\n",
              "      width: 32px;\n",
              "    }\n",
              "\n",
              "    .colab-df-convert:hover {\n",
              "      background-color: #E2EBFA;\n",
              "      box-shadow: 0px 1px 2px rgba(60, 64, 67, 0.3), 0px 1px 3px 1px rgba(60, 64, 67, 0.15);\n",
              "      fill: #174EA6;\n",
              "    }\n",
              "\n",
              "    [theme=dark] .colab-df-convert {\n",
              "      background-color: #3B4455;\n",
              "      fill: #D2E3FC;\n",
              "    }\n",
              "\n",
              "    [theme=dark] .colab-df-convert:hover {\n",
              "      background-color: #434B5C;\n",
              "      box-shadow: 0px 1px 3px 1px rgba(0, 0, 0, 0.15);\n",
              "      filter: drop-shadow(0px 1px 2px rgba(0, 0, 0, 0.3));\n",
              "      fill: #FFFFFF;\n",
              "    }\n",
              "  </style>\n",
              "\n",
              "      <script>\n",
              "        const buttonEl =\n",
              "          document.querySelector('#df-69d6a375-b2c0-4fe4-9445-8b7baf302a56 button.colab-df-convert');\n",
              "        buttonEl.style.display =\n",
              "          google.colab.kernel.accessAllowed ? 'block' : 'none';\n",
              "\n",
              "        async function convertToInteractive(key) {\n",
              "          const element = document.querySelector('#df-69d6a375-b2c0-4fe4-9445-8b7baf302a56');\n",
              "          const dataTable =\n",
              "            await google.colab.kernel.invokeFunction('convertToInteractive',\n",
              "                                                     [key], {});\n",
              "          if (!dataTable) return;\n",
              "\n",
              "          const docLinkHtml = 'Like what you see? Visit the ' +\n",
              "            '<a target=\"_blank\" href=https://colab.research.google.com/notebooks/data_table.ipynb>data table notebook</a>'\n",
              "            + ' to learn more about interactive tables.';\n",
              "          element.innerHTML = '';\n",
              "          dataTable['output_type'] = 'display_data';\n",
              "          await google.colab.output.renderOutput(dataTable, element);\n",
              "          const docLink = document.createElement('div');\n",
              "          docLink.innerHTML = docLinkHtml;\n",
              "          element.appendChild(docLink);\n",
              "        }\n",
              "      </script>\n",
              "    </div>\n",
              "  </div>\n",
              "  "
            ]
          },
          "metadata": {},
          "execution_count": 62
        }
      ]
    },
    {
      "cell_type": "markdown",
      "source": [
        "Analise de pessoas com menos de 30 anos"
      ],
      "metadata": {
        "id": "F0dMgiMh_apJ"
      }
    },
    {
      "cell_type": "code",
      "source": [
        "f1 = df.Ano_de_Nascimento > 1989\n",
        "f2 = df.NumComprasVinho > 0\n",
        "df.vinho = df.loc[f1 & f2]"
      ],
      "metadata": {
        "colab": {
          "base_uri": "https://localhost:8080/"
        },
        "id": "3lLgMdjHCY9r",
        "outputId": "a0311c0f-f322-4c3b-98de-98dd0ba1746d"
      },
      "execution_count": null,
      "outputs": [
        {
          "output_type": "stream",
          "name": "stderr",
          "text": [
            "<ipython-input-82-6e5d5f79b155>:3: UserWarning: Pandas doesn't allow columns to be created via a new attribute name - see https://pandas.pydata.org/pandas-docs/stable/indexing.html#attribute-access\n",
            "  df.vinho = df.loc[f1 & f2]\n"
          ]
        }
      ]
    },
    {
      "cell_type": "code",
      "source": [
        "df.groupby(['Estado_Civil'])['NumComprasVinho'].sum().sort_values(ascending=False).plot.bar()"
      ],
      "metadata": {
        "colab": {
          "base_uri": "https://localhost:8080/",
          "height": 434
        },
        "id": "sU1SRbgzEGxd",
        "outputId": "eded840e-9127-44f2-988e-968094cee3b2"
      },
      "execution_count": null,
      "outputs": [
        {
          "output_type": "execute_result",
          "data": {
            "text/plain": [
              "<AxesSubplot:xlabel='Estado_Civil'>"
            ]
          },
          "metadata": {},
          "execution_count": 88
        },
        {
          "output_type": "display_data",
          "data": {
            "text/plain": [
              "<Figure size 432x288 with 1 Axes>"
            ],
            "image/png": "[encoded data removed]"
          },
          "metadata": {
            "needs_background": "light"
          }
        }
      ]
    },
    {
      "cell_type": "code",
      "source": [
        "df.groupby(['Educacao'])['NumComprasVinho'].sum().sort_values(ascending=False).plot.bar()"
      ],
      "metadata": {
        "colab": {
          "base_uri": "https://localhost:8080/",
          "height": 371
        },
        "id": "ifhxUP0NEUYn",
        "outputId": "60e5fd82-2b86-42b9-e124-019d7a7fce6a"
      },
      "execution_count": null,
      "outputs": [
        {
          "output_type": "execute_result",
          "data": {
            "text/plain": [
              "<AxesSubplot:xlabel='Educacao'>"
            ]
          },
          "metadata": {},
          "execution_count": 89
        },
        {
          "output_type": "display_data",
          "data": {
            "text/plain": [
              "<Figure size 432x288 with 1 Axes>"
            ],
            "image/png": "[encoded data removed]"
          },
          "metadata": {
            "needs_background": "light"
          }
        }
      ]
    }
  ]
}